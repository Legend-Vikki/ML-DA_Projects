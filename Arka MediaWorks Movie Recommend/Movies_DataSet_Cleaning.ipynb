{
 "cells": [
  {
   "cell_type": "markdown",
   "id": "e7e072a4",
   "metadata": {},
   "source": [
    "### Importing necessary Libraries!"
   ]
  },
  {
   "cell_type": "code",
   "execution_count": 1,
   "id": "29be4a6e",
   "metadata": {},
   "outputs": [],
   "source": [
    "import numpy as np, pandas as pd\n",
    "import seaborn as sns, matplotlib.pyplot as plt\n",
    "import plotly.express as px\n",
    "import ast\n",
    "\n",
    "import warnings\n",
    "warnings.filterwarnings('ignore')\n",
    "\n",
    "pd.set_option('display.max_columns', 100)\n",
    "pd.set_option('display.width', 1000)\n",
    "pd.set_option('display.max_rows', 50)\n",
    "pd.set_option('display.float_format', '{:.2f}'.format)"
   ]
  },
  {
   "cell_type": "markdown",
   "id": "452b5f92",
   "metadata": {},
   "source": [
    "### Talking about Datasets"
   ]
  },
  {
   "cell_type": "markdown",
   "id": "efb6f746",
   "metadata": {},
   "source": [
    "##### As we have 7 DataSets and we have to work upon them carefully as we need!\n",
    "\n",
    "    So Working upon the Creditors dataframe first then will shift on other :\n",
    "        1 About this given dataset there is 3 columns >> Cast >> Crew >> ID\n",
    "            NOTE -- in the creditors columns we have some unique type of entries they are in form of\n",
    "                    String > List > Dictionary ** n \n",
    "            So we need to segregate the values as per our need."
   ]
  },
  {
   "cell_type": "markdown",
   "id": "fb6399d7",
   "metadata": {},
   "source": [
    "##### Creditors Dataset."
   ]
  },
  {
   "cell_type": "code",
   "execution_count": 2,
   "id": "0a57aff4",
   "metadata": {},
   "outputs": [
    {
     "data": {
      "text/html": [
       "<div>\n",
       "<style scoped>\n",
       "    .dataframe tbody tr th:only-of-type {\n",
       "        vertical-align: middle;\n",
       "    }\n",
       "\n",
       "    .dataframe tbody tr th {\n",
       "        vertical-align: top;\n",
       "    }\n",
       "\n",
       "    .dataframe thead th {\n",
       "        text-align: right;\n",
       "    }\n",
       "</style>\n",
       "<table border=\"1\" class=\"dataframe\">\n",
       "  <thead>\n",
       "    <tr style=\"text-align: right;\">\n",
       "      <th></th>\n",
       "      <th>cast</th>\n",
       "      <th>crew</th>\n",
       "      <th>id</th>\n",
       "    </tr>\n",
       "  </thead>\n",
       "  <tbody>\n",
       "    <tr>\n",
       "      <th>0</th>\n",
       "      <td>[{'cast_id': 14, 'character': 'Woody (voice)',...</td>\n",
       "      <td>[{'credit_id': '52fe4284c3a36847f8024f49', 'de...</td>\n",
       "      <td>862</td>\n",
       "    </tr>\n",
       "    <tr>\n",
       "      <th>1</th>\n",
       "      <td>[{'cast_id': 1, 'character': 'Alan Parrish', '...</td>\n",
       "      <td>[{'credit_id': '52fe44bfc3a36847f80a7cd1', 'de...</td>\n",
       "      <td>8844</td>\n",
       "    </tr>\n",
       "    <tr>\n",
       "      <th>2</th>\n",
       "      <td>[{'cast_id': 2, 'character': 'Max Goldman', 'c...</td>\n",
       "      <td>[{'credit_id': '52fe466a9251416c75077a89', 'de...</td>\n",
       "      <td>15602</td>\n",
       "    </tr>\n",
       "    <tr>\n",
       "      <th>3</th>\n",
       "      <td>[{'cast_id': 1, 'character': \"Savannah 'Vannah...</td>\n",
       "      <td>[{'credit_id': '52fe44779251416c91011acb', 'de...</td>\n",
       "      <td>31357</td>\n",
       "    </tr>\n",
       "    <tr>\n",
       "      <th>4</th>\n",
       "      <td>[{'cast_id': 1, 'character': 'George Banks', '...</td>\n",
       "      <td>[{'credit_id': '52fe44959251416c75039ed7', 'de...</td>\n",
       "      <td>11862</td>\n",
       "    </tr>\n",
       "  </tbody>\n",
       "</table>\n",
       "</div>"
      ],
      "text/plain": [
       "                                                cast                                               crew     id\n",
       "0  [{'cast_id': 14, 'character': 'Woody (voice)',...  [{'credit_id': '52fe4284c3a36847f8024f49', 'de...    862\n",
       "1  [{'cast_id': 1, 'character': 'Alan Parrish', '...  [{'credit_id': '52fe44bfc3a36847f80a7cd1', 'de...   8844\n",
       "2  [{'cast_id': 2, 'character': 'Max Goldman', 'c...  [{'credit_id': '52fe466a9251416c75077a89', 'de...  15602\n",
       "3  [{'cast_id': 1, 'character': \"Savannah 'Vannah...  [{'credit_id': '52fe44779251416c91011acb', 'de...  31357\n",
       "4  [{'cast_id': 1, 'character': 'George Banks', '...  [{'credit_id': '52fe44959251416c75039ed7', 'de...  11862"
      ]
     },
     "execution_count": 2,
     "metadata": {},
     "output_type": "execute_result"
    }
   ],
   "source": [
    "credits = pd.read_csv('DataSets/credits.csv')\n",
    "credits.head()"
   ]
  },
  {
   "cell_type": "code",
   "execution_count": 3,
   "id": "6ba7154b",
   "metadata": {},
   "outputs": [
    {
     "name": "stdout",
     "output_type": "stream",
     "text": [
      "<class 'pandas.core.frame.DataFrame'>\n",
      "RangeIndex: 45476 entries, 0 to 45475\n",
      "Data columns (total 3 columns):\n",
      " #   Column  Non-Null Count  Dtype \n",
      "---  ------  --------------  ----- \n",
      " 0   cast    45476 non-null  object\n",
      " 1   crew    45476 non-null  object\n",
      " 2   id      45476 non-null  int64 \n",
      "dtypes: int64(1), object(2)\n",
      "memory usage: 1.0+ MB\n"
     ]
    }
   ],
   "source": [
    "credits.info()"
   ]
  },
  {
   "cell_type": "code",
   "execution_count": 4,
   "id": "a38d4b88",
   "metadata": {},
   "outputs": [
    {
     "data": {
      "text/plain": [
       "cast    0\n",
       "crew    0\n",
       "id      0\n",
       "dtype: int64"
      ]
     },
     "execution_count": 4,
     "metadata": {},
     "output_type": "execute_result"
    }
   ],
   "source": [
    "credits.isnull().sum()"
   ]
  },
  {
   "cell_type": "code",
   "execution_count": 5,
   "id": "93c08e22",
   "metadata": {},
   "outputs": [
    {
     "data": {
      "text/plain": [
       "(45476, 3)"
      ]
     },
     "execution_count": 5,
     "metadata": {},
     "output_type": "execute_result"
    }
   ],
   "source": [
    "credits.shape"
   ]
  },
  {
   "cell_type": "markdown",
   "id": "59df7b74",
   "metadata": {},
   "source": [
    "    Now Working upon the Keywords dataframe next then will shift on other :\n",
    "        3 About this given dataset there is 2 columns >> keywords >> ID\n",
    "            NOTE -- in the keywords columns we have some unique type of entries they are in form of\n",
    "                    String > List > Dictionary ** n \n",
    "            So we need to segregate this too."
   ]
  },
  {
   "cell_type": "markdown",
   "id": "3860107a",
   "metadata": {},
   "source": [
    "##### Keywords Dataset"
   ]
  },
  {
   "cell_type": "code",
   "execution_count": 6,
   "id": "195f25a6",
   "metadata": {},
   "outputs": [
    {
     "data": {
      "text/html": [
       "<div>\n",
       "<style scoped>\n",
       "    .dataframe tbody tr th:only-of-type {\n",
       "        vertical-align: middle;\n",
       "    }\n",
       "\n",
       "    .dataframe tbody tr th {\n",
       "        vertical-align: top;\n",
       "    }\n",
       "\n",
       "    .dataframe thead th {\n",
       "        text-align: right;\n",
       "    }\n",
       "</style>\n",
       "<table border=\"1\" class=\"dataframe\">\n",
       "  <thead>\n",
       "    <tr style=\"text-align: right;\">\n",
       "      <th></th>\n",
       "      <th>id</th>\n",
       "      <th>keywords</th>\n",
       "    </tr>\n",
       "  </thead>\n",
       "  <tbody>\n",
       "    <tr>\n",
       "      <th>0</th>\n",
       "      <td>862</td>\n",
       "      <td>[{'id': 931, 'name': 'jealousy'}, {'id': 4290,...</td>\n",
       "    </tr>\n",
       "    <tr>\n",
       "      <th>1</th>\n",
       "      <td>8844</td>\n",
       "      <td>[{'id': 10090, 'name': 'board game'}, {'id': 1...</td>\n",
       "    </tr>\n",
       "    <tr>\n",
       "      <th>2</th>\n",
       "      <td>15602</td>\n",
       "      <td>[{'id': 1495, 'name': 'fishing'}, {'id': 12392...</td>\n",
       "    </tr>\n",
       "    <tr>\n",
       "      <th>3</th>\n",
       "      <td>31357</td>\n",
       "      <td>[{'id': 818, 'name': 'based on novel'}, {'id':...</td>\n",
       "    </tr>\n",
       "    <tr>\n",
       "      <th>4</th>\n",
       "      <td>11862</td>\n",
       "      <td>[{'id': 1009, 'name': 'baby'}, {'id': 1599, 'n...</td>\n",
       "    </tr>\n",
       "  </tbody>\n",
       "</table>\n",
       "</div>"
      ],
      "text/plain": [
       "      id                                           keywords\n",
       "0    862  [{'id': 931, 'name': 'jealousy'}, {'id': 4290,...\n",
       "1   8844  [{'id': 10090, 'name': 'board game'}, {'id': 1...\n",
       "2  15602  [{'id': 1495, 'name': 'fishing'}, {'id': 12392...\n",
       "3  31357  [{'id': 818, 'name': 'based on novel'}, {'id':...\n",
       "4  11862  [{'id': 1009, 'name': 'baby'}, {'id': 1599, 'n..."
      ]
     },
     "execution_count": 6,
     "metadata": {},
     "output_type": "execute_result"
    }
   ],
   "source": [
    "keywords = pd.read_csv('DataSets/keywords.csv')\n",
    "keywords.head()"
   ]
  },
  {
   "cell_type": "code",
   "execution_count": 7,
   "id": "1d7017d4",
   "metadata": {},
   "outputs": [
    {
     "name": "stdout",
     "output_type": "stream",
     "text": [
      "<class 'pandas.core.frame.DataFrame'>\n",
      "RangeIndex: 46419 entries, 0 to 46418\n",
      "Data columns (total 2 columns):\n",
      " #   Column    Non-Null Count  Dtype \n",
      "---  ------    --------------  ----- \n",
      " 0   id        46419 non-null  int64 \n",
      " 1   keywords  46419 non-null  object\n",
      "dtypes: int64(1), object(1)\n",
      "memory usage: 725.4+ KB\n"
     ]
    }
   ],
   "source": [
    "keywords.info()"
   ]
  },
  {
   "cell_type": "code",
   "execution_count": 8,
   "id": "19a08e1d",
   "metadata": {},
   "outputs": [
    {
     "data": {
      "text/plain": [
       "id          0\n",
       "keywords    0\n",
       "dtype: int64"
      ]
     },
     "execution_count": 8,
     "metadata": {},
     "output_type": "execute_result"
    }
   ],
   "source": [
    "keywords.isnull().sum()"
   ]
  },
  {
   "cell_type": "code",
   "execution_count": 9,
   "id": "4efb153b",
   "metadata": {},
   "outputs": [
    {
     "data": {
      "text/plain": [
       "(46419, 2)"
      ]
     },
     "execution_count": 9,
     "metadata": {},
     "output_type": "execute_result"
    }
   ],
   "source": [
    "keywords.shape"
   ]
  },
  {
   "cell_type": "markdown",
   "id": "64a078b0",
   "metadata": {},
   "source": [
    "    Now Working upon the links and links_small dataframe next then will shift on other :\n",
    "        3, 4 About this given dataset there is 2 columns >> movieId >> imdbId >> tmdbId\n",
    "            NOTE -- This column/Features contains the Ids of the column only most for merging the columns\n",
    "                    so this is is most important for merging.\n",
    "            The merge function is also have a roleplay too."
   ]
  },
  {
   "cell_type": "markdown",
   "id": "ebd8d4d6",
   "metadata": {},
   "source": [
    "##### Links dataset."
   ]
  },
  {
   "cell_type": "code",
   "execution_count": 10,
   "id": "b1a57db8",
   "metadata": {},
   "outputs": [],
   "source": [
    "link = pd.read_csv('DataSets/links.csv')\n",
    "link_small = pd.read_csv('DataSets/links_small.csv')"
   ]
  },
  {
   "cell_type": "code",
   "execution_count": 11,
   "id": "ca9ada8d",
   "metadata": {},
   "outputs": [
    {
     "data": {
      "text/html": [
       "<div>\n",
       "<style scoped>\n",
       "    .dataframe tbody tr th:only-of-type {\n",
       "        vertical-align: middle;\n",
       "    }\n",
       "\n",
       "    .dataframe tbody tr th {\n",
       "        vertical-align: top;\n",
       "    }\n",
       "\n",
       "    .dataframe thead th {\n",
       "        text-align: right;\n",
       "    }\n",
       "</style>\n",
       "<table border=\"1\" class=\"dataframe\">\n",
       "  <thead>\n",
       "    <tr style=\"text-align: right;\">\n",
       "      <th></th>\n",
       "      <th>movieId</th>\n",
       "      <th>imdbId</th>\n",
       "      <th>tmdbId</th>\n",
       "    </tr>\n",
       "  </thead>\n",
       "  <tbody>\n",
       "    <tr>\n",
       "      <th>0</th>\n",
       "      <td>1</td>\n",
       "      <td>114709</td>\n",
       "      <td>862.00</td>\n",
       "    </tr>\n",
       "    <tr>\n",
       "      <th>1</th>\n",
       "      <td>2</td>\n",
       "      <td>113497</td>\n",
       "      <td>8844.00</td>\n",
       "    </tr>\n",
       "    <tr>\n",
       "      <th>2</th>\n",
       "      <td>3</td>\n",
       "      <td>113228</td>\n",
       "      <td>15602.00</td>\n",
       "    </tr>\n",
       "    <tr>\n",
       "      <th>3</th>\n",
       "      <td>4</td>\n",
       "      <td>114885</td>\n",
       "      <td>31357.00</td>\n",
       "    </tr>\n",
       "    <tr>\n",
       "      <th>4</th>\n",
       "      <td>5</td>\n",
       "      <td>113041</td>\n",
       "      <td>11862.00</td>\n",
       "    </tr>\n",
       "  </tbody>\n",
       "</table>\n",
       "</div>"
      ],
      "text/plain": [
       "   movieId  imdbId   tmdbId\n",
       "0        1  114709   862.00\n",
       "1        2  113497  8844.00\n",
       "2        3  113228 15602.00\n",
       "3        4  114885 31357.00\n",
       "4        5  113041 11862.00"
      ]
     },
     "execution_count": 11,
     "metadata": {},
     "output_type": "execute_result"
    }
   ],
   "source": [
    "link.head()"
   ]
  },
  {
   "cell_type": "code",
   "execution_count": 12,
   "id": "c547b924",
   "metadata": {},
   "outputs": [
    {
     "data": {
      "text/html": [
       "<div>\n",
       "<style scoped>\n",
       "    .dataframe tbody tr th:only-of-type {\n",
       "        vertical-align: middle;\n",
       "    }\n",
       "\n",
       "    .dataframe tbody tr th {\n",
       "        vertical-align: top;\n",
       "    }\n",
       "\n",
       "    .dataframe thead th {\n",
       "        text-align: right;\n",
       "    }\n",
       "</style>\n",
       "<table border=\"1\" class=\"dataframe\">\n",
       "  <thead>\n",
       "    <tr style=\"text-align: right;\">\n",
       "      <th></th>\n",
       "      <th>movieId</th>\n",
       "      <th>imdbId</th>\n",
       "      <th>tmdbId</th>\n",
       "    </tr>\n",
       "  </thead>\n",
       "  <tbody>\n",
       "    <tr>\n",
       "      <th>0</th>\n",
       "      <td>1</td>\n",
       "      <td>114709</td>\n",
       "      <td>862.00</td>\n",
       "    </tr>\n",
       "    <tr>\n",
       "      <th>1</th>\n",
       "      <td>2</td>\n",
       "      <td>113497</td>\n",
       "      <td>8844.00</td>\n",
       "    </tr>\n",
       "    <tr>\n",
       "      <th>2</th>\n",
       "      <td>3</td>\n",
       "      <td>113228</td>\n",
       "      <td>15602.00</td>\n",
       "    </tr>\n",
       "    <tr>\n",
       "      <th>3</th>\n",
       "      <td>4</td>\n",
       "      <td>114885</td>\n",
       "      <td>31357.00</td>\n",
       "    </tr>\n",
       "    <tr>\n",
       "      <th>4</th>\n",
       "      <td>5</td>\n",
       "      <td>113041</td>\n",
       "      <td>11862.00</td>\n",
       "    </tr>\n",
       "  </tbody>\n",
       "</table>\n",
       "</div>"
      ],
      "text/plain": [
       "   movieId  imdbId   tmdbId\n",
       "0        1  114709   862.00\n",
       "1        2  113497  8844.00\n",
       "2        3  113228 15602.00\n",
       "3        4  114885 31357.00\n",
       "4        5  113041 11862.00"
      ]
     },
     "execution_count": 12,
     "metadata": {},
     "output_type": "execute_result"
    }
   ],
   "source": [
    "link_small.head()"
   ]
  },
  {
   "cell_type": "code",
   "execution_count": 13,
   "id": "e74474b8",
   "metadata": {},
   "outputs": [
    {
     "name": "stdout",
     "output_type": "stream",
     "text": [
      "<class 'pandas.core.frame.DataFrame'>\n",
      "RangeIndex: 45843 entries, 0 to 45842\n",
      "Data columns (total 3 columns):\n",
      " #   Column   Non-Null Count  Dtype  \n",
      "---  ------   --------------  -----  \n",
      " 0   movieId  45843 non-null  int64  \n",
      " 1   imdbId   45843 non-null  int64  \n",
      " 2   tmdbId   45624 non-null  float64\n",
      "dtypes: float64(1), int64(2)\n",
      "memory usage: 1.0 MB\n"
     ]
    }
   ],
   "source": [
    "link.info()"
   ]
  },
  {
   "cell_type": "code",
   "execution_count": 14,
   "id": "76d61c89",
   "metadata": {},
   "outputs": [
    {
     "name": "stdout",
     "output_type": "stream",
     "text": [
      "The shape of Link is 45843 and 3 and\n",
      "Link_small is 9125 and 3\n"
     ]
    }
   ],
   "source": [
    "print(f\"The shape of Link is {link.shape[0]} and {link.shape[1]} and\\nLink_small is {link_small.shape[0]} and {link_small.shape[1]}\")"
   ]
  },
  {
   "cell_type": "markdown",
   "id": "49e1338c",
   "metadata": {},
   "source": [
    "    The Links small dataset is part of the Links dataset and has the same data.\n",
    "    We can ignore one of them for analysis, as having both would be unnecessary."
   ]
  },
  {
   "cell_type": "markdown",
   "id": "db675103",
   "metadata": {},
   "source": [
    "    Now Working upon the ratings and ratings_small dataframe next then will shift on other :\n",
    "        5, 6 About this given dataset there is 2 columns >> userId >> movieId >> rating >> timestamp\n",
    "            NOTE -- This column/Features contains the rating and the timestamp of the movies. This column must\n",
    "                    be useful for the movie recommendataion as the ratings describe the movies very much. "
   ]
  },
  {
   "cell_type": "markdown",
   "id": "1ebdc099",
   "metadata": {},
   "source": [
    "##### Ratings Dataset!"
   ]
  },
  {
   "cell_type": "code",
   "execution_count": 15,
   "id": "36777d87",
   "metadata": {},
   "outputs": [],
   "source": [
    "rating = pd.read_csv('DataSets/ratings.csv')\n",
    "rating_small = pd.read_csv('DataSets/ratings_small.csv')"
   ]
  },
  {
   "cell_type": "code",
   "execution_count": 16,
   "id": "ebc7cac2",
   "metadata": {},
   "outputs": [
    {
     "ename": "TypeError",
     "evalue": "'tuple' object is not callable",
     "output_type": "error",
     "traceback": [
      "\u001b[1;31m---------------------------------------------------------------------------\u001b[0m",
      "\u001b[1;31mTypeError\u001b[0m                                 Traceback (most recent call last)",
      "Cell \u001b[1;32mIn[16], line 1\u001b[0m\n\u001b[1;32m----> 1\u001b[0m rating\u001b[38;5;241m.\u001b[39mshape()\n",
      "\u001b[1;31mTypeError\u001b[0m: 'tuple' object is not callable"
     ]
    }
   ],
   "source": [
    "rating.shape()"
   ]
  },
  {
   "cell_type": "code",
   "execution_count": 17,
   "id": "cb795726",
   "metadata": {},
   "outputs": [
    {
     "data": {
      "text/plain": [
       "(100004, 4)"
      ]
     },
     "execution_count": 17,
     "metadata": {},
     "output_type": "execute_result"
    }
   ],
   "source": [
    "rating_small.shape"
   ]
  },
  {
   "cell_type": "markdown",
   "id": "8d922d9e",
   "metadata": {},
   "source": [
    "    The ratings small dataset is same as a part of the ratings dataset and has the same data.\n",
    "    We can ignore one of them for analysis, as having both would be unnecessary."
   ]
  },
  {
   "cell_type": "markdown",
   "id": "430b6eaa",
   "metadata": {},
   "source": [
    "    Now Working upon the main dataframe movies and this is the most important one :\n",
    "        7 About this given dataset there is 24 Columns and the all are not so much important to us : \n",
    "            NOTE -- This dataset is a metadataset and stores all the important information of the data so its \n",
    "            the most important one."
   ]
  },
  {
   "cell_type": "markdown",
   "id": "56e709f0",
   "metadata": {},
   "source": [
    "##### Movies Meta Data"
   ]
  },
  {
   "cell_type": "code",
   "execution_count": 18,
   "id": "9382fdc7",
   "metadata": {},
   "outputs": [
    {
     "data": {
      "text/html": [
       "<div>\n",
       "<style scoped>\n",
       "    .dataframe tbody tr th:only-of-type {\n",
       "        vertical-align: middle;\n",
       "    }\n",
       "\n",
       "    .dataframe tbody tr th {\n",
       "        vertical-align: top;\n",
       "    }\n",
       "\n",
       "    .dataframe thead th {\n",
       "        text-align: right;\n",
       "    }\n",
       "</style>\n",
       "<table border=\"1\" class=\"dataframe\">\n",
       "  <thead>\n",
       "    <tr style=\"text-align: right;\">\n",
       "      <th></th>\n",
       "      <th>adult</th>\n",
       "      <th>belongs_to_collection</th>\n",
       "      <th>budget</th>\n",
       "      <th>genres</th>\n",
       "      <th>homepage</th>\n",
       "      <th>id</th>\n",
       "      <th>imdb_id</th>\n",
       "      <th>original_language</th>\n",
       "      <th>original_title</th>\n",
       "      <th>overview</th>\n",
       "      <th>popularity</th>\n",
       "      <th>poster_path</th>\n",
       "      <th>production_companies</th>\n",
       "      <th>production_countries</th>\n",
       "      <th>release_date</th>\n",
       "      <th>revenue</th>\n",
       "      <th>runtime</th>\n",
       "      <th>spoken_languages</th>\n",
       "      <th>status</th>\n",
       "      <th>tagline</th>\n",
       "      <th>title</th>\n",
       "      <th>video</th>\n",
       "      <th>vote_average</th>\n",
       "      <th>vote_count</th>\n",
       "    </tr>\n",
       "  </thead>\n",
       "  <tbody>\n",
       "    <tr>\n",
       "      <th>0</th>\n",
       "      <td>False</td>\n",
       "      <td>{'id': 10194, 'name': 'Toy Story Collection', ...</td>\n",
       "      <td>30000000</td>\n",
       "      <td>[{'id': 16, 'name': 'Animation'}, {'id': 35, '...</td>\n",
       "      <td>http://toystory.disney.com/toy-story</td>\n",
       "      <td>862</td>\n",
       "      <td>tt0114709</td>\n",
       "      <td>en</td>\n",
       "      <td>Toy Story</td>\n",
       "      <td>Led by Woody, Andy's toys live happily in his ...</td>\n",
       "      <td>21.95</td>\n",
       "      <td>/rhIRbceoE9lR4veEXuwCC2wARtG.jpg</td>\n",
       "      <td>[{'name': 'Pixar Animation Studios', 'id': 3}]</td>\n",
       "      <td>[{'iso_3166_1': 'US', 'name': 'United States o...</td>\n",
       "      <td>1995-10-30</td>\n",
       "      <td>373554033.00</td>\n",
       "      <td>81.00</td>\n",
       "      <td>[{'iso_639_1': 'en', 'name': 'English'}]</td>\n",
       "      <td>Released</td>\n",
       "      <td>NaN</td>\n",
       "      <td>Toy Story</td>\n",
       "      <td>False</td>\n",
       "      <td>7.70</td>\n",
       "      <td>5415.00</td>\n",
       "    </tr>\n",
       "  </tbody>\n",
       "</table>\n",
       "</div>"
      ],
      "text/plain": [
       "   adult                              belongs_to_collection    budget                                             genres                              homepage   id    imdb_id original_language original_title                                           overview popularity                       poster_path                            production_companies                               production_countries release_date      revenue  runtime                          spoken_languages    status tagline      title  video  vote_average  vote_count\n",
       "0  False  {'id': 10194, 'name': 'Toy Story Collection', ...  30000000  [{'id': 16, 'name': 'Animation'}, {'id': 35, '...  http://toystory.disney.com/toy-story  862  tt0114709                en      Toy Story  Led by Woody, Andy's toys live happily in his ...      21.95  /rhIRbceoE9lR4veEXuwCC2wARtG.jpg  [{'name': 'Pixar Animation Studios', 'id': 3}]  [{'iso_3166_1': 'US', 'name': 'United States o...   1995-10-30 373554033.00    81.00  [{'iso_639_1': 'en', 'name': 'English'}]  Released     NaN  Toy Story  False          7.70     5415.00"
      ]
     },
     "execution_count": 18,
     "metadata": {},
     "output_type": "execute_result"
    }
   ],
   "source": [
    "movies = pd.read_csv('DataSets/movies_metadata.csv')\n",
    "movies.head(1)"
   ]
  },
  {
   "cell_type": "code",
   "execution_count": 19,
   "id": "05b47747",
   "metadata": {},
   "outputs": [
    {
     "data": {
      "text/plain": [
       "(45466, 24)"
      ]
     },
     "execution_count": 19,
     "metadata": {},
     "output_type": "execute_result"
    }
   ],
   "source": [
    "movies.shape"
   ]
  },
  {
   "cell_type": "code",
   "execution_count": 20,
   "id": "2d368a82",
   "metadata": {},
   "outputs": [
    {
     "name": "stdout",
     "output_type": "stream",
     "text": [
      "<class 'pandas.core.frame.DataFrame'>\n",
      "RangeIndex: 45466 entries, 0 to 45465\n",
      "Data columns (total 24 columns):\n",
      " #   Column                 Non-Null Count  Dtype  \n",
      "---  ------                 --------------  -----  \n",
      " 0   adult                  45466 non-null  object \n",
      " 1   belongs_to_collection  4494 non-null   object \n",
      " 2   budget                 45466 non-null  object \n",
      " 3   genres                 45466 non-null  object \n",
      " 4   homepage               7782 non-null   object \n",
      " 5   id                     45466 non-null  object \n",
      " 6   imdb_id                45449 non-null  object \n",
      " 7   original_language      45455 non-null  object \n",
      " 8   original_title         45466 non-null  object \n",
      " 9   overview               44512 non-null  object \n",
      " 10  popularity             45461 non-null  object \n",
      " 11  poster_path            45080 non-null  object \n",
      " 12  production_companies   45463 non-null  object \n",
      " 13  production_countries   45463 non-null  object \n",
      " 14  release_date           45379 non-null  object \n",
      " 15  revenue                45460 non-null  float64\n",
      " 16  runtime                45203 non-null  float64\n",
      " 17  spoken_languages       45460 non-null  object \n",
      " 18  status                 45379 non-null  object \n",
      " 19  tagline                20412 non-null  object \n",
      " 20  title                  45460 non-null  object \n",
      " 21  video                  45460 non-null  object \n",
      " 22  vote_average           45460 non-null  float64\n",
      " 23  vote_count             45460 non-null  float64\n",
      "dtypes: float64(4), object(20)\n",
      "memory usage: 8.3+ MB\n"
     ]
    }
   ],
   "source": [
    "movies.info()"
   ]
  },
  {
   "cell_type": "code",
   "execution_count": 21,
   "id": "8400c6db",
   "metadata": {},
   "outputs": [
    {
     "data": {
      "text/plain": [
       "belongs_to_collection    40972\n",
       "homepage                 37684\n",
       "tagline                  25054\n",
       "overview                   954\n",
       "poster_path                386\n",
       "runtime                    263\n",
       "release_date                87\n",
       "status                      87\n",
       "dtype: int64"
      ]
     },
     "execution_count": 21,
     "metadata": {},
     "output_type": "execute_result"
    }
   ],
   "source": [
    "df_null = movies.isnull().sum()\n",
    "df_null[df_null > 50].sort_values(ascending = False)"
   ]
  },
  {
   "cell_type": "markdown",
   "id": "5316aca1",
   "metadata": {},
   "source": [
    "    We'll this seems that there are some Null values in the features so may had to resolve it as per our need.\n",
    "    Before Cleaning lets make the all merging items."
   ]
  },
  {
   "cell_type": "markdown",
   "id": "9c99c343",
   "metadata": {},
   "source": [
    "##### Merging the Datasets to make it one."
   ]
  },
  {
   "cell_type": "code",
   "execution_count": 22,
   "id": "fec1d443",
   "metadata": {},
   "outputs": [
    {
     "data": {
      "text/html": [
       "<div>\n",
       "<style scoped>\n",
       "    .dataframe tbody tr th:only-of-type {\n",
       "        vertical-align: middle;\n",
       "    }\n",
       "\n",
       "    .dataframe tbody tr th {\n",
       "        vertical-align: top;\n",
       "    }\n",
       "\n",
       "    .dataframe thead th {\n",
       "        text-align: right;\n",
       "    }\n",
       "</style>\n",
       "<table border=\"1\" class=\"dataframe\">\n",
       "  <thead>\n",
       "    <tr style=\"text-align: right;\">\n",
       "      <th></th>\n",
       "      <th>cast</th>\n",
       "      <th>crew</th>\n",
       "      <th>id</th>\n",
       "      <th>keywords</th>\n",
       "    </tr>\n",
       "  </thead>\n",
       "  <tbody>\n",
       "    <tr>\n",
       "      <th>0</th>\n",
       "      <td>[{'cast_id': 14, 'character': 'Woody (voice)',...</td>\n",
       "      <td>[{'credit_id': '52fe4284c3a36847f8024f49', 'de...</td>\n",
       "      <td>862</td>\n",
       "      <td>[{'id': 931, 'name': 'jealousy'}, {'id': 4290,...</td>\n",
       "    </tr>\n",
       "    <tr>\n",
       "      <th>1</th>\n",
       "      <td>[{'cast_id': 1, 'character': 'Alan Parrish', '...</td>\n",
       "      <td>[{'credit_id': '52fe44bfc3a36847f80a7cd1', 'de...</td>\n",
       "      <td>8844</td>\n",
       "      <td>[{'id': 10090, 'name': 'board game'}, {'id': 1...</td>\n",
       "    </tr>\n",
       "    <tr>\n",
       "      <th>2</th>\n",
       "      <td>[{'cast_id': 2, 'character': 'Max Goldman', 'c...</td>\n",
       "      <td>[{'credit_id': '52fe466a9251416c75077a89', 'de...</td>\n",
       "      <td>15602</td>\n",
       "      <td>[{'id': 1495, 'name': 'fishing'}, {'id': 12392...</td>\n",
       "    </tr>\n",
       "    <tr>\n",
       "      <th>3</th>\n",
       "      <td>[{'cast_id': 1, 'character': \"Savannah 'Vannah...</td>\n",
       "      <td>[{'credit_id': '52fe44779251416c91011acb', 'de...</td>\n",
       "      <td>31357</td>\n",
       "      <td>[{'id': 818, 'name': 'based on novel'}, {'id':...</td>\n",
       "    </tr>\n",
       "    <tr>\n",
       "      <th>4</th>\n",
       "      <td>[{'cast_id': 1, 'character': 'George Banks', '...</td>\n",
       "      <td>[{'credit_id': '52fe44959251416c75039ed7', 'de...</td>\n",
       "      <td>11862</td>\n",
       "      <td>[{'id': 1009, 'name': 'baby'}, {'id': 1599, 'n...</td>\n",
       "    </tr>\n",
       "  </tbody>\n",
       "</table>\n",
       "</div>"
      ],
      "text/plain": [
       "                                                cast                                               crew     id                                           keywords\n",
       "0  [{'cast_id': 14, 'character': 'Woody (voice)',...  [{'credit_id': '52fe4284c3a36847f8024f49', 'de...    862  [{'id': 931, 'name': 'jealousy'}, {'id': 4290,...\n",
       "1  [{'cast_id': 1, 'character': 'Alan Parrish', '...  [{'credit_id': '52fe44bfc3a36847f80a7cd1', 'de...   8844  [{'id': 10090, 'name': 'board game'}, {'id': 1...\n",
       "2  [{'cast_id': 2, 'character': 'Max Goldman', 'c...  [{'credit_id': '52fe466a9251416c75077a89', 'de...  15602  [{'id': 1495, 'name': 'fishing'}, {'id': 12392...\n",
       "3  [{'cast_id': 1, 'character': \"Savannah 'Vannah...  [{'credit_id': '52fe44779251416c91011acb', 'de...  31357  [{'id': 818, 'name': 'based on novel'}, {'id':...\n",
       "4  [{'cast_id': 1, 'character': 'George Banks', '...  [{'credit_id': '52fe44959251416c75039ed7', 'de...  11862  [{'id': 1009, 'name': 'baby'}, {'id': 1599, 'n..."
      ]
     },
     "execution_count": 22,
     "metadata": {},
     "output_type": "execute_result"
    }
   ],
   "source": [
    "credits  = credits.merge(keywords, on = 'id')\n",
    "credits.head(5)"
   ]
  },
  {
   "cell_type": "code",
   "execution_count": 23,
   "id": "88669bc6",
   "metadata": {},
   "outputs": [
    {
     "data": {
      "text/html": [
       "<div>\n",
       "<style scoped>\n",
       "    .dataframe tbody tr th:only-of-type {\n",
       "        vertical-align: middle;\n",
       "    }\n",
       "\n",
       "    .dataframe tbody tr th {\n",
       "        vertical-align: top;\n",
       "    }\n",
       "\n",
       "    .dataframe thead th {\n",
       "        text-align: right;\n",
       "    }\n",
       "</style>\n",
       "<table border=\"1\" class=\"dataframe\">\n",
       "  <thead>\n",
       "    <tr style=\"text-align: right;\">\n",
       "      <th></th>\n",
       "      <th>movieId</th>\n",
       "      <th>imdbId</th>\n",
       "      <th>tmdbId</th>\n",
       "      <th>userId</th>\n",
       "      <th>rating</th>\n",
       "      <th>timestamp</th>\n",
       "    </tr>\n",
       "  </thead>\n",
       "  <tbody>\n",
       "    <tr>\n",
       "      <th>0</th>\n",
       "      <td>1</td>\n",
       "      <td>114709</td>\n",
       "      <td>862.00</td>\n",
       "      <td>7</td>\n",
       "      <td>3.00</td>\n",
       "      <td>851866703</td>\n",
       "    </tr>\n",
       "    <tr>\n",
       "      <th>1</th>\n",
       "      <td>1</td>\n",
       "      <td>114709</td>\n",
       "      <td>862.00</td>\n",
       "      <td>9</td>\n",
       "      <td>4.00</td>\n",
       "      <td>938629179</td>\n",
       "    </tr>\n",
       "    <tr>\n",
       "      <th>2</th>\n",
       "      <td>1</td>\n",
       "      <td>114709</td>\n",
       "      <td>862.00</td>\n",
       "      <td>13</td>\n",
       "      <td>5.00</td>\n",
       "      <td>1331380058</td>\n",
       "    </tr>\n",
       "    <tr>\n",
       "      <th>3</th>\n",
       "      <td>1</td>\n",
       "      <td>114709</td>\n",
       "      <td>862.00</td>\n",
       "      <td>15</td>\n",
       "      <td>2.00</td>\n",
       "      <td>997938310</td>\n",
       "    </tr>\n",
       "    <tr>\n",
       "      <th>4</th>\n",
       "      <td>1</td>\n",
       "      <td>114709</td>\n",
       "      <td>862.00</td>\n",
       "      <td>19</td>\n",
       "      <td>3.00</td>\n",
       "      <td>855190091</td>\n",
       "    </tr>\n",
       "  </tbody>\n",
       "</table>\n",
       "</div>"
      ],
      "text/plain": [
       "   movieId  imdbId  tmdbId  userId  rating   timestamp\n",
       "0        1  114709  862.00       7    3.00   851866703\n",
       "1        1  114709  862.00       9    4.00   938629179\n",
       "2        1  114709  862.00      13    5.00  1331380058\n",
       "3        1  114709  862.00      15    2.00   997938310\n",
       "4        1  114709  862.00      19    3.00   855190091"
      ]
     },
     "execution_count": 23,
     "metadata": {},
     "output_type": "execute_result"
    }
   ],
   "source": [
    "link = link.merge(rating_small, on = 'movieId')\n",
    "link.head(5)"
   ]
  },
  {
   "cell_type": "code",
   "execution_count": 24,
   "id": "8dbf778b",
   "metadata": {},
   "outputs": [
    {
     "data": {
      "text/plain": [
       "array([   862.,   8844.,  15602., ..., 392572., 402672., 391698.])"
      ]
     },
     "execution_count": 24,
     "metadata": {},
     "output_type": "execute_result"
    }
   ],
   "source": [
    "link['tmdbId'].unique()"
   ]
  },
  {
   "cell_type": "markdown",
   "id": "877609cd",
   "metadata": {},
   "source": [
    "    Links and credits have same column id and tmdbid"
   ]
  },
  {
   "cell_type": "code",
   "execution_count": 25,
   "id": "6ab9210d",
   "metadata": {},
   "outputs": [
    {
     "data": {
      "text/html": [
       "<div>\n",
       "<style scoped>\n",
       "    .dataframe tbody tr th:only-of-type {\n",
       "        vertical-align: middle;\n",
       "    }\n",
       "\n",
       "    .dataframe tbody tr th {\n",
       "        vertical-align: top;\n",
       "    }\n",
       "\n",
       "    .dataframe thead th {\n",
       "        text-align: right;\n",
       "    }\n",
       "</style>\n",
       "<table border=\"1\" class=\"dataframe\">\n",
       "  <thead>\n",
       "    <tr style=\"text-align: right;\">\n",
       "      <th></th>\n",
       "      <th>cast</th>\n",
       "      <th>crew</th>\n",
       "      <th>id</th>\n",
       "      <th>keywords</th>\n",
       "      <th>movieId</th>\n",
       "      <th>imdbId</th>\n",
       "      <th>userId</th>\n",
       "      <th>rating</th>\n",
       "      <th>timestamp</th>\n",
       "    </tr>\n",
       "  </thead>\n",
       "  <tbody>\n",
       "    <tr>\n",
       "      <th>0</th>\n",
       "      <td>[{'cast_id': 14, 'character': 'Woody (voice)',...</td>\n",
       "      <td>[{'credit_id': '52fe4284c3a36847f8024f49', 'de...</td>\n",
       "      <td>862</td>\n",
       "      <td>[{'id': 931, 'name': 'jealousy'}, {'id': 4290,...</td>\n",
       "      <td>1</td>\n",
       "      <td>114709</td>\n",
       "      <td>7</td>\n",
       "      <td>3.00</td>\n",
       "      <td>851866703</td>\n",
       "    </tr>\n",
       "    <tr>\n",
       "      <th>1</th>\n",
       "      <td>[{'cast_id': 14, 'character': 'Woody (voice)',...</td>\n",
       "      <td>[{'credit_id': '52fe4284c3a36847f8024f49', 'de...</td>\n",
       "      <td>862</td>\n",
       "      <td>[{'id': 931, 'name': 'jealousy'}, {'id': 4290,...</td>\n",
       "      <td>1</td>\n",
       "      <td>114709</td>\n",
       "      <td>9</td>\n",
       "      <td>4.00</td>\n",
       "      <td>938629179</td>\n",
       "    </tr>\n",
       "    <tr>\n",
       "      <th>2</th>\n",
       "      <td>[{'cast_id': 14, 'character': 'Woody (voice)',...</td>\n",
       "      <td>[{'credit_id': '52fe4284c3a36847f8024f49', 'de...</td>\n",
       "      <td>862</td>\n",
       "      <td>[{'id': 931, 'name': 'jealousy'}, {'id': 4290,...</td>\n",
       "      <td>1</td>\n",
       "      <td>114709</td>\n",
       "      <td>13</td>\n",
       "      <td>5.00</td>\n",
       "      <td>1331380058</td>\n",
       "    </tr>\n",
       "    <tr>\n",
       "      <th>3</th>\n",
       "      <td>[{'cast_id': 14, 'character': 'Woody (voice)',...</td>\n",
       "      <td>[{'credit_id': '52fe4284c3a36847f8024f49', 'de...</td>\n",
       "      <td>862</td>\n",
       "      <td>[{'id': 931, 'name': 'jealousy'}, {'id': 4290,...</td>\n",
       "      <td>1</td>\n",
       "      <td>114709</td>\n",
       "      <td>15</td>\n",
       "      <td>2.00</td>\n",
       "      <td>997938310</td>\n",
       "    </tr>\n",
       "    <tr>\n",
       "      <th>4</th>\n",
       "      <td>[{'cast_id': 14, 'character': 'Woody (voice)',...</td>\n",
       "      <td>[{'credit_id': '52fe4284c3a36847f8024f49', 'de...</td>\n",
       "      <td>862</td>\n",
       "      <td>[{'id': 931, 'name': 'jealousy'}, {'id': 4290,...</td>\n",
       "      <td>1</td>\n",
       "      <td>114709</td>\n",
       "      <td>19</td>\n",
       "      <td>3.00</td>\n",
       "      <td>855190091</td>\n",
       "    </tr>\n",
       "  </tbody>\n",
       "</table>\n",
       "</div>"
      ],
      "text/plain": [
       "                                                cast                                               crew   id                                           keywords  movieId  imdbId  userId  rating   timestamp\n",
       "0  [{'cast_id': 14, 'character': 'Woody (voice)',...  [{'credit_id': '52fe4284c3a36847f8024f49', 'de...  862  [{'id': 931, 'name': 'jealousy'}, {'id': 4290,...        1  114709       7    3.00   851866703\n",
       "1  [{'cast_id': 14, 'character': 'Woody (voice)',...  [{'credit_id': '52fe4284c3a36847f8024f49', 'de...  862  [{'id': 931, 'name': 'jealousy'}, {'id': 4290,...        1  114709       9    4.00   938629179\n",
       "2  [{'cast_id': 14, 'character': 'Woody (voice)',...  [{'credit_id': '52fe4284c3a36847f8024f49', 'de...  862  [{'id': 931, 'name': 'jealousy'}, {'id': 4290,...        1  114709      13    5.00  1331380058\n",
       "3  [{'cast_id': 14, 'character': 'Woody (voice)',...  [{'credit_id': '52fe4284c3a36847f8024f49', 'de...  862  [{'id': 931, 'name': 'jealousy'}, {'id': 4290,...        1  114709      15    2.00   997938310\n",
       "4  [{'cast_id': 14, 'character': 'Woody (voice)',...  [{'credit_id': '52fe4284c3a36847f8024f49', 'de...  862  [{'id': 931, 'name': 'jealousy'}, {'id': 4290,...        1  114709      19    3.00   855190091"
      ]
     },
     "execution_count": 25,
     "metadata": {},
     "output_type": "execute_result"
    }
   ],
   "source": [
    "link.rename(columns = {'tmdbId':'id'}, inplace = True) \n",
    "link = credits.merge(link, on = 'id')\n",
    "\n",
    "link.head(5)"
   ]
  },
  {
   "cell_type": "code",
   "execution_count": 26,
   "id": "8abaaa3a",
   "metadata": {},
   "outputs": [
    {
     "data": {
      "text/plain": [
       "adult                        0\n",
       "belongs_to_collection    40972\n",
       "budget                       0\n",
       "genres                       0\n",
       "homepage                 37684\n",
       "id                           0\n",
       "imdb_id                     17\n",
       "original_language           11\n",
       "original_title               0\n",
       "overview                   954\n",
       "popularity                   5\n",
       "poster_path                386\n",
       "production_companies         3\n",
       "production_countries         3\n",
       "release_date                87\n",
       "revenue                      6\n",
       "runtime                    263\n",
       "spoken_languages             6\n",
       "status                      87\n",
       "tagline                  25054\n",
       "title                        6\n",
       "video                        6\n",
       "vote_average                 6\n",
       "vote_count                   6\n",
       "dtype: int64"
      ]
     },
     "execution_count": 26,
     "metadata": {},
     "output_type": "execute_result"
    }
   ],
   "source": [
    "movies.isnull().sum()"
   ]
  },
  {
   "cell_type": "code",
   "execution_count": 27,
   "id": "e0891e37",
   "metadata": {
    "scrolled": false
   },
   "outputs": [
    {
     "data": {
      "text/plain": [
       "[19729, 29502, 35586]"
      ]
     },
     "execution_count": 27,
     "metadata": {},
     "output_type": "execute_result"
    }
   ],
   "source": [
    "df_most_null = movies.index[movies['production_companies'].isnull()].tolist()\n",
    "df_most_null"
   ]
  },
  {
   "cell_type": "markdown",
   "id": "d1e9de28",
   "metadata": {},
   "source": [
    "    Here these rows are not so much important as the data in those points arent clear and those indices are removed"
   ]
  },
  {
   "cell_type": "code",
   "execution_count": 28,
   "id": "f489373c",
   "metadata": {},
   "outputs": [],
   "source": [
    "movies.drop(df_most_null, inplace = True, axis = 0)"
   ]
  },
  {
   "cell_type": "code",
   "execution_count": 29,
   "id": "4eeb035d",
   "metadata": {},
   "outputs": [
    {
     "data": {
      "text/plain": [
       "0"
      ]
     },
     "execution_count": 29,
     "metadata": {},
     "output_type": "execute_result"
    }
   ],
   "source": [
    "movies.production_companies.isnull().sum()"
   ]
  },
  {
   "cell_type": "code",
   "execution_count": 30,
   "id": "5e42a4ae",
   "metadata": {},
   "outputs": [
    {
     "data": {
      "text/html": [
       "<div>\n",
       "<style scoped>\n",
       "    .dataframe tbody tr th:only-of-type {\n",
       "        vertical-align: middle;\n",
       "    }\n",
       "\n",
       "    .dataframe tbody tr th {\n",
       "        vertical-align: top;\n",
       "    }\n",
       "\n",
       "    .dataframe thead th {\n",
       "        text-align: right;\n",
       "    }\n",
       "</style>\n",
       "<table border=\"1\" class=\"dataframe\">\n",
       "  <thead>\n",
       "    <tr style=\"text-align: right;\">\n",
       "      <th></th>\n",
       "      <th>adult</th>\n",
       "      <th>belongs_to_collection</th>\n",
       "      <th>budget</th>\n",
       "      <th>genres</th>\n",
       "      <th>homepage</th>\n",
       "      <th>id</th>\n",
       "      <th>imdb_id</th>\n",
       "      <th>original_language</th>\n",
       "      <th>original_title</th>\n",
       "      <th>overview</th>\n",
       "      <th>popularity</th>\n",
       "      <th>poster_path</th>\n",
       "      <th>production_companies</th>\n",
       "      <th>production_countries</th>\n",
       "      <th>release_date</th>\n",
       "      <th>revenue</th>\n",
       "      <th>runtime</th>\n",
       "      <th>spoken_languages</th>\n",
       "      <th>status</th>\n",
       "      <th>tagline</th>\n",
       "      <th>title</th>\n",
       "      <th>video</th>\n",
       "      <th>vote_average</th>\n",
       "      <th>vote_count</th>\n",
       "    </tr>\n",
       "  </thead>\n",
       "  <tbody>\n",
       "    <tr>\n",
       "      <th>0</th>\n",
       "      <td>False</td>\n",
       "      <td>{'id': 10194, 'name': 'Toy Story Collection', ...</td>\n",
       "      <td>30000000</td>\n",
       "      <td>[{'id': 16, 'name': 'Animation'}, {'id': 35, '...</td>\n",
       "      <td>http://toystory.disney.com/toy-story</td>\n",
       "      <td>862</td>\n",
       "      <td>tt0114709</td>\n",
       "      <td>en</td>\n",
       "      <td>Toy Story</td>\n",
       "      <td>Led by Woody, Andy's toys live happily in his ...</td>\n",
       "      <td>21.95</td>\n",
       "      <td>/rhIRbceoE9lR4veEXuwCC2wARtG.jpg</td>\n",
       "      <td>[{'name': 'Pixar Animation Studios', 'id': 3}]</td>\n",
       "      <td>[{'iso_3166_1': 'US', 'name': 'United States o...</td>\n",
       "      <td>1995-10-30</td>\n",
       "      <td>373554033.00</td>\n",
       "      <td>81.00</td>\n",
       "      <td>[{'iso_639_1': 'en', 'name': 'English'}]</td>\n",
       "      <td>Released</td>\n",
       "      <td>NaN</td>\n",
       "      <td>Toy Story</td>\n",
       "      <td>False</td>\n",
       "      <td>7.70</td>\n",
       "      <td>5415.00</td>\n",
       "    </tr>\n",
       "  </tbody>\n",
       "</table>\n",
       "</div>"
      ],
      "text/plain": [
       "   adult                              belongs_to_collection    budget                                             genres                              homepage   id    imdb_id original_language original_title                                           overview popularity                       poster_path                            production_companies                               production_countries release_date      revenue  runtime                          spoken_languages    status tagline      title  video  vote_average  vote_count\n",
       "0  False  {'id': 10194, 'name': 'Toy Story Collection', ...  30000000  [{'id': 16, 'name': 'Animation'}, {'id': 35, '...  http://toystory.disney.com/toy-story  862  tt0114709                en      Toy Story  Led by Woody, Andy's toys live happily in his ...      21.95  /rhIRbceoE9lR4veEXuwCC2wARtG.jpg  [{'name': 'Pixar Animation Studios', 'id': 3}]  [{'iso_3166_1': 'US', 'name': 'United States o...   1995-10-30 373554033.00    81.00  [{'iso_639_1': 'en', 'name': 'English'}]  Released     NaN  Toy Story  False          7.70     5415.00"
      ]
     },
     "execution_count": 30,
     "metadata": {},
     "output_type": "execute_result"
    }
   ],
   "source": [
    "movies.head(1)"
   ]
  },
  {
   "cell_type": "code",
   "execution_count": 31,
   "id": "8b9054a2",
   "metadata": {},
   "outputs": [
    {
     "data": {
      "text/plain": [
       "dtype('O')"
      ]
     },
     "execution_count": 31,
     "metadata": {},
     "output_type": "execute_result"
    }
   ],
   "source": [
    "movies['id'].dtypes"
   ]
  },
  {
   "cell_type": "code",
   "execution_count": 32,
   "id": "1fb585c5",
   "metadata": {},
   "outputs": [
    {
     "data": {
      "text/html": [
       "<div>\n",
       "<style scoped>\n",
       "    .dataframe tbody tr th:only-of-type {\n",
       "        vertical-align: middle;\n",
       "    }\n",
       "\n",
       "    .dataframe tbody tr th {\n",
       "        vertical-align: top;\n",
       "    }\n",
       "\n",
       "    .dataframe thead th {\n",
       "        text-align: right;\n",
       "    }\n",
       "</style>\n",
       "<table border=\"1\" class=\"dataframe\">\n",
       "  <thead>\n",
       "    <tr style=\"text-align: right;\">\n",
       "      <th></th>\n",
       "      <th>adult</th>\n",
       "      <th>belongs_to_collection</th>\n",
       "      <th>budget</th>\n",
       "      <th>genres</th>\n",
       "      <th>homepage</th>\n",
       "      <th>id</th>\n",
       "      <th>imdb_id</th>\n",
       "      <th>original_language</th>\n",
       "      <th>original_title</th>\n",
       "      <th>overview</th>\n",
       "      <th>popularity</th>\n",
       "      <th>poster_path</th>\n",
       "      <th>production_companies</th>\n",
       "      <th>production_countries</th>\n",
       "      <th>release_date</th>\n",
       "      <th>revenue</th>\n",
       "      <th>runtime</th>\n",
       "      <th>spoken_languages</th>\n",
       "      <th>status</th>\n",
       "      <th>tagline</th>\n",
       "      <th>title</th>\n",
       "      <th>video</th>\n",
       "      <th>vote_average</th>\n",
       "      <th>vote_count</th>\n",
       "    </tr>\n",
       "  </thead>\n",
       "  <tbody>\n",
       "  </tbody>\n",
       "</table>\n",
       "</div>"
      ],
      "text/plain": [
       "Empty DataFrame\n",
       "Columns: [adult, belongs_to_collection, budget, genres, homepage, id, imdb_id, original_language, original_title, overview, popularity, poster_path, production_companies, production_countries, release_date, revenue, runtime, spoken_languages, status, tagline, title, video, vote_average, vote_count]\n",
       "Index: []"
      ]
     },
     "execution_count": 32,
     "metadata": {},
     "output_type": "execute_result"
    }
   ],
   "source": [
    "movies[movies['id'].isnull()]"
   ]
  },
  {
   "cell_type": "code",
   "execution_count": 33,
   "id": "6557c493",
   "metadata": {},
   "outputs": [],
   "source": [
    "movies.drop([19730, 29503, 35587], inplace = True, axis = 0)\n",
    "movies['id'] = pd.to_numeric(movies['id'], errors='coerce')\n",
    "movies['id'] = movies['id'].astype(int)"
   ]
  },
  {
   "cell_type": "markdown",
   "id": "fe3574c2",
   "metadata": {},
   "source": [
    "    Here let's join the final values."
   ]
  },
  {
   "cell_type": "code",
   "execution_count": 34,
   "id": "53e212bb",
   "metadata": {},
   "outputs": [
    {
     "data": {
      "text/html": [
       "<div>\n",
       "<style scoped>\n",
       "    .dataframe tbody tr th:only-of-type {\n",
       "        vertical-align: middle;\n",
       "    }\n",
       "\n",
       "    .dataframe tbody tr th {\n",
       "        vertical-align: top;\n",
       "    }\n",
       "\n",
       "    .dataframe thead th {\n",
       "        text-align: right;\n",
       "    }\n",
       "</style>\n",
       "<table border=\"1\" class=\"dataframe\">\n",
       "  <thead>\n",
       "    <tr style=\"text-align: right;\">\n",
       "      <th></th>\n",
       "      <th>adult</th>\n",
       "      <th>belongs_to_collection</th>\n",
       "      <th>budget</th>\n",
       "      <th>genres</th>\n",
       "      <th>homepage</th>\n",
       "      <th>id</th>\n",
       "      <th>imdb_id</th>\n",
       "      <th>original_language</th>\n",
       "      <th>original_title</th>\n",
       "      <th>overview</th>\n",
       "      <th>popularity</th>\n",
       "      <th>poster_path</th>\n",
       "      <th>production_companies</th>\n",
       "      <th>production_countries</th>\n",
       "      <th>release_date</th>\n",
       "      <th>revenue</th>\n",
       "      <th>runtime</th>\n",
       "      <th>spoken_languages</th>\n",
       "      <th>status</th>\n",
       "      <th>tagline</th>\n",
       "      <th>title</th>\n",
       "      <th>video</th>\n",
       "      <th>vote_average</th>\n",
       "      <th>vote_count</th>\n",
       "      <th>cast</th>\n",
       "      <th>crew</th>\n",
       "      <th>keywords</th>\n",
       "      <th>movieId</th>\n",
       "      <th>imdbId</th>\n",
       "      <th>userId</th>\n",
       "      <th>rating</th>\n",
       "      <th>timestamp</th>\n",
       "    </tr>\n",
       "  </thead>\n",
       "  <tbody>\n",
       "    <tr>\n",
       "      <th>0</th>\n",
       "      <td>False</td>\n",
       "      <td>{'id': 10194, 'name': 'Toy Story Collection', ...</td>\n",
       "      <td>30000000</td>\n",
       "      <td>[{'id': 16, 'name': 'Animation'}, {'id': 35, '...</td>\n",
       "      <td>http://toystory.disney.com/toy-story</td>\n",
       "      <td>862</td>\n",
       "      <td>tt0114709</td>\n",
       "      <td>en</td>\n",
       "      <td>Toy Story</td>\n",
       "      <td>Led by Woody, Andy's toys live happily in his ...</td>\n",
       "      <td>21.95</td>\n",
       "      <td>/rhIRbceoE9lR4veEXuwCC2wARtG.jpg</td>\n",
       "      <td>[{'name': 'Pixar Animation Studios', 'id': 3}]</td>\n",
       "      <td>[{'iso_3166_1': 'US', 'name': 'United States o...</td>\n",
       "      <td>1995-10-30</td>\n",
       "      <td>373554033.00</td>\n",
       "      <td>81.00</td>\n",
       "      <td>[{'iso_639_1': 'en', 'name': 'English'}]</td>\n",
       "      <td>Released</td>\n",
       "      <td>NaN</td>\n",
       "      <td>Toy Story</td>\n",
       "      <td>False</td>\n",
       "      <td>7.70</td>\n",
       "      <td>5415.00</td>\n",
       "      <td>[{'cast_id': 14, 'character': 'Woody (voice)',...</td>\n",
       "      <td>[{'credit_id': '52fe4284c3a36847f8024f49', 'de...</td>\n",
       "      <td>[{'id': 931, 'name': 'jealousy'}, {'id': 4290,...</td>\n",
       "      <td>1</td>\n",
       "      <td>114709</td>\n",
       "      <td>7</td>\n",
       "      <td>3.00</td>\n",
       "      <td>851866703</td>\n",
       "    </tr>\n",
       "    <tr>\n",
       "      <th>1</th>\n",
       "      <td>False</td>\n",
       "      <td>{'id': 10194, 'name': 'Toy Story Collection', ...</td>\n",
       "      <td>30000000</td>\n",
       "      <td>[{'id': 16, 'name': 'Animation'}, {'id': 35, '...</td>\n",
       "      <td>http://toystory.disney.com/toy-story</td>\n",
       "      <td>862</td>\n",
       "      <td>tt0114709</td>\n",
       "      <td>en</td>\n",
       "      <td>Toy Story</td>\n",
       "      <td>Led by Woody, Andy's toys live happily in his ...</td>\n",
       "      <td>21.95</td>\n",
       "      <td>/rhIRbceoE9lR4veEXuwCC2wARtG.jpg</td>\n",
       "      <td>[{'name': 'Pixar Animation Studios', 'id': 3}]</td>\n",
       "      <td>[{'iso_3166_1': 'US', 'name': 'United States o...</td>\n",
       "      <td>1995-10-30</td>\n",
       "      <td>373554033.00</td>\n",
       "      <td>81.00</td>\n",
       "      <td>[{'iso_639_1': 'en', 'name': 'English'}]</td>\n",
       "      <td>Released</td>\n",
       "      <td>NaN</td>\n",
       "      <td>Toy Story</td>\n",
       "      <td>False</td>\n",
       "      <td>7.70</td>\n",
       "      <td>5415.00</td>\n",
       "      <td>[{'cast_id': 14, 'character': 'Woody (voice)',...</td>\n",
       "      <td>[{'credit_id': '52fe4284c3a36847f8024f49', 'de...</td>\n",
       "      <td>[{'id': 931, 'name': 'jealousy'}, {'id': 4290,...</td>\n",
       "      <td>1</td>\n",
       "      <td>114709</td>\n",
       "      <td>9</td>\n",
       "      <td>4.00</td>\n",
       "      <td>938629179</td>\n",
       "    </tr>\n",
       "  </tbody>\n",
       "</table>\n",
       "</div>"
      ],
      "text/plain": [
       "   adult                              belongs_to_collection    budget                                             genres                              homepage   id    imdb_id original_language original_title                                           overview popularity                       poster_path                            production_companies                               production_countries release_date      revenue  runtime                          spoken_languages    status tagline      title  video  vote_average  vote_count                                               cast                                               crew                                           keywords  movieId  imdbId  userId  rating  timestamp\n",
       "0  False  {'id': 10194, 'name': 'Toy Story Collection', ...  30000000  [{'id': 16, 'name': 'Animation'}, {'id': 35, '...  http://toystory.disney.com/toy-story  862  tt0114709                en      Toy Story  Led by Woody, Andy's toys live happily in his ...      21.95  /rhIRbceoE9lR4veEXuwCC2wARtG.jpg  [{'name': 'Pixar Animation Studios', 'id': 3}]  [{'iso_3166_1': 'US', 'name': 'United States o...   1995-10-30 373554033.00    81.00  [{'iso_639_1': 'en', 'name': 'English'}]  Released     NaN  Toy Story  False          7.70     5415.00  [{'cast_id': 14, 'character': 'Woody (voice)',...  [{'credit_id': '52fe4284c3a36847f8024f49', 'de...  [{'id': 931, 'name': 'jealousy'}, {'id': 4290,...        1  114709       7    3.00  851866703\n",
       "1  False  {'id': 10194, 'name': 'Toy Story Collection', ...  30000000  [{'id': 16, 'name': 'Animation'}, {'id': 35, '...  http://toystory.disney.com/toy-story  862  tt0114709                en      Toy Story  Led by Woody, Andy's toys live happily in his ...      21.95  /rhIRbceoE9lR4veEXuwCC2wARtG.jpg  [{'name': 'Pixar Animation Studios', 'id': 3}]  [{'iso_3166_1': 'US', 'name': 'United States o...   1995-10-30 373554033.00    81.00  [{'iso_639_1': 'en', 'name': 'English'}]  Released     NaN  Toy Story  False          7.70     5415.00  [{'cast_id': 14, 'character': 'Woody (voice)',...  [{'credit_id': '52fe4284c3a36847f8024f49', 'de...  [{'id': 931, 'name': 'jealousy'}, {'id': 4290,...        1  114709       9    4.00  938629179"
      ]
     },
     "execution_count": 34,
     "metadata": {},
     "output_type": "execute_result"
    }
   ],
   "source": [
    "movie_df = movies.merge(link, on = 'id')\n",
    "movie_df.head(2)"
   ]
  },
  {
   "cell_type": "code",
   "execution_count": 35,
   "id": "963e5526",
   "metadata": {},
   "outputs": [
    {
     "name": "stdout",
     "output_type": "stream",
     "text": [
      "<class 'pandas.core.frame.DataFrame'>\n",
      "RangeIndex: 100122 entries, 0 to 100121\n",
      "Data columns (total 32 columns):\n",
      " #   Column                 Non-Null Count   Dtype  \n",
      "---  ------                 --------------   -----  \n",
      " 0   adult                  100122 non-null  object \n",
      " 1   belongs_to_collection  31280 non-null   object \n",
      " 2   budget                 100122 non-null  object \n",
      " 3   genres                 100122 non-null  object \n",
      " 4   homepage               28323 non-null   object \n",
      " 5   id                     100122 non-null  int32  \n",
      " 6   imdb_id                100122 non-null  object \n",
      " 7   original_language      100122 non-null  object \n",
      " 8   original_title         100122 non-null  object \n",
      " 9   overview               100108 non-null  object \n",
      " 10  popularity             100122 non-null  object \n",
      " 11  poster_path            100116 non-null  object \n",
      " 12  production_companies   100122 non-null  object \n",
      " 13  production_countries   100122 non-null  object \n",
      " 14  release_date           100122 non-null  object \n",
      " 15  revenue                100122 non-null  float64\n",
      " 16  runtime                100122 non-null  float64\n",
      " 17  spoken_languages       100122 non-null  object \n",
      " 18  status                 100113 non-null  object \n",
      " 19  tagline                92158 non-null   object \n",
      " 20  title                  100122 non-null  object \n",
      " 21  video                  100122 non-null  object \n",
      " 22  vote_average           100122 non-null  float64\n",
      " 23  vote_count             100122 non-null  float64\n",
      " 24  cast                   100122 non-null  object \n",
      " 25  crew                   100122 non-null  object \n",
      " 26  keywords               100122 non-null  object \n",
      " 27  movieId                100122 non-null  int64  \n",
      " 28  imdbId                 100122 non-null  int64  \n",
      " 29  userId                 100122 non-null  int64  \n",
      " 30  rating                 100122 non-null  float64\n",
      " 31  timestamp              100122 non-null  int64  \n",
      "dtypes: float64(5), int32(1), int64(4), object(22)\n",
      "memory usage: 24.1+ MB\n"
     ]
    }
   ],
   "source": [
    "movie_df.info()"
   ]
  },
  {
   "cell_type": "markdown",
   "id": "118005be",
   "metadata": {},
   "source": [
    "    After joining lets shift on more EDA tools like Dropping Duplicates, Captializing and more... "
   ]
  },
  {
   "cell_type": "markdown",
   "id": "20c657b7",
   "metadata": {},
   "source": [
    "##### Checking the Duplicates."
   ]
  },
  {
   "cell_type": "code",
   "execution_count": 36,
   "id": "a17e3fb0",
   "metadata": {},
   "outputs": [
    {
     "data": {
      "text/plain": [
       "244"
      ]
     },
     "execution_count": 36,
     "metadata": {},
     "output_type": "execute_result"
    }
   ],
   "source": [
    "movie_df. duplicated().sum()"
   ]
  },
  {
   "cell_type": "code",
   "execution_count": 37,
   "id": "042ae130",
   "metadata": {},
   "outputs": [
    {
     "data": {
      "text/html": [
       "<div>\n",
       "<style scoped>\n",
       "    .dataframe tbody tr th:only-of-type {\n",
       "        vertical-align: middle;\n",
       "    }\n",
       "\n",
       "    .dataframe tbody tr th {\n",
       "        vertical-align: top;\n",
       "    }\n",
       "\n",
       "    .dataframe thead th {\n",
       "        text-align: right;\n",
       "    }\n",
       "</style>\n",
       "<table border=\"1\" class=\"dataframe\">\n",
       "  <thead>\n",
       "    <tr style=\"text-align: right;\">\n",
       "      <th></th>\n",
       "      <th>adult</th>\n",
       "      <th>belongs_to_collection</th>\n",
       "      <th>budget</th>\n",
       "      <th>genres</th>\n",
       "      <th>homepage</th>\n",
       "      <th>id</th>\n",
       "      <th>imdb_id</th>\n",
       "      <th>original_language</th>\n",
       "      <th>original_title</th>\n",
       "      <th>overview</th>\n",
       "      <th>popularity</th>\n",
       "      <th>poster_path</th>\n",
       "      <th>production_companies</th>\n",
       "      <th>production_countries</th>\n",
       "      <th>release_date</th>\n",
       "      <th>revenue</th>\n",
       "      <th>runtime</th>\n",
       "      <th>spoken_languages</th>\n",
       "      <th>status</th>\n",
       "      <th>tagline</th>\n",
       "      <th>title</th>\n",
       "      <th>video</th>\n",
       "      <th>vote_average</th>\n",
       "      <th>vote_count</th>\n",
       "      <th>cast</th>\n",
       "      <th>crew</th>\n",
       "      <th>keywords</th>\n",
       "      <th>movieId</th>\n",
       "      <th>imdbId</th>\n",
       "      <th>userId</th>\n",
       "      <th>rating</th>\n",
       "      <th>timestamp</th>\n",
       "    </tr>\n",
       "  </thead>\n",
       "  <tbody>\n",
       "    <tr>\n",
       "      <th>0</th>\n",
       "      <td>False</td>\n",
       "      <td>{'id': 10194, 'name': 'Toy Story Collection', ...</td>\n",
       "      <td>30000000</td>\n",
       "      <td>[{'id': 16, 'name': 'Animation'}, {'id': 35, '...</td>\n",
       "      <td>http://toystory.disney.com/toy-story</td>\n",
       "      <td>862</td>\n",
       "      <td>tt0114709</td>\n",
       "      <td>en</td>\n",
       "      <td>Toy Story</td>\n",
       "      <td>Led by Woody, Andy's toys live happily in his ...</td>\n",
       "      <td>21.95</td>\n",
       "      <td>/rhIRbceoE9lR4veEXuwCC2wARtG.jpg</td>\n",
       "      <td>[{'name': 'Pixar Animation Studios', 'id': 3}]</td>\n",
       "      <td>[{'iso_3166_1': 'US', 'name': 'United States o...</td>\n",
       "      <td>1995-10-30</td>\n",
       "      <td>373554033.00</td>\n",
       "      <td>81.00</td>\n",
       "      <td>[{'iso_639_1': 'en', 'name': 'English'}]</td>\n",
       "      <td>Released</td>\n",
       "      <td>NaN</td>\n",
       "      <td>Toy Story</td>\n",
       "      <td>False</td>\n",
       "      <td>7.70</td>\n",
       "      <td>5415.00</td>\n",
       "      <td>[{'cast_id': 14, 'character': 'Woody (voice)',...</td>\n",
       "      <td>[{'credit_id': '52fe4284c3a36847f8024f49', 'de...</td>\n",
       "      <td>[{'id': 931, 'name': 'jealousy'}, {'id': 4290,...</td>\n",
       "      <td>1</td>\n",
       "      <td>114709</td>\n",
       "      <td>7</td>\n",
       "      <td>3.00</td>\n",
       "      <td>851866703</td>\n",
       "    </tr>\n",
       "  </tbody>\n",
       "</table>\n",
       "</div>"
      ],
      "text/plain": [
       "   adult                              belongs_to_collection    budget                                             genres                              homepage   id    imdb_id original_language original_title                                           overview popularity                       poster_path                            production_companies                               production_countries release_date      revenue  runtime                          spoken_languages    status tagline      title  video  vote_average  vote_count                                               cast                                               crew                                           keywords  movieId  imdbId  userId  rating  timestamp\n",
       "0  False  {'id': 10194, 'name': 'Toy Story Collection', ...  30000000  [{'id': 16, 'name': 'Animation'}, {'id': 35, '...  http://toystory.disney.com/toy-story  862  tt0114709                en      Toy Story  Led by Woody, Andy's toys live happily in his ...      21.95  /rhIRbceoE9lR4veEXuwCC2wARtG.jpg  [{'name': 'Pixar Animation Studios', 'id': 3}]  [{'iso_3166_1': 'US', 'name': 'United States o...   1995-10-30 373554033.00    81.00  [{'iso_639_1': 'en', 'name': 'English'}]  Released     NaN  Toy Story  False          7.70     5415.00  [{'cast_id': 14, 'character': 'Woody (voice)',...  [{'credit_id': '52fe4284c3a36847f8024f49', 'de...  [{'id': 931, 'name': 'jealousy'}, {'id': 4290,...        1  114709       7    3.00  851866703"
      ]
     },
     "execution_count": 37,
     "metadata": {},
     "output_type": "execute_result"
    }
   ],
   "source": [
    "movie_df.drop_duplicates()\n",
    "movie_df.head(1)"
   ]
  },
  {
   "cell_type": "code",
   "execution_count": 38,
   "id": "67cf433b",
   "metadata": {},
   "outputs": [
    {
     "data": {
      "text/plain": [
       "Index(['adult', 'belongs_to_collection', 'budget', 'genres', 'homepage', 'id', 'imdb_id', 'original_language', 'original_title', 'overview', 'popularity', 'poster_path', 'production_companies', 'production_countries', 'release_date', 'revenue', 'runtime', 'spoken_languages', 'status', 'tagline', 'title', 'video', 'vote_average', 'vote_count', 'cast', 'crew', 'keywords', 'movieId', 'imdbId', 'userId', 'rating', 'timestamp'], dtype='object')"
      ]
     },
     "execution_count": 38,
     "metadata": {},
     "output_type": "execute_result"
    }
   ],
   "source": [
    "movie_df.columns"
   ]
  },
  {
   "cell_type": "markdown",
   "id": "4028c4c0",
   "metadata": {},
   "source": [
    "    As working on movies recommendtaion we don't need some columns as they aren't so much useful for us.\n",
    "    So Exploraing Each column for our better result."
   ]
  },
  {
   "cell_type": "code",
   "execution_count": 39,
   "id": "2e861ea5",
   "metadata": {},
   "outputs": [
    {
     "data": {
      "text/plain": [
       "adult\n",
       "False    100122\n",
       "Name: count, dtype: int64"
      ]
     },
     "execution_count": 39,
     "metadata": {},
     "output_type": "execute_result"
    }
   ],
   "source": [
    "movie_df['adult'].value_counts()\n",
    "# As this columns only have False that is only single entries feature so not useful at all."
   ]
  },
  {
   "cell_type": "code",
   "execution_count": 40,
   "id": "ee201c45",
   "metadata": {
    "scrolled": false
   },
   "outputs": [
    {
     "data": {
      "text/plain": [
       "belongs_to_collection\n",
       "{'id': 10, 'name': 'Star Wars Collection', 'poster_path': '/ghd5zOQnDaDW1mxO7R5fXXpZMu.jpg', 'backdrop_path': '/d8duYyyC9J5T825Hg7grmaabfxQ.jpg'}                  1053\n",
       "{'id': 645, 'name': 'James Bond Collection', 'poster_path': '/HORpg5CSkmeQlAolx3bKMrKgfi.jpg', 'backdrop_path': '/6VcVl48kNKvdXOZfJPdarlUGOsk.jpg'}                 683\n",
       "{'id': 119, 'name': 'The Lord of the Rings Collection', 'poster_path': '/p4UokEk2XnjjRTdXGe6DLYXlbI1.jpg', 'backdrop_path': '/bccR2CGTWVVSZAG0yqmy3DIvhTX.jpg'}     564\n",
       "{'id': 84, 'name': 'Indiana Jones Collection', 'poster_path': '/lpxDrACKJhbbGOlwVMNz5YCj6SI.jpg', 'backdrop_path': '/6kh59mZizZsttZPR0HAdXk6Ve2n.jpg'}              489\n",
       "{'id': 1241, 'name': 'Harry Potter Collection', 'poster_path': '/8Xmkc1HvCOpMlbFvVabrtr6HAsp.jpg', 'backdrop_path': '/wfnMt6LGqYHcNyOfsuusw5lX3bL.jpg'}             463\n",
       "Name: count, dtype: int64"
      ]
     },
     "execution_count": 40,
     "metadata": {},
     "output_type": "execute_result"
    }
   ],
   "source": [
    "movie_df['belongs_to_collection'].value_counts(ascending = False).head()\n",
    "# We have title so not so much useful for us."
   ]
  },
  {
   "cell_type": "code",
   "execution_count": 41,
   "id": "7c663bcf",
   "metadata": {},
   "outputs": [
    {
     "data": {
      "text/plain": [
       "budget\n",
       "0           18237\n",
       "30000000     2824\n",
       "25000000     2686\n",
       "15000000     2554\n",
       "6000000      2140\n",
       "Name: count, dtype: int64"
      ]
     },
     "execution_count": 41,
     "metadata": {},
     "output_type": "execute_result"
    }
   ],
   "source": [
    "movie_df['budget'] = movie_df['budget'].astype(int)\n",
    "movie_df['budget'].value_counts(ascending = False).head()\n",
    "# From 1lakh entries we have 20% values in budget this seems not so much useful but in case its imoprtant and needed."
   ]
  },
  {
   "cell_type": "code",
   "execution_count": 42,
   "id": "5f213f32",
   "metadata": {},
   "outputs": [
    {
     "data": {
      "text/plain": [
       "0    [{'id': 16, 'name': 'Animation'}, {'id': 35, '...\n",
       "1    [{'id': 16, 'name': 'Animation'}, {'id': 35, '...\n",
       "2    [{'id': 16, 'name': 'Animation'}, {'id': 35, '...\n",
       "3    [{'id': 16, 'name': 'Animation'}, {'id': 35, '...\n",
       "4    [{'id': 16, 'name': 'Animation'}, {'id': 35, '...\n",
       "Name: genres, dtype: object"
      ]
     },
     "execution_count": 42,
     "metadata": {},
     "output_type": "execute_result"
    }
   ],
   "source": [
    "movie_df['genres'].head(5)\n",
    "# They are also most important and can be used in fetching the reason of the movies recommend."
   ]
  },
  {
   "cell_type": "code",
   "execution_count": 43,
   "id": "1b386dd4",
   "metadata": {},
   "outputs": [
    {
     "data": {
      "text/plain": [
       "homepage\n",
       "http://www.lordoftherings.net/                                   388\n",
       "http://www.indianajones.com                                      318\n",
       "http://www.starwars.com/films/star-wars-episode-iv-a-new-hope    291\n",
       "http://www.missionimpossible.com/                                279\n",
       "http://www.jurassicpark.com/                                     274\n",
       "Name: count, dtype: int64"
      ]
     },
     "execution_count": 43,
     "metadata": {},
     "output_type": "execute_result"
    }
   ],
   "source": [
    "movie_df['homepage'].value_counts(ascending = False).head()\n",
    "# This are the links for the movie description and overview, mmm... so not useful. "
   ]
  },
  {
   "cell_type": "code",
   "execution_count": 44,
   "id": "daa4d6f2",
   "metadata": {},
   "outputs": [
    {
     "data": {
      "text/html": [
       "<div>\n",
       "<style scoped>\n",
       "    .dataframe tbody tr th:only-of-type {\n",
       "        vertical-align: middle;\n",
       "    }\n",
       "\n",
       "    .dataframe tbody tr th {\n",
       "        vertical-align: top;\n",
       "    }\n",
       "\n",
       "    .dataframe thead th {\n",
       "        text-align: right;\n",
       "    }\n",
       "</style>\n",
       "<table border=\"1\" class=\"dataframe\">\n",
       "  <thead>\n",
       "    <tr style=\"text-align: right;\">\n",
       "      <th></th>\n",
       "      <th>id</th>\n",
       "      <th>imdb_id</th>\n",
       "      <th>movieId</th>\n",
       "      <th>imdbId</th>\n",
       "      <th>userId</th>\n",
       "    </tr>\n",
       "  </thead>\n",
       "  <tbody>\n",
       "    <tr>\n",
       "      <th>0</th>\n",
       "      <td>862</td>\n",
       "      <td>tt0114709</td>\n",
       "      <td>1</td>\n",
       "      <td>114709</td>\n",
       "      <td>7</td>\n",
       "    </tr>\n",
       "    <tr>\n",
       "      <th>1</th>\n",
       "      <td>862</td>\n",
       "      <td>tt0114709</td>\n",
       "      <td>1</td>\n",
       "      <td>114709</td>\n",
       "      <td>9</td>\n",
       "    </tr>\n",
       "    <tr>\n",
       "      <th>2</th>\n",
       "      <td>862</td>\n",
       "      <td>tt0114709</td>\n",
       "      <td>1</td>\n",
       "      <td>114709</td>\n",
       "      <td>13</td>\n",
       "    </tr>\n",
       "    <tr>\n",
       "      <th>3</th>\n",
       "      <td>862</td>\n",
       "      <td>tt0114709</td>\n",
       "      <td>1</td>\n",
       "      <td>114709</td>\n",
       "      <td>15</td>\n",
       "    </tr>\n",
       "    <tr>\n",
       "      <th>4</th>\n",
       "      <td>862</td>\n",
       "      <td>tt0114709</td>\n",
       "      <td>1</td>\n",
       "      <td>114709</td>\n",
       "      <td>19</td>\n",
       "    </tr>\n",
       "  </tbody>\n",
       "</table>\n",
       "</div>"
      ],
      "text/plain": [
       "    id    imdb_id  movieId  imdbId  userId\n",
       "0  862  tt0114709        1  114709       7\n",
       "1  862  tt0114709        1  114709       9\n",
       "2  862  tt0114709        1  114709      13\n",
       "3  862  tt0114709        1  114709      15\n",
       "4  862  tt0114709        1  114709      19"
      ]
     },
     "execution_count": 44,
     "metadata": {},
     "output_type": "execute_result"
    }
   ],
   "source": [
    "movie_df[['id', 'imdb_id', 'movieId', 'imdbId', 'userId']].head()\n",
    "# both are identification no as we have mereged all rows so the id may be usefl for target other ids may can be removed."
   ]
  },
  {
   "cell_type": "code",
   "execution_count": 45,
   "id": "bd076c61",
   "metadata": {},
   "outputs": [
    {
     "data": {
      "text/plain": [
       "original_language\n",
       "en    94900\n",
       "fr     1331\n",
       "ja      931\n",
       "de      535\n",
       "it      521\n",
       "Name: count, dtype: int64"
      ]
     },
     "execution_count": 45,
     "metadata": {},
     "output_type": "execute_result"
    }
   ],
   "source": [
    "movie_df['original_language'].value_counts().head()\n",
    "# Again the 96% movies are in English Genres so not so relevent due to data imbalance."
   ]
  },
  {
   "cell_type": "code",
   "execution_count": 46,
   "id": "74cdc14b",
   "metadata": {},
   "outputs": [
    {
     "data": {
      "text/plain": [
       "original_title\n",
       "Forrest Gump                341\n",
       "Pulp Fiction                324\n",
       "The Shawshank Redemption    311\n",
       "The Silence of the Lambs    304\n",
       "Star Wars                   291\n",
       "Name: count, dtype: int64"
      ]
     },
     "execution_count": 46,
     "metadata": {},
     "output_type": "execute_result"
    }
   ],
   "source": [
    "movie_df['original_title'].value_counts().head()\n",
    "# we'll we have title so in this case its not important or may be w'll see after."
   ]
  },
  {
   "cell_type": "code",
   "execution_count": 47,
   "id": "c30ebb3d",
   "metadata": {},
   "outputs": [
    {
     "data": {
      "text/plain": [
       "overview\n",
       "A man with a low IQ has accomplished great things in his life and been present during significant historic events - in each case, far exceeding what anyone imagined he could do. Yet, despite all the things he has attained, his one true love eludes him. 'Forrest Gump' is the story of a man who rose above his challenges, and who proved that determination, courage, and love are more important than ability.    341\n",
       "Name: count, dtype: int64"
      ]
     },
     "execution_count": 47,
     "metadata": {},
     "output_type": "execute_result"
    }
   ],
   "source": [
    "movie_df['overview'].value_counts().head(1)\n",
    "# The actual response of the movie can lead to understand the impact of customer review."
   ]
  },
  {
   "cell_type": "code",
   "execution_count": 48,
   "id": "ae6255cb",
   "metadata": {},
   "outputs": [],
   "source": [
    "movie_df['popularity'] = pd.to_numeric(movie_df['popularity'], errors='coerce')\n",
    "movie_df['popularity'] = movie_df['popularity'].astype(int)"
   ]
  },
  {
   "cell_type": "code",
   "execution_count": 49,
   "id": "5bcfde3b",
   "metadata": {},
   "outputs": [
    {
     "data": {
      "text/plain": [
       "popularity\n",
       "11    8297\n",
       "8     7444\n",
       "10    7359\n",
       "9     7169\n",
       "7     6714\n",
       "Name: count, dtype: int64"
      ]
     },
     "execution_count": 49,
     "metadata": {},
     "output_type": "execute_result"
    }
   ],
   "source": [
    "movie_df['popularity'].value_counts().head()\n",
    "# this deleivers that how populat the show is may be in the form of Ratings or more."
   ]
  },
  {
   "cell_type": "code",
   "execution_count": 50,
   "id": "c8403233",
   "metadata": {},
   "outputs": [
    {
     "data": {
      "text/plain": [
       "0    /rhIRbceoE9lR4veEXuwCC2wARtG.jpg\n",
       "1    /rhIRbceoE9lR4veEXuwCC2wARtG.jpg\n",
       "2    /rhIRbceoE9lR4veEXuwCC2wARtG.jpg\n",
       "3    /rhIRbceoE9lR4veEXuwCC2wARtG.jpg\n",
       "4    /rhIRbceoE9lR4veEXuwCC2wARtG.jpg\n",
       "Name: poster_path, dtype: object"
      ]
     },
     "execution_count": 50,
     "metadata": {},
     "output_type": "execute_result"
    }
   ],
   "source": [
    "movie_df['poster_path'].head()\n",
    "# This feature delebrates what is the poster of the movie this seems not so useful but if we need we shall work upon"
   ]
  },
  {
   "cell_type": "code",
   "execution_count": 51,
   "id": "55b8d472",
   "metadata": {},
   "outputs": [
    {
     "data": {
      "text/plain": [
       "0    [{'name': 'Pixar Animation Studios', 'id': 3}]\n",
       "1    [{'name': 'Pixar Animation Studios', 'id': 3}]\n",
       "2    [{'name': 'Pixar Animation Studios', 'id': 3}]\n",
       "3    [{'name': 'Pixar Animation Studios', 'id': 3}]\n",
       "4    [{'name': 'Pixar Animation Studios', 'id': 3}]\n",
       "Name: production_companies, dtype: object"
      ]
     },
     "execution_count": 51,
     "metadata": {},
     "output_type": "execute_result"
    }
   ],
   "source": [
    "movie_df['production_companies'].head()\n",
    "# One of the most important one as because The Production Companies are mostly liked one as per there last movies.\n",
    "# so can be predectid for there next one."
   ]
  },
  {
   "cell_type": "code",
   "execution_count": 52,
   "id": "889ccbfc",
   "metadata": {},
   "outputs": [
    {
     "data": {
      "text/plain": [
       "production_countries\n",
       "[{'iso_3166_1': 'US', 'name': 'United States of America'}]                                                    70078\n",
       "[{'iso_3166_1': 'GB', 'name': 'United Kingdom'}, {'iso_3166_1': 'US', 'name': 'United States of America'}]     6289\n",
       "[{'iso_3166_1': 'GB', 'name': 'United Kingdom'}]                                                               2993\n",
       "[{'iso_3166_1': 'DE', 'name': 'Germany'}, {'iso_3166_1': 'US', 'name': 'United States of America'}]            2339\n",
       "[{'iso_3166_1': 'FR', 'name': 'France'}, {'iso_3166_1': 'US', 'name': 'United States of America'}]             1208\n",
       "Name: count, dtype: int64"
      ]
     },
     "execution_count": 52,
     "metadata": {},
     "output_type": "execute_result"
    }
   ],
   "source": [
    "movie_df['production_countries'].value_counts().head()\n",
    "# We'll Country or the landmark dont reflect movies interest and we have many other features to calculate values \n",
    "# so this shoud beeeee important for us"
   ]
  },
  {
   "cell_type": "code",
   "execution_count": 53,
   "id": "fa35fa01",
   "metadata": {},
   "outputs": [
    {
     "data": {
      "text/plain": [
       "release_date\n",
       "1995-12-29    422\n",
       "1994-09-10    372\n",
       "1994-07-06    341\n",
       "1990-11-09    336\n",
       "1995-07-19    329\n",
       "Name: count, dtype: int64"
      ]
     },
     "execution_count": 53,
     "metadata": {},
     "output_type": "execute_result"
    }
   ],
   "source": [
    "movie_df['release_date'].value_counts().head()\n",
    "# we have timestamp that can give more data so this may vary, moving next."
   ]
  },
  {
   "cell_type": "code",
   "execution_count": 54,
   "id": "1eb9c54c",
   "metadata": {},
   "outputs": [
    {
     "data": {
      "text/plain": [
       "revenue\n",
       "0.00            17029\n",
       "677945399.00      341\n",
       "213928762.00      324\n",
       "28341469.00       311\n",
       "272742922.00      304\n",
       "Name: count, dtype: int64"
      ]
     },
     "execution_count": 54,
     "metadata": {},
     "output_type": "execute_result"
    }
   ],
   "source": [
    "movie_df['revenue'].dtype\n",
    "movie_df['revenue'].value_counts().head()\n",
    "# As like budget this column has also 0 Revenue in some rows so the 17% data is having less revenue or zero so can see it later."
   ]
  },
  {
   "cell_type": "code",
   "execution_count": 55,
   "id": "71548b07",
   "metadata": {},
   "outputs": [
    {
     "data": {
      "text/plain": [
       "runtime\n",
       "108.00    2349\n",
       "119.00    2289\n",
       "98.00     2225\n",
       "106.00    2186\n",
       "113.00    2146\n",
       "Name: count, dtype: int64"
      ]
     },
     "execution_count": 55,
     "metadata": {},
     "output_type": "execute_result"
    }
   ],
   "source": [
    "movie_df['runtime'].value_counts().head()\n",
    "# The movies length can also important in our feature selection."
   ]
  },
  {
   "cell_type": "code",
   "execution_count": 56,
   "id": "c0e9f786",
   "metadata": {},
   "outputs": [
    {
     "data": {
      "text/plain": [
       "spoken_languages\n",
       "[{'iso_639_1': 'en', 'name': 'English'}]                                             63513\n",
       "[{'iso_639_1': 'en', 'name': 'English'}, {'iso_639_1': 'es', 'name': 'Español'}]      3272\n",
       "[{'iso_639_1': 'en', 'name': 'English'}, {'iso_639_1': 'fr', 'name': 'Français'}]     3009\n",
       "[{'iso_639_1': 'en', 'name': 'English'}, {'iso_639_1': 'ru', 'name': 'Pусский'}]      1206\n",
       "[{'iso_639_1': 'en', 'name': 'English'}, {'iso_639_1': 'it', 'name': 'Italiano'}]     1133\n",
       "Name: count, dtype: int64"
      ]
     },
     "execution_count": 56,
     "metadata": {},
     "output_type": "execute_result"
    }
   ],
   "source": [
    "movie_df['spoken_languages'].value_counts().head()\n",
    "# This may can be useful as original language is english but the spoken language may be dubbed so mean to be if needed."
   ]
  },
  {
   "cell_type": "code",
   "execution_count": 57,
   "id": "651e8009",
   "metadata": {},
   "outputs": [
    {
     "data": {
      "text/plain": [
       "status\n",
       "Released           100081\n",
       "Rumored                18\n",
       "Post Production        13\n",
       "In Production           1\n",
       "Name: count, dtype: int64"
      ]
     },
     "execution_count": 57,
     "metadata": {},
     "output_type": "execute_result"
    }
   ],
   "source": [
    "movie_df['status'].value_counts()\n",
    "# Most of the movies are released and hence we know that we get the data which are been released so this may not useful"
   ]
  },
  {
   "cell_type": "code",
   "execution_count": 58,
   "id": "f56c9508",
   "metadata": {},
   "outputs": [
    {
     "data": {
      "text/plain": [
       "tagline\n",
       "The world will never be the same, once you've seen it through the eyes of Forrest Gump.    341\n",
       "Just because you are a character doesn't mean you have character.                          324\n",
       "Fear can hold you prisoner. Hope can set you free.                                         311\n",
       "To enter the mind of a killer she must challenge the mind of a madman.                     304\n",
       "A long time ago in a galaxy far, far away...                                               291\n",
       "Name: count, dtype: int64"
      ]
     },
     "execution_count": 58,
     "metadata": {},
     "output_type": "execute_result"
    }
   ],
   "source": [
    "movie_df['tagline'].value_counts().head()\n",
    "# The tagline  refers to the movie intro words not son  useful."
   ]
  },
  {
   "cell_type": "code",
   "execution_count": 59,
   "id": "deefd2e8",
   "metadata": {},
   "outputs": [
    {
     "data": {
      "text/plain": [
       "title\n",
       "Forrest Gump                341\n",
       "Pulp Fiction                324\n",
       "The Shawshank Redemption    311\n",
       "The Silence of the Lambs    304\n",
       "Star Wars                   291\n",
       "Name: count, dtype: int64"
      ]
     },
     "execution_count": 59,
     "metadata": {},
     "output_type": "execute_result"
    }
   ],
   "source": [
    "movie_df['title'].value_counts().head()\n",
    "# Original movie name so useful for our movie recommend."
   ]
  },
  {
   "cell_type": "code",
   "execution_count": 60,
   "id": "0ab31a54",
   "metadata": {},
   "outputs": [
    {
     "data": {
      "text/plain": [
       "video\n",
       "False    100116\n",
       "True          6\n",
       "Name: count, dtype: int64"
      ]
     },
     "execution_count": 60,
     "metadata": {},
     "output_type": "execute_result"
    }
   ],
   "source": [
    "movie_df['video'].value_counts().head()\n",
    "# 99% Video links aren't given so not usefull at all. and leads to data imbalance."
   ]
  },
  {
   "cell_type": "code",
   "execution_count": 61,
   "id": "b77d0de7",
   "metadata": {},
   "outputs": [
    {
     "data": {
      "text/html": [
       "<div>\n",
       "<style scoped>\n",
       "    .dataframe tbody tr th:only-of-type {\n",
       "        vertical-align: middle;\n",
       "    }\n",
       "\n",
       "    .dataframe tbody tr th {\n",
       "        vertical-align: top;\n",
       "    }\n",
       "\n",
       "    .dataframe thead th {\n",
       "        text-align: right;\n",
       "    }\n",
       "</style>\n",
       "<table border=\"1\" class=\"dataframe\">\n",
       "  <thead>\n",
       "    <tr style=\"text-align: right;\">\n",
       "      <th></th>\n",
       "      <th>vote_average</th>\n",
       "      <th>vote_count</th>\n",
       "    </tr>\n",
       "  </thead>\n",
       "  <tbody>\n",
       "    <tr>\n",
       "      <th>count</th>\n",
       "      <td>100122.00</td>\n",
       "      <td>100122.00</td>\n",
       "    </tr>\n",
       "    <tr>\n",
       "      <th>mean</th>\n",
       "      <td>6.87</td>\n",
       "      <td>1548.83</td>\n",
       "    </tr>\n",
       "    <tr>\n",
       "      <th>std</th>\n",
       "      <td>0.84</td>\n",
       "      <td>2064.97</td>\n",
       "    </tr>\n",
       "    <tr>\n",
       "      <th>min</th>\n",
       "      <td>0.00</td>\n",
       "      <td>0.00</td>\n",
       "    </tr>\n",
       "    <tr>\n",
       "      <th>25%</th>\n",
       "      <td>6.40</td>\n",
       "      <td>207.00</td>\n",
       "    </tr>\n",
       "    <tr>\n",
       "      <th>50%</th>\n",
       "      <td>6.90</td>\n",
       "      <td>692.00</td>\n",
       "    </tr>\n",
       "    <tr>\n",
       "      <th>75%</th>\n",
       "      <td>7.50</td>\n",
       "      <td>1973.00</td>\n",
       "    </tr>\n",
       "    <tr>\n",
       "      <th>max</th>\n",
       "      <td>10.00</td>\n",
       "      <td>14075.00</td>\n",
       "    </tr>\n",
       "  </tbody>\n",
       "</table>\n",
       "</div>"
      ],
      "text/plain": [
       "       vote_average  vote_count\n",
       "count     100122.00   100122.00\n",
       "mean           6.87     1548.83\n",
       "std            0.84     2064.97\n",
       "min            0.00        0.00\n",
       "25%            6.40      207.00\n",
       "50%            6.90      692.00\n",
       "75%            7.50     1973.00\n",
       "max           10.00    14075.00"
      ]
     },
     "execution_count": 61,
     "metadata": {},
     "output_type": "execute_result"
    }
   ],
   "source": [
    "movie_df[['vote_average', 'vote_count']].describe()\n",
    "# The voting average and count column satisfies the overview of movies so it is important feature to us,"
   ]
  },
  {
   "cell_type": "code",
   "execution_count": 62,
   "id": "e9d56cd4",
   "metadata": {},
   "outputs": [
    {
     "data": {
      "text/html": [
       "<div>\n",
       "<style scoped>\n",
       "    .dataframe tbody tr th:only-of-type {\n",
       "        vertical-align: middle;\n",
       "    }\n",
       "\n",
       "    .dataframe tbody tr th {\n",
       "        vertical-align: top;\n",
       "    }\n",
       "\n",
       "    .dataframe thead th {\n",
       "        text-align: right;\n",
       "    }\n",
       "</style>\n",
       "<table border=\"1\" class=\"dataframe\">\n",
       "  <thead>\n",
       "    <tr style=\"text-align: right;\">\n",
       "      <th></th>\n",
       "      <th>cast</th>\n",
       "      <th>crew</th>\n",
       "      <th>keywords</th>\n",
       "    </tr>\n",
       "  </thead>\n",
       "  <tbody>\n",
       "    <tr>\n",
       "      <th>0</th>\n",
       "      <td>[{'cast_id': 14, 'character': 'Woody (voice)',...</td>\n",
       "      <td>[{'credit_id': '52fe4284c3a36847f8024f49', 'de...</td>\n",
       "      <td>[{'id': 931, 'name': 'jealousy'}, {'id': 4290,...</td>\n",
       "    </tr>\n",
       "    <tr>\n",
       "      <th>1</th>\n",
       "      <td>[{'cast_id': 14, 'character': 'Woody (voice)',...</td>\n",
       "      <td>[{'credit_id': '52fe4284c3a36847f8024f49', 'de...</td>\n",
       "      <td>[{'id': 931, 'name': 'jealousy'}, {'id': 4290,...</td>\n",
       "    </tr>\n",
       "    <tr>\n",
       "      <th>2</th>\n",
       "      <td>[{'cast_id': 14, 'character': 'Woody (voice)',...</td>\n",
       "      <td>[{'credit_id': '52fe4284c3a36847f8024f49', 'de...</td>\n",
       "      <td>[{'id': 931, 'name': 'jealousy'}, {'id': 4290,...</td>\n",
       "    </tr>\n",
       "    <tr>\n",
       "      <th>3</th>\n",
       "      <td>[{'cast_id': 14, 'character': 'Woody (voice)',...</td>\n",
       "      <td>[{'credit_id': '52fe4284c3a36847f8024f49', 'de...</td>\n",
       "      <td>[{'id': 931, 'name': 'jealousy'}, {'id': 4290,...</td>\n",
       "    </tr>\n",
       "    <tr>\n",
       "      <th>4</th>\n",
       "      <td>[{'cast_id': 14, 'character': 'Woody (voice)',...</td>\n",
       "      <td>[{'credit_id': '52fe4284c3a36847f8024f49', 'de...</td>\n",
       "      <td>[{'id': 931, 'name': 'jealousy'}, {'id': 4290,...</td>\n",
       "    </tr>\n",
       "  </tbody>\n",
       "</table>\n",
       "</div>"
      ],
      "text/plain": [
       "                                                cast                                               crew                                           keywords\n",
       "0  [{'cast_id': 14, 'character': 'Woody (voice)',...  [{'credit_id': '52fe4284c3a36847f8024f49', 'de...  [{'id': 931, 'name': 'jealousy'}, {'id': 4290,...\n",
       "1  [{'cast_id': 14, 'character': 'Woody (voice)',...  [{'credit_id': '52fe4284c3a36847f8024f49', 'de...  [{'id': 931, 'name': 'jealousy'}, {'id': 4290,...\n",
       "2  [{'cast_id': 14, 'character': 'Woody (voice)',...  [{'credit_id': '52fe4284c3a36847f8024f49', 'de...  [{'id': 931, 'name': 'jealousy'}, {'id': 4290,...\n",
       "3  [{'cast_id': 14, 'character': 'Woody (voice)',...  [{'credit_id': '52fe4284c3a36847f8024f49', 'de...  [{'id': 931, 'name': 'jealousy'}, {'id': 4290,...\n",
       "4  [{'cast_id': 14, 'character': 'Woody (voice)',...  [{'credit_id': '52fe4284c3a36847f8024f49', 'de...  [{'id': 931, 'name': 'jealousy'}, {'id': 4290,..."
      ]
     },
     "execution_count": 62,
     "metadata": {},
     "output_type": "execute_result"
    }
   ],
   "source": [
    "movie_df[['cast', 'crew', 'keywords']].head()\n",
    "# cast and crew are also most important to us so needed both of them."
   ]
  },
  {
   "cell_type": "code",
   "execution_count": 63,
   "id": "5fe0a856",
   "metadata": {},
   "outputs": [
    {
     "data": {
      "text/plain": [
       "count   100122.00\n",
       "mean         3.54\n",
       "std          1.06\n",
       "min          0.50\n",
       "25%          3.00\n",
       "50%          4.00\n",
       "75%          4.00\n",
       "max          5.00\n",
       "Name: rating, dtype: float64"
      ]
     },
     "execution_count": 63,
     "metadata": {},
     "output_type": "execute_result"
    }
   ],
   "source": [
    "movie_df['rating'].describe()\n",
    "# As rating may also lead in performance of movie recommend so need it.."
   ]
  },
  {
   "cell_type": "code",
   "execution_count": 64,
   "id": "27169c67",
   "metadata": {},
   "outputs": [
    {
     "data": {
      "text/plain": [
       "0     851866703\n",
       "1     938629179\n",
       "2    1331380058\n",
       "3     997938310\n",
       "4     855190091\n",
       "Name: timestamp, dtype: int64"
      ]
     },
     "execution_count": 64,
     "metadata": {},
     "output_type": "execute_result"
    }
   ],
   "source": [
    "movie_df['timestamp'].head()\n",
    "# describes the timeline usually the date and the actual show time "
   ]
  },
  {
   "cell_type": "code",
   "execution_count": 65,
   "id": "8462f4d5",
   "metadata": {},
   "outputs": [
    {
     "data": {
      "text/plain": [
       "Index(['adult', 'belongs_to_collection', 'budget', 'genres', 'homepage', 'id', 'imdb_id', 'original_language', 'original_title', 'overview', 'popularity', 'poster_path', 'production_companies', 'production_countries', 'release_date', 'revenue', 'runtime', 'spoken_languages', 'status', 'tagline', 'title', 'video', 'vote_average', 'vote_count', 'cast', 'crew', 'keywords', 'movieId', 'imdbId', 'userId', 'rating', 'timestamp'], dtype='object')"
      ]
     },
     "execution_count": 65,
     "metadata": {},
     "output_type": "execute_result"
    }
   ],
   "source": [
    "movie_df.columns"
   ]
  },
  {
   "cell_type": "code",
   "execution_count": 66,
   "id": "bf5ab26c",
   "metadata": {},
   "outputs": [],
   "source": [
    "dropping_col = ['adult', 'belongs_to_collection', 'homepage', 'imdb_id', 'original_language', 'original_title',\n",
    " 'production_countries', 'release_date', 'status', 'tagline', 'video', 'movieId', 'imdbId', 'userId', 'timestamp']"
   ]
  },
  {
   "cell_type": "code",
   "execution_count": 67,
   "id": "b1f6011d",
   "metadata": {},
   "outputs": [
    {
     "data": {
      "text/html": [
       "<div>\n",
       "<style scoped>\n",
       "    .dataframe tbody tr th:only-of-type {\n",
       "        vertical-align: middle;\n",
       "    }\n",
       "\n",
       "    .dataframe tbody tr th {\n",
       "        vertical-align: top;\n",
       "    }\n",
       "\n",
       "    .dataframe thead th {\n",
       "        text-align: right;\n",
       "    }\n",
       "</style>\n",
       "<table border=\"1\" class=\"dataframe\">\n",
       "  <thead>\n",
       "    <tr style=\"text-align: right;\">\n",
       "      <th></th>\n",
       "      <th>budget</th>\n",
       "      <th>genres</th>\n",
       "      <th>id</th>\n",
       "      <th>overview</th>\n",
       "      <th>popularity</th>\n",
       "      <th>poster_path</th>\n",
       "      <th>production_companies</th>\n",
       "      <th>revenue</th>\n",
       "      <th>runtime</th>\n",
       "      <th>spoken_languages</th>\n",
       "      <th>title</th>\n",
       "      <th>vote_average</th>\n",
       "      <th>vote_count</th>\n",
       "      <th>cast</th>\n",
       "      <th>crew</th>\n",
       "      <th>keywords</th>\n",
       "      <th>rating</th>\n",
       "    </tr>\n",
       "  </thead>\n",
       "  <tbody>\n",
       "    <tr>\n",
       "      <th>0</th>\n",
       "      <td>30000000</td>\n",
       "      <td>[{'id': 16, 'name': 'Animation'}, {'id': 35, '...</td>\n",
       "      <td>862</td>\n",
       "      <td>Led by Woody, Andy's toys live happily in his ...</td>\n",
       "      <td>21</td>\n",
       "      <td>/rhIRbceoE9lR4veEXuwCC2wARtG.jpg</td>\n",
       "      <td>[{'name': 'Pixar Animation Studios', 'id': 3}]</td>\n",
       "      <td>373554033.00</td>\n",
       "      <td>81.00</td>\n",
       "      <td>[{'iso_639_1': 'en', 'name': 'English'}]</td>\n",
       "      <td>Toy Story</td>\n",
       "      <td>7.70</td>\n",
       "      <td>5415.00</td>\n",
       "      <td>[{'cast_id': 14, 'character': 'Woody (voice)',...</td>\n",
       "      <td>[{'credit_id': '52fe4284c3a36847f8024f49', 'de...</td>\n",
       "      <td>[{'id': 931, 'name': 'jealousy'}, {'id': 4290,...</td>\n",
       "      <td>3.00</td>\n",
       "    </tr>\n",
       "  </tbody>\n",
       "</table>\n",
       "</div>"
      ],
      "text/plain": [
       "     budget                                             genres   id                                           overview  popularity                       poster_path                            production_companies      revenue  runtime                          spoken_languages      title  vote_average  vote_count                                               cast                                               crew                                           keywords  rating\n",
       "0  30000000  [{'id': 16, 'name': 'Animation'}, {'id': 35, '...  862  Led by Woody, Andy's toys live happily in his ...          21  /rhIRbceoE9lR4veEXuwCC2wARtG.jpg  [{'name': 'Pixar Animation Studios', 'id': 3}] 373554033.00    81.00  [{'iso_639_1': 'en', 'name': 'English'}]  Toy Story          7.70     5415.00  [{'cast_id': 14, 'character': 'Woody (voice)',...  [{'credit_id': '52fe4284c3a36847f8024f49', 'de...  [{'id': 931, 'name': 'jealousy'}, {'id': 4290,...    3.00"
      ]
     },
     "execution_count": 67,
     "metadata": {},
     "output_type": "execute_result"
    }
   ],
   "source": [
    "movie_df.drop(dropping_col, axis = 1, inplace = True)\n",
    "movie_df.head(1)"
   ]
  },
  {
   "cell_type": "code",
   "execution_count": 68,
   "id": "91dd9bf4",
   "metadata": {},
   "outputs": [
    {
     "data": {
      "text/plain": [
       "overview       14\n",
       "poster_path     6\n",
       "dtype: int64"
      ]
     },
     "execution_count": 68,
     "metadata": {},
     "output_type": "execute_result"
    }
   ],
   "source": [
    "df_null = movie_df.isnull().sum()\n",
    "df_null[df_null > 0].sort_values(ascending = False)"
   ]
  },
  {
   "cell_type": "code",
   "execution_count": 69,
   "id": "f74f7790",
   "metadata": {},
   "outputs": [],
   "source": [
    "movie_df.dropna(inplace = True)"
   ]
  },
  {
   "cell_type": "code",
   "execution_count": 70,
   "id": "3d19e198",
   "metadata": {},
   "outputs": [
    {
     "data": {
      "text/plain": [
       "Series([], dtype: int64)"
      ]
     },
     "execution_count": 70,
     "metadata": {},
     "output_type": "execute_result"
    }
   ],
   "source": [
    "df_null = movie_df.isnull().sum()\n",
    "df_null[df_null > 0].sort_values(ascending = False)"
   ]
  },
  {
   "cell_type": "code",
   "execution_count": 71,
   "id": "59d116e7",
   "metadata": {},
   "outputs": [
    {
     "data": {
      "text/plain": [
       "71508"
      ]
     },
     "execution_count": 71,
     "metadata": {},
     "output_type": "execute_result"
    }
   ],
   "source": [
    "movie_df.duplicated().sum()"
   ]
  },
  {
   "cell_type": "markdown",
   "id": "9f5c7735",
   "metadata": {},
   "source": [
    "    After removing the useless column we got 75% of duplicate values that may lead to data duplicacy so need to resolve "
   ]
  },
  {
   "cell_type": "code",
   "execution_count": 72,
   "id": "3d0d7c21",
   "metadata": {},
   "outputs": [],
   "source": [
    "movie_df.drop_duplicates(inplace = True)"
   ]
  },
  {
   "cell_type": "code",
   "execution_count": 73,
   "id": "ab56173f",
   "metadata": {},
   "outputs": [
    {
     "data": {
      "text/plain": [
       "(28594, 17)"
      ]
     },
     "execution_count": 73,
     "metadata": {},
     "output_type": "execute_result"
    }
   ],
   "source": [
    "movie_df.shape"
   ]
  },
  {
   "cell_type": "markdown",
   "id": "d3aae976",
   "metadata": {},
   "source": [
    "##### Now let's fetch out the important items."
   ]
  },
  {
   "cell_type": "markdown",
   "id": "dcc38427",
   "metadata": {},
   "source": [
    "    Genres from genre we have id name for each genre in our dataset as we are most interested in the name of genre \n",
    "    not on its id, we only keep its name by removing the extra unnecessary information."
   ]
  },
  {
   "cell_type": "code",
   "execution_count": 74,
   "id": "1b66e6e7",
   "metadata": {
    "execution": {
     "iopub.execute_input": "2023-05-25T09:14:38.335258Z",
     "iopub.status.busy": "2023-05-25T09:14:38.332510Z",
     "iopub.status.idle": "2023-05-25T09:14:38.358622Z",
     "shell.execute_reply": "2023-05-25T09:14:38.352938Z",
     "shell.execute_reply.started": "2023-05-25T09:14:38.335128Z"
    }
   },
   "outputs": [],
   "source": [
    "def genre_convert(data):\n",
    "    # Convert genre string to list of genre names.\n",
    "    genre = []\n",
    "    for i in ast.literal_eval(data):\n",
    "        genre.append(i['name'])\n",
    "    return genre"
   ]
  },
  {
   "cell_type": "code",
   "execution_count": 75,
   "id": "6a2262b8",
   "metadata": {
    "execution": {
     "iopub.execute_input": "2023-05-25T09:14:38.366189Z",
     "iopub.status.busy": "2023-05-25T09:14:38.365351Z",
     "iopub.status.idle": "2023-05-25T09:14:39.508631Z",
     "shell.execute_reply": "2023-05-25T09:14:39.507056Z",
     "shell.execute_reply.started": "2023-05-25T09:14:38.366124Z"
    }
   },
   "outputs": [],
   "source": [
    "movie_df['genres'] = movie_df['genres'].apply(genre_convert)"
   ]
  },
  {
   "cell_type": "code",
   "execution_count": 76,
   "id": "cb27c5a7",
   "metadata": {
    "execution": {
     "iopub.execute_input": "2023-05-25T09:14:57.831573Z",
     "iopub.status.busy": "2023-05-25T09:14:57.831122Z",
     "iopub.status.idle": "2023-05-25T09:14:57.846607Z",
     "shell.execute_reply": "2023-05-25T09:14:57.844573Z",
     "shell.execute_reply.started": "2023-05-25T09:14:57.831539Z"
    }
   },
   "outputs": [
    {
     "data": {
      "text/plain": [
       "0    [Animation, Comedy, Family]\n",
       "1    [Animation, Comedy, Family]\n",
       "2    [Animation, Comedy, Family]\n",
       "3    [Animation, Comedy, Family]\n",
       "5    [Animation, Comedy, Family]\n",
       "Name: genres, dtype: object"
      ]
     },
     "execution_count": 76,
     "metadata": {},
     "output_type": "execute_result"
    }
   ],
   "source": [
    "movie_df['genres'].head()"
   ]
  },
  {
   "cell_type": "markdown",
   "id": "774714cc",
   "metadata": {},
   "source": [
    "    In keywords we have id name for each keywords in our dataset as we are most interested in the name of keywords \n",
    "    not on its id, we only keep its name by removing the extra unnecessary information"
   ]
  },
  {
   "cell_type": "code",
   "execution_count": 77,
   "id": "9dab01e8",
   "metadata": {
    "execution": {
     "iopub.execute_input": "2023-05-25T09:14:39.510656Z",
     "iopub.status.busy": "2023-05-25T09:14:39.510280Z",
     "iopub.status.idle": "2023-05-25T09:14:39.518768Z",
     "shell.execute_reply": "2023-05-25T09:14:39.516958Z",
     "shell.execute_reply.started": "2023-05-25T09:14:39.510623Z"
    }
   },
   "outputs": [],
   "source": [
    "def name_convert(data):\n",
    "    # Convert keyword string to list of keyword names.\n",
    "    keywords = []\n",
    "    for i in ast.literal_eval(data):\n",
    "        keywords.append(i['name'])\n",
    "    return keywords "
   ]
  },
  {
   "cell_type": "code",
   "execution_count": 78,
   "id": "ed854136",
   "metadata": {
    "execution": {
     "iopub.execute_input": "2023-05-25T09:14:39.520978Z",
     "iopub.status.busy": "2023-05-25T09:14:39.520572Z",
     "iopub.status.idle": "2023-05-25T09:14:42.728172Z",
     "shell.execute_reply": "2023-05-25T09:14:42.726521Z",
     "shell.execute_reply.started": "2023-05-25T09:14:39.520943Z"
    }
   },
   "outputs": [],
   "source": [
    "movie_df['keywords'] = movie_df['keywords'].apply(name_convert)"
   ]
  },
  {
   "cell_type": "code",
   "execution_count": 79,
   "id": "378cd898",
   "metadata": {
    "execution": {
     "iopub.execute_input": "2023-05-25T09:14:42.730299Z",
     "iopub.status.busy": "2023-05-25T09:14:42.729832Z",
     "iopub.status.idle": "2023-05-25T09:14:42.745836Z",
     "shell.execute_reply": "2023-05-25T09:14:42.744122Z",
     "shell.execute_reply.started": "2023-05-25T09:14:42.730259Z"
    }
   },
   "outputs": [
    {
     "data": {
      "text/plain": [
       "0    [jealousy, toy, boy, friendship, friends, riva...\n",
       "1    [jealousy, toy, boy, friendship, friends, riva...\n",
       "2    [jealousy, toy, boy, friendship, friends, riva...\n",
       "3    [jealousy, toy, boy, friendship, friends, riva...\n",
       "5    [jealousy, toy, boy, friendship, friends, riva...\n",
       "Name: keywords, dtype: object"
      ]
     },
     "execution_count": 79,
     "metadata": {},
     "output_type": "execute_result"
    }
   ],
   "source": [
    "movie_df['keywords'].head()"
   ]
  },
  {
   "cell_type": "markdown",
   "id": "726fe78b",
   "metadata": {},
   "source": [
    "    Same in cast we have cast_id and character for each cast in our dataset as we are most interested in\n",
    "    the character of cast not on its id, we only keep its name by removing the extra unnecessary information"
   ]
  },
  {
   "cell_type": "code",
   "execution_count": 80,
   "id": "fdae6d47",
   "metadata": {
    "execution": {
     "iopub.execute_input": "2023-05-25T09:15:11.596855Z",
     "iopub.status.busy": "2023-05-25T09:15:11.596436Z",
     "iopub.status.idle": "2023-05-25T09:15:11.604774Z",
     "shell.execute_reply": "2023-05-25T09:15:11.602706Z",
     "shell.execute_reply.started": "2023-05-25T09:15:11.596823Z"
    }
   },
   "outputs": [],
   "source": [
    "def cast_names(data):\n",
    "    # Get names of first three actors.\n",
    "    actors = []\n",
    "    counter = 0\n",
    "    for i in ast.literal_eval(data):\n",
    "        if counter != 3:\n",
    "            actors.append(i['name'])\n",
    "            counter += 1\n",
    "    return actors "
   ]
  },
  {
   "cell_type": "code",
   "execution_count": 81,
   "id": "8db2f677",
   "metadata": {
    "execution": {
     "iopub.execute_input": "2023-05-25T09:15:23.859087Z",
     "iopub.status.busy": "2023-05-25T09:15:23.858639Z",
     "iopub.status.idle": "2023-05-25T09:15:55.198880Z",
     "shell.execute_reply": "2023-05-25T09:15:55.197302Z",
     "shell.execute_reply.started": "2023-05-25T09:15:23.859053Z"
    }
   },
   "outputs": [],
   "source": [
    "movie_df['cast'] = movie_df['cast'].apply(cast_names)"
   ]
  },
  {
   "cell_type": "code",
   "execution_count": 82,
   "id": "bd5a4dc7",
   "metadata": {
    "execution": {
     "iopub.execute_input": "2023-05-25T09:16:10.740269Z",
     "iopub.status.busy": "2023-05-25T09:16:10.739535Z",
     "iopub.status.idle": "2023-05-25T09:16:10.751657Z",
     "shell.execute_reply": "2023-05-25T09:16:10.750604Z",
     "shell.execute_reply.started": "2023-05-25T09:16:10.740204Z"
    }
   },
   "outputs": [
    {
     "data": {
      "text/plain": [
       "0    [Tom Hanks, Tim Allen, Don Rickles]\n",
       "1    [Tom Hanks, Tim Allen, Don Rickles]\n",
       "2    [Tom Hanks, Tim Allen, Don Rickles]\n",
       "3    [Tom Hanks, Tim Allen, Don Rickles]\n",
       "5    [Tom Hanks, Tim Allen, Don Rickles]\n",
       "Name: cast, dtype: object"
      ]
     },
     "execution_count": 82,
     "metadata": {},
     "output_type": "execute_result"
    }
   ],
   "source": [
    "movie_df['cast'].head()"
   ]
  },
  {
   "cell_type": "markdown",
   "id": "563c04cb",
   "metadata": {},
   "source": [
    "    Same for Crew"
   ]
  },
  {
   "cell_type": "code",
   "execution_count": 83,
   "id": "5523ee31",
   "metadata": {
    "execution": {
     "iopub.execute_input": "2023-05-25T09:16:15.648849Z",
     "iopub.status.busy": "2023-05-25T09:16:15.648400Z",
     "iopub.status.idle": "2023-05-25T09:16:15.654833Z",
     "shell.execute_reply": "2023-05-25T09:16:15.653463Z",
     "shell.execute_reply.started": "2023-05-25T09:16:15.648817Z"
    }
   },
   "outputs": [],
   "source": [
    "def crew_names(data):\n",
    "    # Get the director's name.\n",
    "    director = []\n",
    "    for i in ast.literal_eval(data):\n",
    "        if i['job'] == \"Director\":\n",
    "            director.append(i['name'])\n",
    "            break\n",
    "    return director"
   ]
  },
  {
   "cell_type": "code",
   "execution_count": 84,
   "id": "ff62cb1d",
   "metadata": {
    "execution": {
     "iopub.execute_input": "2023-05-25T09:16:20.573561Z",
     "iopub.status.busy": "2023-05-25T09:16:20.573022Z",
     "iopub.status.idle": "2023-05-25T09:16:51.532449Z",
     "shell.execute_reply": "2023-05-25T09:16:51.530792Z",
     "shell.execute_reply.started": "2023-05-25T09:16:20.573517Z"
    }
   },
   "outputs": [],
   "source": [
    "movie_df['crew'] = movie_df['crew'].apply(crew_names)"
   ]
  },
  {
   "cell_type": "code",
   "execution_count": 85,
   "id": "536c9f2a",
   "metadata": {
    "execution": {
     "iopub.execute_input": "2023-05-25T09:17:13.024757Z",
     "iopub.status.busy": "2023-05-25T09:17:13.024305Z",
     "iopub.status.idle": "2023-05-25T09:17:13.038540Z",
     "shell.execute_reply": "2023-05-25T09:17:13.036975Z",
     "shell.execute_reply.started": "2023-05-25T09:17:13.024726Z"
    }
   },
   "outputs": [
    {
     "data": {
      "text/plain": [
       "0               [John Lasseter]\n",
       "1               [John Lasseter]\n",
       "2               [John Lasseter]\n",
       "3               [John Lasseter]\n",
       "5               [John Lasseter]\n",
       "                  ...          \n",
       "100117    [Anthony C. Ferrante]\n",
       "100118         [Gregg Champion]\n",
       "100119      [Tinu Suresh Desai]\n",
       "100120     [Ashutosh Gowariker]\n",
       "100121             [Ron Howard]\n",
       "Name: crew, Length: 28594, dtype: object"
      ]
     },
     "execution_count": 85,
     "metadata": {},
     "output_type": "execute_result"
    }
   ],
   "source": [
    "movie_df['crew']"
   ]
  },
  {
   "cell_type": "markdown",
   "id": "18c719e5",
   "metadata": {},
   "source": [
    "     As done for Spoken Languages is also same"
   ]
  },
  {
   "cell_type": "code",
   "execution_count": 86,
   "id": "5c8d269f",
   "metadata": {
    "execution": {
     "iopub.execute_input": "2023-05-25T09:17:54.672158Z",
     "iopub.status.busy": "2023-05-25T09:17:54.671785Z",
     "iopub.status.idle": "2023-05-25T09:17:54.678319Z",
     "shell.execute_reply": "2023-05-25T09:17:54.676955Z",
     "shell.execute_reply.started": "2023-05-25T09:17:54.672127Z"
    }
   },
   "outputs": [],
   "source": [
    "def spoken_lang(data):\n",
    "    # Convert spoken language string to list of language names.\n",
    "    keywords = []\n",
    "    for i in ast.literal_eval(data):\n",
    "        keywords.append(i['name'])\n",
    "    return keywords"
   ]
  },
  {
   "cell_type": "code",
   "execution_count": 87,
   "id": "405fccab",
   "metadata": {
    "execution": {
     "iopub.execute_input": "2023-05-25T09:17:59.351500Z",
     "iopub.status.busy": "2023-05-25T09:17:59.351073Z",
     "iopub.status.idle": "2023-05-25T09:18:00.517037Z",
     "shell.execute_reply": "2023-05-25T09:18:00.514872Z",
     "shell.execute_reply.started": "2023-05-25T09:17:59.351466Z"
    }
   },
   "outputs": [],
   "source": [
    "movie_df['spoken_languages'] = movie_df['spoken_languages'].apply(spoken_lang)"
   ]
  },
  {
   "cell_type": "code",
   "execution_count": 88,
   "id": "3fb90f7e",
   "metadata": {
    "execution": {
     "iopub.execute_input": "2023-05-25T09:18:03.938098Z",
     "iopub.status.busy": "2023-05-25T09:18:03.937681Z",
     "iopub.status.idle": "2023-05-25T09:18:03.948592Z",
     "shell.execute_reply": "2023-05-25T09:18:03.947752Z",
     "shell.execute_reply.started": "2023-05-25T09:18:03.938064Z"
    }
   },
   "outputs": [
    {
     "data": {
      "text/plain": [
       "0    [English]\n",
       "1    [English]\n",
       "2    [English]\n",
       "3    [English]\n",
       "5    [English]\n",
       "Name: spoken_languages, dtype: object"
      ]
     },
     "execution_count": 88,
     "metadata": {},
     "output_type": "execute_result"
    }
   ],
   "source": [
    "movie_df['spoken_languages'].head()"
   ]
  },
  {
   "cell_type": "code",
   "execution_count": 89,
   "id": "7d0c02d5",
   "metadata": {
    "execution": {
     "iopub.execute_input": "2023-05-25T09:18:10.451940Z",
     "iopub.status.busy": "2023-05-25T09:18:10.451568Z",
     "iopub.status.idle": "2023-05-25T09:18:10.458851Z",
     "shell.execute_reply": "2023-05-25T09:18:10.457261Z",
     "shell.execute_reply.started": "2023-05-25T09:18:10.451910Z"
    }
   },
   "outputs": [],
   "source": [
    "def production_companies(data):\n",
    "    # Convert production companies string to list of names.\n",
    "    production_companies = []\n",
    "    for i in ast.literal_eval(data):\n",
    "        production_companies.append(i['name'])\n",
    "    return production_companies "
   ]
  },
  {
   "cell_type": "code",
   "execution_count": 90,
   "id": "92ac7ecf",
   "metadata": {
    "execution": {
     "iopub.execute_input": "2023-05-25T09:18:13.053366Z",
     "iopub.status.busy": "2023-05-25T09:18:13.052976Z",
     "iopub.status.idle": "2023-05-25T09:18:14.159404Z",
     "shell.execute_reply": "2023-05-25T09:18:14.157865Z",
     "shell.execute_reply.started": "2023-05-25T09:18:13.053338Z"
    }
   },
   "outputs": [],
   "source": [
    "movie_df['production_companies'] = movie_df['production_companies'].apply(production_companies)"
   ]
  },
  {
   "cell_type": "code",
   "execution_count": 91,
   "id": "34819689",
   "metadata": {
    "execution": {
     "iopub.execute_input": "2023-05-25T09:18:31.048494Z",
     "iopub.status.busy": "2023-05-25T09:18:31.048026Z",
     "iopub.status.idle": "2023-05-25T09:18:31.060973Z",
     "shell.execute_reply": "2023-05-25T09:18:31.059733Z",
     "shell.execute_reply.started": "2023-05-25T09:18:31.048462Z"
    }
   },
   "outputs": [
    {
     "data": {
      "text/plain": [
       "0    [Pixar Animation Studios]\n",
       "1    [Pixar Animation Studios]\n",
       "2    [Pixar Animation Studios]\n",
       "3    [Pixar Animation Studios]\n",
       "5    [Pixar Animation Studios]\n",
       "Name: production_companies, dtype: object"
      ]
     },
     "execution_count": 91,
     "metadata": {},
     "output_type": "execute_result"
    }
   ],
   "source": [
    "movie_df['production_companies'].head()"
   ]
  },
  {
   "cell_type": "code",
   "execution_count": 92,
   "id": "dadf2ab4",
   "metadata": {},
   "outputs": [
    {
     "data": {
      "text/plain": [
       "0    /rhIRbceoE9lR4veEXuwCC2wARtG.jpg\n",
       "Name: poster_path, dtype: object"
      ]
     },
     "execution_count": 92,
     "metadata": {},
     "output_type": "execute_result"
    }
   ],
   "source": [
    "movie_df['poster_path'].head(1)"
   ]
  },
  {
   "cell_type": "code",
   "execution_count": 93,
   "id": "a708ab2a",
   "metadata": {},
   "outputs": [
    {
     "data": {
      "text/plain": [
       "100121    <img src='https://image.tmdb.org/t/p/w185//uv7...\n",
       "Name: poster_path, dtype: object"
      ]
     },
     "execution_count": 93,
     "metadata": {},
     "output_type": "execute_result"
    }
   ],
   "source": [
    "movie_df['poster_path'] = \"<img src='https://image.tmdb.org/t/p/w185/\" + movie_df['poster_path'] + \"' style='height:100px;'/>\"\n",
    "movie_df['poster_path'].tail(1)"
   ]
  },
  {
   "cell_type": "code",
   "execution_count": 94,
   "id": "b1744795",
   "metadata": {
    "execution": {
     "iopub.execute_input": "2023-05-25T09:18:38.430440Z",
     "iopub.status.busy": "2023-05-25T09:18:38.430019Z",
     "iopub.status.idle": "2023-05-25T09:18:39.051036Z",
     "shell.execute_reply": "2023-05-25T09:18:39.048810Z",
     "shell.execute_reply.started": "2023-05-25T09:18:38.430390Z"
    }
   },
   "outputs": [],
   "source": [
    "movie_df['genres'] = movie_df['genres'].apply(lambda x:[i.replace(\" \",\"\") for i in x])\n",
    "movie_df['cast'] = movie_df['cast'].apply(lambda x:[i.replace(\" \",\"\") for i in x])\n",
    "movie_df['crew'] = movie_df['crew'].apply(lambda x:[i.replace(\" \",\"\") for i in x])\n",
    "movie_df['keywords'] = movie_df['keywords'].apply(lambda x:[i.replace(\" \",\"\") for i in x])"
   ]
  },
  {
   "cell_type": "code",
   "execution_count": 95,
   "id": "55ea686f",
   "metadata": {
    "execution": {
     "iopub.execute_input": "2023-05-25T09:18:48.478548Z",
     "iopub.status.busy": "2023-05-25T09:18:48.477301Z",
     "iopub.status.idle": "2023-05-25T09:18:48.556985Z",
     "shell.execute_reply": "2023-05-25T09:18:48.555656Z",
     "shell.execute_reply.started": "2023-05-25T09:18:48.478512Z"
    }
   },
   "outputs": [],
   "source": [
    "movie_df['genres'] = movie_df['genres'].apply(lambda x:\" \".join(x))\n",
    "movie_df['cast'] = movie_df['cast'].apply(lambda x:\" \".join(x))\n",
    "movie_df['crew'] = movie_df['crew'].apply(lambda x:\" \".join(x))\n",
    "movie_df['keywords'] = movie_df['keywords'].apply(lambda x:\" \".join(x))\n",
    "movie_df['spoken_languages'] = movie_df['spoken_languages'].apply(lambda x:\" \".join(x))\n",
    "movie_df['production_companies'] = movie_df['production_companies'].apply(lambda x:\" \".join(x))"
   ]
  },
  {
   "cell_type": "code",
   "execution_count": 96,
   "id": "dfa7bc1f",
   "metadata": {
    "execution": {
     "iopub.execute_input": "2023-05-25T09:19:06.211434Z",
     "iopub.status.busy": "2023-05-25T09:19:06.210768Z",
     "iopub.status.idle": "2023-05-25T09:19:06.243330Z",
     "shell.execute_reply": "2023-05-25T09:19:06.241823Z",
     "shell.execute_reply.started": "2023-05-25T09:19:06.211366Z"
    }
   },
   "outputs": [
    {
     "data": {
      "text/html": [
       "<div>\n",
       "<style scoped>\n",
       "    .dataframe tbody tr th:only-of-type {\n",
       "        vertical-align: middle;\n",
       "    }\n",
       "\n",
       "    .dataframe tbody tr th {\n",
       "        vertical-align: top;\n",
       "    }\n",
       "\n",
       "    .dataframe thead th {\n",
       "        text-align: right;\n",
       "    }\n",
       "</style>\n",
       "<table border=\"1\" class=\"dataframe\">\n",
       "  <thead>\n",
       "    <tr style=\"text-align: right;\">\n",
       "      <th></th>\n",
       "      <th>budget</th>\n",
       "      <th>genres</th>\n",
       "      <th>id</th>\n",
       "      <th>overview</th>\n",
       "      <th>popularity</th>\n",
       "      <th>poster_path</th>\n",
       "      <th>production_companies</th>\n",
       "      <th>revenue</th>\n",
       "      <th>runtime</th>\n",
       "      <th>spoken_languages</th>\n",
       "      <th>title</th>\n",
       "      <th>vote_average</th>\n",
       "      <th>vote_count</th>\n",
       "      <th>cast</th>\n",
       "      <th>crew</th>\n",
       "      <th>keywords</th>\n",
       "      <th>rating</th>\n",
       "    </tr>\n",
       "  </thead>\n",
       "  <tbody>\n",
       "    <tr>\n",
       "      <th>0</th>\n",
       "      <td>30000000</td>\n",
       "      <td>Animation Comedy Family</td>\n",
       "      <td>862</td>\n",
       "      <td>Led by Woody, Andy's toys live happily in his ...</td>\n",
       "      <td>21</td>\n",
       "      <td>&lt;img src='https://image.tmdb.org/t/p/w185//rhI...</td>\n",
       "      <td>Pixar Animation Studios</td>\n",
       "      <td>373554033.00</td>\n",
       "      <td>81.00</td>\n",
       "      <td>English</td>\n",
       "      <td>Toy Story</td>\n",
       "      <td>7.70</td>\n",
       "      <td>5415.00</td>\n",
       "      <td>TomHanks TimAllen DonRickles</td>\n",
       "      <td>JohnLasseter</td>\n",
       "      <td>jealousy toy boy friendship friends rivalry bo...</td>\n",
       "      <td>3.00</td>\n",
       "    </tr>\n",
       "    <tr>\n",
       "      <th>1</th>\n",
       "      <td>30000000</td>\n",
       "      <td>Animation Comedy Family</td>\n",
       "      <td>862</td>\n",
       "      <td>Led by Woody, Andy's toys live happily in his ...</td>\n",
       "      <td>21</td>\n",
       "      <td>&lt;img src='https://image.tmdb.org/t/p/w185//rhI...</td>\n",
       "      <td>Pixar Animation Studios</td>\n",
       "      <td>373554033.00</td>\n",
       "      <td>81.00</td>\n",
       "      <td>English</td>\n",
       "      <td>Toy Story</td>\n",
       "      <td>7.70</td>\n",
       "      <td>5415.00</td>\n",
       "      <td>TomHanks TimAllen DonRickles</td>\n",
       "      <td>JohnLasseter</td>\n",
       "      <td>jealousy toy boy friendship friends rivalry bo...</td>\n",
       "      <td>4.00</td>\n",
       "    </tr>\n",
       "    <tr>\n",
       "      <th>2</th>\n",
       "      <td>30000000</td>\n",
       "      <td>Animation Comedy Family</td>\n",
       "      <td>862</td>\n",
       "      <td>Led by Woody, Andy's toys live happily in his ...</td>\n",
       "      <td>21</td>\n",
       "      <td>&lt;img src='https://image.tmdb.org/t/p/w185//rhI...</td>\n",
       "      <td>Pixar Animation Studios</td>\n",
       "      <td>373554033.00</td>\n",
       "      <td>81.00</td>\n",
       "      <td>English</td>\n",
       "      <td>Toy Story</td>\n",
       "      <td>7.70</td>\n",
       "      <td>5415.00</td>\n",
       "      <td>TomHanks TimAllen DonRickles</td>\n",
       "      <td>JohnLasseter</td>\n",
       "      <td>jealousy toy boy friendship friends rivalry bo...</td>\n",
       "      <td>5.00</td>\n",
       "    </tr>\n",
       "    <tr>\n",
       "      <th>3</th>\n",
       "      <td>30000000</td>\n",
       "      <td>Animation Comedy Family</td>\n",
       "      <td>862</td>\n",
       "      <td>Led by Woody, Andy's toys live happily in his ...</td>\n",
       "      <td>21</td>\n",
       "      <td>&lt;img src='https://image.tmdb.org/t/p/w185//rhI...</td>\n",
       "      <td>Pixar Animation Studios</td>\n",
       "      <td>373554033.00</td>\n",
       "      <td>81.00</td>\n",
       "      <td>English</td>\n",
       "      <td>Toy Story</td>\n",
       "      <td>7.70</td>\n",
       "      <td>5415.00</td>\n",
       "      <td>TomHanks TimAllen DonRickles</td>\n",
       "      <td>JohnLasseter</td>\n",
       "      <td>jealousy toy boy friendship friends rivalry bo...</td>\n",
       "      <td>2.00</td>\n",
       "    </tr>\n",
       "    <tr>\n",
       "      <th>5</th>\n",
       "      <td>30000000</td>\n",
       "      <td>Animation Comedy Family</td>\n",
       "      <td>862</td>\n",
       "      <td>Led by Woody, Andy's toys live happily in his ...</td>\n",
       "      <td>21</td>\n",
       "      <td>&lt;img src='https://image.tmdb.org/t/p/w185//rhI...</td>\n",
       "      <td>Pixar Animation Studios</td>\n",
       "      <td>373554033.00</td>\n",
       "      <td>81.00</td>\n",
       "      <td>English</td>\n",
       "      <td>Toy Story</td>\n",
       "      <td>7.70</td>\n",
       "      <td>5415.00</td>\n",
       "      <td>TomHanks TimAllen DonRickles</td>\n",
       "      <td>JohnLasseter</td>\n",
       "      <td>jealousy toy boy friendship friends rivalry bo...</td>\n",
       "      <td>3.50</td>\n",
       "    </tr>\n",
       "  </tbody>\n",
       "</table>\n",
       "</div>"
      ],
      "text/plain": [
       "     budget                   genres   id                                           overview  popularity                                        poster_path     production_companies      revenue  runtime spoken_languages      title  vote_average  vote_count                          cast          crew                                           keywords  rating\n",
       "0  30000000  Animation Comedy Family  862  Led by Woody, Andy's toys live happily in his ...          21  <img src='https://image.tmdb.org/t/p/w185//rhI...  Pixar Animation Studios 373554033.00    81.00          English  Toy Story          7.70     5415.00  TomHanks TimAllen DonRickles  JohnLasseter  jealousy toy boy friendship friends rivalry bo...    3.00\n",
       "1  30000000  Animation Comedy Family  862  Led by Woody, Andy's toys live happily in his ...          21  <img src='https://image.tmdb.org/t/p/w185//rhI...  Pixar Animation Studios 373554033.00    81.00          English  Toy Story          7.70     5415.00  TomHanks TimAllen DonRickles  JohnLasseter  jealousy toy boy friendship friends rivalry bo...    4.00\n",
       "2  30000000  Animation Comedy Family  862  Led by Woody, Andy's toys live happily in his ...          21  <img src='https://image.tmdb.org/t/p/w185//rhI...  Pixar Animation Studios 373554033.00    81.00          English  Toy Story          7.70     5415.00  TomHanks TimAllen DonRickles  JohnLasseter  jealousy toy boy friendship friends rivalry bo...    5.00\n",
       "3  30000000  Animation Comedy Family  862  Led by Woody, Andy's toys live happily in his ...          21  <img src='https://image.tmdb.org/t/p/w185//rhI...  Pixar Animation Studios 373554033.00    81.00          English  Toy Story          7.70     5415.00  TomHanks TimAllen DonRickles  JohnLasseter  jealousy toy boy friendship friends rivalry bo...    2.00\n",
       "5  30000000  Animation Comedy Family  862  Led by Woody, Andy's toys live happily in his ...          21  <img src='https://image.tmdb.org/t/p/w185//rhI...  Pixar Animation Studios 373554033.00    81.00          English  Toy Story          7.70     5415.00  TomHanks TimAllen DonRickles  JohnLasseter  jealousy toy boy friendship friends rivalry bo...    3.50"
      ]
     },
     "execution_count": 96,
     "metadata": {},
     "output_type": "execute_result"
    }
   ],
   "source": [
    "movie_df.head(5)"
   ]
  },
  {
   "cell_type": "code",
   "execution_count": 97,
   "id": "9d359b3c",
   "metadata": {},
   "outputs": [
    {
     "data": {
      "text/plain": [
       "18"
      ]
     },
     "execution_count": 97,
     "metadata": {},
     "output_type": "execute_result"
    }
   ],
   "source": [
    "movie_df.duplicated().sum()"
   ]
  },
  {
   "cell_type": "code",
   "execution_count": 98,
   "id": "c2f5d828",
   "metadata": {},
   "outputs": [],
   "source": [
    "movie_df.drop_duplicates(inplace = True)"
   ]
  },
  {
   "cell_type": "markdown",
   "id": "b7d09491",
   "metadata": {},
   "source": [
    "##### Now its seems that we have dont all the works lets save the file for future purpose!"
   ]
  },
  {
   "cell_type": "code",
   "execution_count": 99,
   "id": "bbfcc48a",
   "metadata": {},
   "outputs": [],
   "source": [
    "movie_df.to_csv('DataSet_Clean/Movie_Clean.csv', index = False)"
   ]
  },
  {
   "cell_type": "markdown",
   "id": "c2674af4",
   "metadata": {},
   "source": [
    "    Thanks Now Exploratory Data Analysis is done in another Notebook"
   ]
  },
  {
   "cell_type": "code",
   "execution_count": 100,
   "id": "6248a80c",
   "metadata": {},
   "outputs": [],
   "source": [
    "100 Steps to Clean with \n",
    "    100 Accuracy "
   ]
  },
  {
   "cell_type": "code",
   "execution_count": null,
   "id": "2b3a2708",
   "metadata": {},
   "outputs": [],
   "source": []
  },
  {
   "cell_type": "markdown",
   "id": "d9d25efd",
   "metadata": {},
   "source": [
    "# Data Cleaning --- Vikas Kumar Ram"
   ]
  }
 ],
 "metadata": {
  "kernelspec": {
   "display_name": "Python 3 (ipykernel)",
   "language": "python",
   "name": "python3"
  },
  "language_info": {
   "codemirror_mode": {
    "name": "ipython",
    "version": 3
   },
   "file_extension": ".py",
   "mimetype": "text/x-python",
   "name": "python",
   "nbconvert_exporter": "python",
   "pygments_lexer": "ipython3",
   "version": "3.11.5"
  }
 },
 "nbformat": 4,
 "nbformat_minor": 5
}
