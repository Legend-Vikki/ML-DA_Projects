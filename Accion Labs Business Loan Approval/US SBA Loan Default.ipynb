{
 "cells": [
  {
   "cell_type": "markdown",
   "id": "557c56ce",
   "metadata": {},
   "source": [
    "##### “Should This Loan be Approved or Denied?”"
   ]
  },
  {
   "cell_type": "markdown",
   "id": "e94bd3b4",
   "metadata": {},
   "source": [
    "    This assignment is ideal for data analysis courses for several reasons.\n",
    "        1. The case study incorporates all of the 2016 GAISE recommendations.\n",
    "        2. The topic itself captures students’ interest, for it is an application of actual data related to \n",
    "            real-life financial decisions.\n",
    "        3. Students are exposed to managing a large dataset and understanding how historical \n",
    "            data can be used to make informed decisions.\n",
    "        4. Critical thinking is promoted; analysis, synthesis, and decision making skills are used.\n",
    "        5. Students are introduced to logistic regression and other more advanced methods for classification.\n",
    "        6. The importance of identifying reasonable explanatory variables (e.g., risk indicators for loan default) \n",
    "            to incorporate into statistical models provides lively and engaging discussions"
   ]
  },
  {
   "cell_type": "markdown",
   "id": "e5196d10",
   "metadata": {},
   "source": [
    "#### Importing Libraries for our use :"
   ]
  },
  {
   "cell_type": "code",
   "execution_count": 472,
   "id": "ee4fa1af",
   "metadata": {},
   "outputs": [],
   "source": [
    "import pandas as pd, numpy as np\n",
    "import matplotlib.pyplot as plt\n",
    "import seaborn as sns, plotly.express as px\n",
    "import regex as re\n",
    "import math\n",
    "\n",
    "import missingno as msno\n",
    "import warnings\n",
    "warnings.filterwarnings('ignore')"
   ]
  },
  {
   "cell_type": "markdown",
   "id": "243d1fbd",
   "metadata": {},
   "source": [
    "    Reading the Data Frame so that we can Check whats Going right Here. "
   ]
  },
  {
   "cell_type": "code",
   "execution_count": 473,
   "id": "f9cacf9e",
   "metadata": {},
   "outputs": [
    {
     "data": {
      "text/html": [
       "<div>\n",
       "<style scoped>\n",
       "    .dataframe tbody tr th:only-of-type {\n",
       "        vertical-align: middle;\n",
       "    }\n",
       "\n",
       "    .dataframe tbody tr th {\n",
       "        vertical-align: top;\n",
       "    }\n",
       "\n",
       "    .dataframe thead th {\n",
       "        text-align: right;\n",
       "    }\n",
       "</style>\n",
       "<table border=\"1\" class=\"dataframe\">\n",
       "  <thead>\n",
       "    <tr style=\"text-align: right;\">\n",
       "      <th></th>\n",
       "      <th>LoanNr_ChkDgt</th>\n",
       "      <th>Name</th>\n",
       "      <th>City</th>\n",
       "      <th>State</th>\n",
       "      <th>Zip</th>\n",
       "      <th>Bank</th>\n",
       "      <th>BankState</th>\n",
       "      <th>NAICS</th>\n",
       "      <th>ApprovalDate</th>\n",
       "      <th>ApprovalFY</th>\n",
       "      <th>...</th>\n",
       "      <th>RevLineCr</th>\n",
       "      <th>LowDoc</th>\n",
       "      <th>ChgOffDate</th>\n",
       "      <th>DisbursementDate</th>\n",
       "      <th>DisbursementGross</th>\n",
       "      <th>BalanceGross</th>\n",
       "      <th>MIS_Status</th>\n",
       "      <th>ChgOffPrinGr</th>\n",
       "      <th>GrAppv</th>\n",
       "      <th>SBA_Appv</th>\n",
       "    </tr>\n",
       "  </thead>\n",
       "  <tbody>\n",
       "    <tr>\n",
       "      <th>0</th>\n",
       "      <td>1000014003</td>\n",
       "      <td>ABC HOBBYCRAFT</td>\n",
       "      <td>EVANSVILLE</td>\n",
       "      <td>IN</td>\n",
       "      <td>47711</td>\n",
       "      <td>FIFTH THIRD BANK</td>\n",
       "      <td>OH</td>\n",
       "      <td>451120</td>\n",
       "      <td>28-Feb-97</td>\n",
       "      <td>1997</td>\n",
       "      <td>...</td>\n",
       "      <td>N</td>\n",
       "      <td>Y</td>\n",
       "      <td>NaN</td>\n",
       "      <td>28-Feb-99</td>\n",
       "      <td>$60,000.00</td>\n",
       "      <td>$0.00</td>\n",
       "      <td>P I F</td>\n",
       "      <td>$0.00</td>\n",
       "      <td>$60,000.00</td>\n",
       "      <td>$48,000.00</td>\n",
       "    </tr>\n",
       "    <tr>\n",
       "      <th>1</th>\n",
       "      <td>1000024006</td>\n",
       "      <td>LANDMARK BAR &amp; GRILLE (THE)</td>\n",
       "      <td>NEW PARIS</td>\n",
       "      <td>IN</td>\n",
       "      <td>46526</td>\n",
       "      <td>1ST SOURCE BANK</td>\n",
       "      <td>IN</td>\n",
       "      <td>722410</td>\n",
       "      <td>28-Feb-97</td>\n",
       "      <td>1997</td>\n",
       "      <td>...</td>\n",
       "      <td>N</td>\n",
       "      <td>Y</td>\n",
       "      <td>NaN</td>\n",
       "      <td>31-May-97</td>\n",
       "      <td>$40,000.00</td>\n",
       "      <td>$0.00</td>\n",
       "      <td>P I F</td>\n",
       "      <td>$0.00</td>\n",
       "      <td>$40,000.00</td>\n",
       "      <td>$32,000.00</td>\n",
       "    </tr>\n",
       "    <tr>\n",
       "      <th>2</th>\n",
       "      <td>1000034009</td>\n",
       "      <td>WHITLOCK DDS, TODD M.</td>\n",
       "      <td>BLOOMINGTON</td>\n",
       "      <td>IN</td>\n",
       "      <td>47401</td>\n",
       "      <td>GRANT COUNTY STATE BANK</td>\n",
       "      <td>IN</td>\n",
       "      <td>621210</td>\n",
       "      <td>28-Feb-97</td>\n",
       "      <td>1997</td>\n",
       "      <td>...</td>\n",
       "      <td>N</td>\n",
       "      <td>N</td>\n",
       "      <td>NaN</td>\n",
       "      <td>31-Dec-97</td>\n",
       "      <td>$287,000.00</td>\n",
       "      <td>$0.00</td>\n",
       "      <td>P I F</td>\n",
       "      <td>$0.00</td>\n",
       "      <td>$287,000.00</td>\n",
       "      <td>$215,250.00</td>\n",
       "    </tr>\n",
       "    <tr>\n",
       "      <th>3</th>\n",
       "      <td>1000044001</td>\n",
       "      <td>BIG BUCKS PAWN &amp; JEWELRY, LLC</td>\n",
       "      <td>BROKEN ARROW</td>\n",
       "      <td>OK</td>\n",
       "      <td>74012</td>\n",
       "      <td>1ST NATL BK &amp; TR CO OF BROKEN</td>\n",
       "      <td>OK</td>\n",
       "      <td>0</td>\n",
       "      <td>28-Feb-97</td>\n",
       "      <td>1997</td>\n",
       "      <td>...</td>\n",
       "      <td>N</td>\n",
       "      <td>Y</td>\n",
       "      <td>NaN</td>\n",
       "      <td>30-Jun-97</td>\n",
       "      <td>$35,000.00</td>\n",
       "      <td>$0.00</td>\n",
       "      <td>P I F</td>\n",
       "      <td>$0.00</td>\n",
       "      <td>$35,000.00</td>\n",
       "      <td>$28,000.00</td>\n",
       "    </tr>\n",
       "    <tr>\n",
       "      <th>4</th>\n",
       "      <td>1000054004</td>\n",
       "      <td>ANASTASIA CONFECTIONS, INC.</td>\n",
       "      <td>ORLANDO</td>\n",
       "      <td>FL</td>\n",
       "      <td>32801</td>\n",
       "      <td>FLORIDA BUS. DEVEL CORP</td>\n",
       "      <td>FL</td>\n",
       "      <td>0</td>\n",
       "      <td>28-Feb-97</td>\n",
       "      <td>1997</td>\n",
       "      <td>...</td>\n",
       "      <td>N</td>\n",
       "      <td>N</td>\n",
       "      <td>NaN</td>\n",
       "      <td>14-May-97</td>\n",
       "      <td>$229,000.00</td>\n",
       "      <td>$0.00</td>\n",
       "      <td>P I F</td>\n",
       "      <td>$0.00</td>\n",
       "      <td>$229,000.00</td>\n",
       "      <td>$229,000.00</td>\n",
       "    </tr>\n",
       "  </tbody>\n",
       "</table>\n",
       "<p>5 rows × 27 columns</p>\n",
       "</div>"
      ],
      "text/plain": [
       "   LoanNr_ChkDgt                           Name          City State    Zip  \\\n",
       "0     1000014003                 ABC HOBBYCRAFT    EVANSVILLE    IN  47711   \n",
       "1     1000024006    LANDMARK BAR & GRILLE (THE)     NEW PARIS    IN  46526   \n",
       "2     1000034009          WHITLOCK DDS, TODD M.   BLOOMINGTON    IN  47401   \n",
       "3     1000044001  BIG BUCKS PAWN & JEWELRY, LLC  BROKEN ARROW    OK  74012   \n",
       "4     1000054004    ANASTASIA CONFECTIONS, INC.       ORLANDO    FL  32801   \n",
       "\n",
       "                            Bank BankState   NAICS ApprovalDate ApprovalFY  \\\n",
       "0               FIFTH THIRD BANK        OH  451120    28-Feb-97       1997   \n",
       "1                1ST SOURCE BANK        IN  722410    28-Feb-97       1997   \n",
       "2        GRANT COUNTY STATE BANK        IN  621210    28-Feb-97       1997   \n",
       "3  1ST NATL BK & TR CO OF BROKEN        OK       0    28-Feb-97       1997   \n",
       "4        FLORIDA BUS. DEVEL CORP        FL       0    28-Feb-97       1997   \n",
       "\n",
       "   ...  RevLineCr  LowDoc  ChgOffDate  DisbursementDate  DisbursementGross  \\\n",
       "0  ...          N       Y         NaN         28-Feb-99        $60,000.00    \n",
       "1  ...          N       Y         NaN         31-May-97        $40,000.00    \n",
       "2  ...          N       N         NaN         31-Dec-97       $287,000.00    \n",
       "3  ...          N       Y         NaN         30-Jun-97        $35,000.00    \n",
       "4  ...          N       N         NaN         14-May-97       $229,000.00    \n",
       "\n",
       "   BalanceGross  MIS_Status ChgOffPrinGr        GrAppv      SBA_Appv  \n",
       "0        $0.00        P I F       $0.00    $60,000.00    $48,000.00   \n",
       "1        $0.00        P I F       $0.00    $40,000.00    $32,000.00   \n",
       "2        $0.00        P I F       $0.00   $287,000.00   $215,250.00   \n",
       "3        $0.00        P I F       $0.00    $35,000.00    $28,000.00   \n",
       "4        $0.00        P I F       $0.00   $229,000.00   $229,000.00   \n",
       "\n",
       "[5 rows x 27 columns]"
      ]
     },
     "execution_count": 473,
     "metadata": {},
     "output_type": "execute_result"
    }
   ],
   "source": [
    "cred_df = pd.read_csv(\"SBAnational.csv\")\n",
    "cred_df.head()"
   ]
  },
  {
   "cell_type": "code",
   "execution_count": 474,
   "id": "15e1ce9e",
   "metadata": {},
   "outputs": [
    {
     "name": "stdout",
     "output_type": "stream",
     "text": [
      "The Shape of the train data in form of\n",
      "( Rows - 899164, Columns - 27)\n"
     ]
    }
   ],
   "source": [
    "# print(f\"There are {cred_df.shape[0]} Rows and having {cred_df.shape[1]} Columns!\")\n",
    "# print(\"And some columns \")\n",
    "print(f\"The Shape of the train data in form of\\n( Rows - {cred_df.shape[0]}, Columns - {cred_df.shape[1]})\")"
   ]
  },
  {
   "cell_type": "code",
   "execution_count": 475,
   "id": "80d1d3df",
   "metadata": {},
   "outputs": [
    {
     "name": "stdout",
     "output_type": "stream",
     "text": [
      "<class 'pandas.core.frame.DataFrame'>\n",
      "RangeIndex: 899164 entries, 0 to 899163\n",
      "Data columns (total 27 columns):\n",
      " #   Column             Non-Null Count   Dtype  \n",
      "---  ------             --------------   -----  \n",
      " 0   LoanNr_ChkDgt      899164 non-null  int64  \n",
      " 1   Name               899150 non-null  object \n",
      " 2   City               899134 non-null  object \n",
      " 3   State              899150 non-null  object \n",
      " 4   Zip                899164 non-null  int64  \n",
      " 5   Bank               897605 non-null  object \n",
      " 6   BankState          897598 non-null  object \n",
      " 7   NAICS              899164 non-null  int64  \n",
      " 8   ApprovalDate       899164 non-null  object \n",
      " 9   ApprovalFY         899164 non-null  object \n",
      " 10  Term               899164 non-null  int64  \n",
      " 11  NoEmp              899164 non-null  int64  \n",
      " 12  NewExist           899028 non-null  float64\n",
      " 13  CreateJob          899164 non-null  int64  \n",
      " 14  RetainedJob        899164 non-null  int64  \n",
      " 15  FranchiseCode      899164 non-null  int64  \n",
      " 16  UrbanRural         899164 non-null  int64  \n",
      " 17  RevLineCr          894636 non-null  object \n",
      " 18  LowDoc             896582 non-null  object \n",
      " 19  ChgOffDate         162699 non-null  object \n",
      " 20  DisbursementDate   896796 non-null  object \n",
      " 21  DisbursementGross  899164 non-null  object \n",
      " 22  BalanceGross       899164 non-null  object \n",
      " 23  MIS_Status         897167 non-null  object \n",
      " 24  ChgOffPrinGr       899164 non-null  object \n",
      " 25  GrAppv             899164 non-null  object \n",
      " 26  SBA_Appv           899164 non-null  object \n",
      "dtypes: float64(1), int64(9), object(17)\n",
      "memory usage: 185.2+ MB\n"
     ]
    }
   ],
   "source": [
    "cred_df.info()"
   ]
  },
  {
   "cell_type": "code",
   "execution_count": 476,
   "id": "af1d64fd",
   "metadata": {},
   "outputs": [
    {
     "data": {
      "text/plain": [
       "<Axes: >"
      ]
     },
     "execution_count": 476,
     "metadata": {},
     "output_type": "execute_result"
    },
    {
     "data": {
      "image/png": "[encoded data removed]",
      "text/plain": [
       "<Figure size 2500x1000 with 2 Axes>"
      ]
     },
     "metadata": {},
     "output_type": "display_data"
    }
   ],
   "source": [
    "msno.matrix(cred_df)"
   ]
  },
  {
   "cell_type": "code",
   "execution_count": 477,
   "id": "81179c2d",
   "metadata": {},
   "outputs": [],
   "source": [
    "def null_counter(data) :\n",
    "    count = data.isnull().sum()\n",
    "    percen = count / len(data) * 100\n",
    "\n",
    "    count.sort_values(ascending = False)\n",
    "    percen.sort_values(ascending = False)\n",
    "\n",
    "    df_null = pd.DataFrame({\n",
    "        'column name' : data.columns,\n",
    "        'total count' : count,\n",
    "        'percentage' : percen\n",
    "    })\n",
    "\n",
    "    df_null.reset_index(drop = True, inplace = True)\n",
    "    df_null_sorted = df_null.sort_values(by='percentage', ascending=False)\n",
    "    df_filtered = df_null_sorted[df_null_sorted['percentage'] > 0]\n",
    "    return df_filtered"
   ]
  },
  {
   "cell_type": "code",
   "execution_count": 478,
   "id": "26ca4868",
   "metadata": {},
   "outputs": [
    {
     "data": {
      "text/html": [
       "<div>\n",
       "<style scoped>\n",
       "    .dataframe tbody tr th:only-of-type {\n",
       "        vertical-align: middle;\n",
       "    }\n",
       "\n",
       "    .dataframe tbody tr th {\n",
       "        vertical-align: top;\n",
       "    }\n",
       "\n",
       "    .dataframe thead th {\n",
       "        text-align: right;\n",
       "    }\n",
       "</style>\n",
       "<table border=\"1\" class=\"dataframe\">\n",
       "  <thead>\n",
       "    <tr style=\"text-align: right;\">\n",
       "      <th></th>\n",
       "      <th>column name</th>\n",
       "      <th>total count</th>\n",
       "      <th>percentage</th>\n",
       "    </tr>\n",
       "  </thead>\n",
       "  <tbody>\n",
       "    <tr>\n",
       "      <th>19</th>\n",
       "      <td>ChgOffDate</td>\n",
       "      <td>736465</td>\n",
       "      <td>81.905526</td>\n",
       "    </tr>\n",
       "    <tr>\n",
       "      <th>17</th>\n",
       "      <td>RevLineCr</td>\n",
       "      <td>4528</td>\n",
       "      <td>0.503579</td>\n",
       "    </tr>\n",
       "    <tr>\n",
       "      <th>18</th>\n",
       "      <td>LowDoc</td>\n",
       "      <td>2582</td>\n",
       "      <td>0.287156</td>\n",
       "    </tr>\n",
       "    <tr>\n",
       "      <th>20</th>\n",
       "      <td>DisbursementDate</td>\n",
       "      <td>2368</td>\n",
       "      <td>0.263356</td>\n",
       "    </tr>\n",
       "    <tr>\n",
       "      <th>23</th>\n",
       "      <td>MIS_Status</td>\n",
       "      <td>1997</td>\n",
       "      <td>0.222095</td>\n",
       "    </tr>\n",
       "    <tr>\n",
       "      <th>6</th>\n",
       "      <td>BankState</td>\n",
       "      <td>1566</td>\n",
       "      <td>0.174162</td>\n",
       "    </tr>\n",
       "    <tr>\n",
       "      <th>5</th>\n",
       "      <td>Bank</td>\n",
       "      <td>1559</td>\n",
       "      <td>0.173383</td>\n",
       "    </tr>\n",
       "    <tr>\n",
       "      <th>12</th>\n",
       "      <td>NewExist</td>\n",
       "      <td>136</td>\n",
       "      <td>0.015125</td>\n",
       "    </tr>\n",
       "    <tr>\n",
       "      <th>2</th>\n",
       "      <td>City</td>\n",
       "      <td>30</td>\n",
       "      <td>0.003336</td>\n",
       "    </tr>\n",
       "    <tr>\n",
       "      <th>3</th>\n",
       "      <td>State</td>\n",
       "      <td>14</td>\n",
       "      <td>0.001557</td>\n",
       "    </tr>\n",
       "    <tr>\n",
       "      <th>1</th>\n",
       "      <td>Name</td>\n",
       "      <td>14</td>\n",
       "      <td>0.001557</td>\n",
       "    </tr>\n",
       "  </tbody>\n",
       "</table>\n",
       "</div>"
      ],
      "text/plain": [
       "         column name  total count  percentage\n",
       "19        ChgOffDate       736465   81.905526\n",
       "17         RevLineCr         4528    0.503579\n",
       "18            LowDoc         2582    0.287156\n",
       "20  DisbursementDate         2368    0.263356\n",
       "23        MIS_Status         1997    0.222095\n",
       "6          BankState         1566    0.174162\n",
       "5               Bank         1559    0.173383\n",
       "12          NewExist          136    0.015125\n",
       "2               City           30    0.003336\n",
       "3              State           14    0.001557\n",
       "1               Name           14    0.001557"
      ]
     },
     "execution_count": 478,
     "metadata": {},
     "output_type": "execute_result"
    }
   ],
   "source": [
    "null_counter(cred_df)"
   ]
  },
  {
   "cell_type": "code",
   "execution_count": 479,
   "id": "22efa33e",
   "metadata": {},
   "outputs": [
    {
     "data": {
      "text/plain": [
       "0              NaN\n",
       "1              NaN\n",
       "2              NaN\n",
       "3              NaN\n",
       "4              NaN\n",
       "            ...   \n",
       "899159         NaN\n",
       "899160         NaN\n",
       "899161         NaN\n",
       "899162    8-Mar-00\n",
       "899163         NaN\n",
       "Name: ChgOffDate, Length: 899164, dtype: object"
      ]
     },
     "execution_count": 479,
     "metadata": {},
     "output_type": "execute_result"
    }
   ],
   "source": [
    "cred_df['ChgOffDate']"
   ]
  },
  {
   "cell_type": "markdown",
   "id": "45251ddc",
   "metadata": {},
   "source": [
    "    Given ChgOffDate as per domain knowledge :\n",
    "        The date when a loan is declared to be in default\n",
    "        and looks like it is anonymns. So am dropping it."
   ]
  },
  {
   "cell_type": "code",
   "execution_count": 480,
   "id": "ac737709",
   "metadata": {},
   "outputs": [],
   "source": [
    "cred_df.drop('ChgOffDate', axis = 1, inplace = True)"
   ]
  },
  {
   "cell_type": "code",
   "execution_count": 481,
   "id": "64c4dce8",
   "metadata": {},
   "outputs": [
    {
     "data": {
      "text/plain": [
       "['RevLineCr',\n",
       " 'LowDoc',\n",
       " 'DisbursementDate',\n",
       " 'MIS_Status',\n",
       " 'BankState',\n",
       " 'Bank',\n",
       " 'NewExist',\n",
       " 'City',\n",
       " 'State',\n",
       " 'Name']"
      ]
     },
     "execution_count": 481,
     "metadata": {},
     "output_type": "execute_result"
    }
   ],
   "source": [
    "empt = null_counter(cred_df)['column name'].tolist()\n",
    "empt"
   ]
  },
  {
   "cell_type": "code",
   "execution_count": 482,
   "id": "7352ebdf",
   "metadata": {},
   "outputs": [
    {
     "data": {
      "text/plain": [
       "RevLineCr            object\n",
       "LowDoc               object\n",
       "DisbursementDate     object\n",
       "MIS_Status           object\n",
       "BankState            object\n",
       "Bank                 object\n",
       "NewExist            float64\n",
       "City                 object\n",
       "State                object\n",
       "Name                 object\n",
       "dtype: object"
      ]
     },
     "execution_count": 482,
     "metadata": {},
     "output_type": "execute_result"
    }
   ],
   "source": [
    "cred_df[empt].dtypes"
   ]
  },
  {
   "cell_type": "markdown",
   "id": "451ac5e7",
   "metadata": {},
   "source": [
    "    Only the NewExist seems that in float values so imputing all Object Null columns with mode and NewExist with median."
   ]
  },
  {
   "cell_type": "code",
   "execution_count": 483,
   "id": "3d41ed7f",
   "metadata": {},
   "outputs": [],
   "source": [
    "for col in cred_df.columns:\n",
    "    if col in empt and cred_df[col].dtype == object:\n",
    "        mode_value = cred_df[col].mode()[0]\n",
    "        cred_df[col].fillna(mode_value, inplace=True)"
   ]
  },
  {
   "cell_type": "code",
   "execution_count": 484,
   "id": "bf841e04",
   "metadata": {},
   "outputs": [],
   "source": [
    "cred_df['NewExist'].fillna(cred_df['NewExist'].median(), inplace=True)"
   ]
  },
  {
   "cell_type": "code",
   "execution_count": 485,
   "id": "1e1c19de",
   "metadata": {},
   "outputs": [
    {
     "data": {
      "text/html": [
       "<div>\n",
       "<style scoped>\n",
       "    .dataframe tbody tr th:only-of-type {\n",
       "        vertical-align: middle;\n",
       "    }\n",
       "\n",
       "    .dataframe tbody tr th {\n",
       "        vertical-align: top;\n",
       "    }\n",
       "\n",
       "    .dataframe thead th {\n",
       "        text-align: right;\n",
       "    }\n",
       "</style>\n",
       "<table border=\"1\" class=\"dataframe\">\n",
       "  <thead>\n",
       "    <tr style=\"text-align: right;\">\n",
       "      <th></th>\n",
       "      <th>column name</th>\n",
       "      <th>total count</th>\n",
       "      <th>percentage</th>\n",
       "    </tr>\n",
       "  </thead>\n",
       "  <tbody>\n",
       "  </tbody>\n",
       "</table>\n",
       "</div>"
      ],
      "text/plain": [
       "Empty DataFrame\n",
       "Columns: [column name, total count, percentage]\n",
       "Index: []"
      ]
     },
     "execution_count": 485,
     "metadata": {},
     "output_type": "execute_result"
    }
   ],
   "source": [
    "null_counter(cred_df)"
   ]
  },
  {
   "cell_type": "markdown",
   "id": "9d60f005",
   "metadata": {},
   "source": [
    "    Treated Null values and fill all the values which is determined for outer :-\n",
    "***\n",
    "    Lets take a view of the given Dataset to know about the actual terms :\n",
    "        1. There are 27 Features/Columns from which we have \n",
    "            10 Numerical Columns and 17 Categorical Columns.\n",
    "        2. Here we got some Null values where ChgOffDate was some 81% and other were below 1%\n",
    "            so so imputing all Object Null columns with mode and NewExist with median.\n",
    "        3. At last these columns are mostly used to specify the actual default the Credits."
   ]
  },
  {
   "cell_type": "code",
   "execution_count": 486,
   "id": "28b47326",
   "metadata": {},
   "outputs": [
    {
     "data": {
      "text/plain": [
       "Index(['LoanNr_ChkDgt', 'Name', 'City', 'State', 'Zip', 'Bank', 'BankState',\n",
       "       'NAICS', 'ApprovalDate', 'ApprovalFY', 'Term', 'NoEmp', 'NewExist',\n",
       "       'CreateJob', 'RetainedJob', 'FranchiseCode', 'UrbanRural', 'RevLineCr',\n",
       "       'LowDoc', 'DisbursementDate', 'DisbursementGross', 'BalanceGross',\n",
       "       'MIS_Status', 'ChgOffPrinGr', 'GrAppv', 'SBA_Appv'],\n",
       "      dtype='object')"
      ]
     },
     "execution_count": 486,
     "metadata": {},
     "output_type": "execute_result"
    }
   ],
   "source": [
    "cred_df.columns"
   ]
  },
  {
   "cell_type": "code",
   "execution_count": 487,
   "id": "8721d095",
   "metadata": {},
   "outputs": [],
   "source": [
    "cred_df[['DisbursementGross', 'BalanceGross', 'ChgOffPrinGr', 'GrAppv', 'SBA_Appv']] = \\\n",
    "cred_df[['DisbursementGross', 'BalanceGross', 'ChgOffPrinGr', 'GrAppv', 'SBA_Appv']].applymap(lambda x: x.strip().replace('$', '').replace(',', '')).astype(float)"
   ]
  },
  {
   "cell_type": "code",
   "execution_count": 488,
   "id": "5c93fd34",
   "metadata": {},
   "outputs": [
    {
     "name": "stdout",
     "output_type": "stream",
     "text": [
      "0         1000014003\n",
      "1         1000024006\n",
      "2         1000034009\n",
      "3         1000044001\n",
      "4         1000054004\n",
      "             ...    \n",
      "899159    9995573004\n",
      "899160    9995603000\n",
      "899161    9995613003\n",
      "899162    9995973006\n",
      "899163    9996003010\n",
      "Name: LoanNr_ChkDgt, Length: 899164, dtype: int64\n"
     ]
    }
   ],
   "source": [
    "print(cred_df['LoanNr_ChkDgt'])"
   ]
  },
  {
   "cell_type": "markdown",
   "id": "2f6ed287",
   "metadata": {},
   "source": [
    "    The LoanNr_ChkDgt is working as Row No so not so much important! "
   ]
  },
  {
   "cell_type": "code",
   "execution_count": 489,
   "id": "a0d60dea",
   "metadata": {},
   "outputs": [],
   "source": [
    "cred_df.drop('LoanNr_ChkDgt', inplace = True, axis = 1)"
   ]
  },
  {
   "cell_type": "code",
   "execution_count": 490,
   "id": "71e9323c",
   "metadata": {},
   "outputs": [],
   "source": [
    "def bar_plot(col) :\n",
    "    top_names = cred_df[col].value_counts().head(20).reset_index()\n",
    "    top_names.columns = [col, 'Count']\n",
    "\n",
    "    plt.figure(figsize = [12, 6])\n",
    "    sns.barplot(data = top_names, x = col, y = 'Count', palette = 'pastel')\n",
    "    plt.title(f'Top 20 Borrower {col}', fontsize = 16)\n",
    "    plt.xlabel(f'Borrower {col}', fontsize = 14)\n",
    "    plt.ylabel('Count', fontsize = 14)\n",
    "    plt.xticks(rotation = 45, ha = 'right') \n",
    "    plt.tight_layout()"
   ]
  },
  {
   "cell_type": "code",
   "execution_count": 491,
   "id": "ea38de0d",
   "metadata": {},
   "outputs": [
    {
     "data": {
      "text/plain": [
       "Name\n",
       "SUBWAY                            1283\n",
       "QUIZNO'S SUBS                      433\n",
       "COLD STONE CREAMERY                366\n",
       "QUIZNO'S                           345\n",
       "DOMINO'S PIZZA                     329\n",
       "                                  ... \n",
       "Mohammad N. Hassan (epc) for C       1\n",
       "N.J. Yellow Tale Flower              1\n",
       "CEF INC.                             1\n",
       "SCANNELL AND ASSOCIATES LP           1\n",
       "PACIFIC TRADEWINDS FAN & LIGHT       1\n",
       "Name: count, Length: 779583, dtype: int64"
      ]
     },
     "execution_count": 491,
     "metadata": {},
     "output_type": "execute_result"
    }
   ],
   "source": [
    "cred_df['Name'].value_counts()"
   ]
  },
  {
   "cell_type": "code",
   "execution_count": 492,
   "id": "95993280",
   "metadata": {},
   "outputs": [
    {
     "data": {
      "image/png": "[encoded data removed]",
      "text/plain": [
       "<Figure size 1200x600 with 1 Axes>"
      ]
     },
     "metadata": {},
     "output_type": "display_data"
    }
   ],
   "source": [
    "bar_plot('Name')"
   ]
  },
  {
   "cell_type": "markdown",
   "id": "1e9e060d",
   "metadata": {},
   "source": [
    "    In the Small Business name we have some top business which are most countable to appear for \n",
    "        loan is SUBWAY then QUIZNO'S SUBS and more .. \n",
    "    As the Name of the Small Buisness aren't important but can be useful if needed so not removing them."
   ]
  },
  {
   "cell_type": "code",
   "execution_count": 493,
   "id": "2da30201",
   "metadata": {},
   "outputs": [
    {
     "data": {
      "text/plain": [
       "City\n",
       "LOS ANGELES                       11588\n",
       "HOUSTON                           10247\n",
       "NEW YORK                           7846\n",
       "CHICAGO                            6036\n",
       "MIAMI                              5594\n",
       "                                  ...  \n",
       "EL DORADO SPRINGS (ELDORADO SP        1\n",
       "HUNTINDON                             1\n",
       "LEBAHON                               1\n",
       "WILLOW RIVER                          1\n",
       "SO. OZONE PARK                        1\n",
       "Name: count, Length: 32581, dtype: int64"
      ]
     },
     "execution_count": 493,
     "metadata": {},
     "output_type": "execute_result"
    }
   ],
   "source": [
    "cred_df['City'].value_counts()"
   ]
  },
  {
   "cell_type": "code",
   "execution_count": 494,
   "id": "7f9e4b3d",
   "metadata": {},
   "outputs": [
    {
     "data": {
      "text/plain": [
       "array(['EVANSVILLE', 'NEW PARIS', 'BLOOMINGTON', ..., 'MURFRECSBORO',\n",
       "       'E WENALCHEE', 'SO. OZONE PARK'], dtype=object)"
      ]
     },
     "execution_count": 494,
     "metadata": {},
     "output_type": "execute_result"
    }
   ],
   "source": [
    "cred_df['City'].unique()"
   ]
  },
  {
   "cell_type": "code",
   "execution_count": 495,
   "id": "76597361",
   "metadata": {},
   "outputs": [
    {
     "data": {
      "image/png": "[encoded data removed]",
      "text/plain": [
       "<Figure size 1200x600 with 1 Axes>"
      ]
     },
     "metadata": {},
     "output_type": "display_data"
    }
   ],
   "source": [
    "bar_plot('City')"
   ]
  },
  {
   "cell_type": "code",
   "execution_count": 496,
   "id": "6d91ed5e",
   "metadata": {},
   "outputs": [
    {
     "data": {
      "image/png": "[encoded data removed]",
      "text/plain": [
       "<Figure size 1200x600 with 1 Axes>"
      ]
     },
     "metadata": {},
     "output_type": "display_data"
    }
   ],
   "source": [
    "bar_plot('State')"
   ]
  },
  {
   "cell_type": "markdown",
   "id": "e86c04cc",
   "metadata": {},
   "source": [
    "    The City and State columns describes that most of the Small Business are From the \n",
    "        Los Angeles then moving to Houston, New York, Chicago etc.. \n",
    "        \n",
    "    City and State can determine the Fraud containg ares ..\n",
    "    \n",
    "    Key Point : This State and City indicates that the dataset is from the United States."
   ]
  },
  {
   "cell_type": "code",
   "execution_count": 497,
   "id": "7275adb3",
   "metadata": {},
   "outputs": [],
   "source": [
    "cred_df['Zip'] = cred_df['Zip'].astype(int)"
   ]
  },
  {
   "cell_type": "code",
   "execution_count": 498,
   "id": "5a5a34eb",
   "metadata": {},
   "outputs": [
    {
     "data": {
      "text/plain": [
       "Zip\n",
       "10001    933\n",
       "90015    926\n",
       "93401    806\n",
       "90010    733\n",
       "33166    671\n",
       "        ... \n",
       "33789      1\n",
       "32524      1\n",
       "61870      1\n",
       "97711      1\n",
       "26134      1\n",
       "Name: count, Length: 33611, dtype: int64"
      ]
     },
     "execution_count": 498,
     "metadata": {},
     "output_type": "execute_result"
    }
   ],
   "source": [
    "cred_df['Zip'].value_counts()"
   ]
  },
  {
   "cell_type": "markdown",
   "id": "2f7b6ab8",
   "metadata": {},
   "source": [
    "    the Zip column typically refers to ZIP codes, which are numerical codes used by the \n",
    "    United States Postal Service (USPS) to identify specific geographic areas"
   ]
  },
  {
   "cell_type": "code",
   "execution_count": 499,
   "id": "78ba33b8",
   "metadata": {},
   "outputs": [
    {
     "data": {
      "text/plain": [
       "Bank\n",
       "BANK OF AMERICA NATL ASSOC        88412\n",
       "WELLS FARGO BANK NATL ASSOC       63503\n",
       "JPMORGAN CHASE BANK NATL ASSOC    48167\n",
       "U.S. BANK NATIONAL ASSOCIATION    35143\n",
       "CITIZENS BANK NATL ASSOC          35054\n",
       "                                  ...  \n",
       "FIRST LANDMARK BANK                   1\n",
       "MASON CITY NATIONAL BANK              1\n",
       "FARMERS ST. BK OF CAMP POINT          1\n",
       "CAPITAL BANK CORPORATION              1\n",
       "DEPCO                                 1\n",
       "Name: count, Length: 5802, dtype: int64"
      ]
     },
     "execution_count": 499,
     "metadata": {},
     "output_type": "execute_result"
    }
   ],
   "source": [
    "cred_df['Bank'].value_counts()"
   ]
  },
  {
   "cell_type": "code",
   "execution_count": 500,
   "id": "dc768a60",
   "metadata": {},
   "outputs": [
    {
     "data": {
      "text/plain": [
       "NAICS\n",
       "0         201948\n",
       "722110     27989\n",
       "722211     19448\n",
       "811111     14585\n",
       "621210     14048\n",
       "           ...  \n",
       "927110         1\n",
       "327410         1\n",
       "314992         1\n",
       "922110         1\n",
       "325192         1\n",
       "Name: count, Length: 1312, dtype: int64"
      ]
     },
     "execution_count": 500,
     "metadata": {},
     "output_type": "execute_result"
    }
   ],
   "source": [
    "cred_df['NAICS'].value_counts()"
   ]
  },
  {
   "cell_type": "markdown",
   "id": "1ed70065",
   "metadata": {},
   "source": [
    "    Bank:\n",
    "        This column usually contains the name of the financial institution or bank that issued the loan. \n",
    "        It helps identify which banks are participating in the lending process.\n",
    "    \n",
    "    BankState:\n",
    "        This indicates the state in which the bank is located. It can help analyze regional lending \n",
    "        patterns or the concentration of banks in different states."
   ]
  },
  {
   "cell_type": "code",
   "execution_count": 501,
   "id": "20b76307",
   "metadata": {},
   "outputs": [
    {
     "data": {
      "text/plain": [
       "ApprovalDate\n",
       "7-Jul-93     1131\n",
       "30-Jan-04    1032\n",
       "8-Jul-93      780\n",
       "4-Oct-04      658\n",
       "30-Sep-03     608\n",
       "             ... \n",
       "29-May-75       1\n",
       "21-Feb-75       1\n",
       "25-Apr-67       1\n",
       "12-Apr-72       1\n",
       "19-Sep-74       1\n",
       "Name: count, Length: 9859, dtype: int64"
      ]
     },
     "execution_count": 501,
     "metadata": {},
     "output_type": "execute_result"
    }
   ],
   "source": [
    "cred_df['ApprovalDate'].value_counts()"
   ]
  },
  {
   "cell_type": "code",
   "execution_count": 502,
   "id": "24f22a52",
   "metadata": {},
   "outputs": [
    {
     "data": {
      "text/plain": [
       "ApprovalFY\n",
       "2006    76040\n",
       "2007    71876\n",
       "2003    58193\n",
       "2005    52912\n",
       "1995    45758\n",
       "        ...  \n",
       "1968        1\n",
       "1962        1\n",
       "1967        1\n",
       "1965        1\n",
       "1966        1\n",
       "Name: count, Length: 70, dtype: int64"
      ]
     },
     "execution_count": 502,
     "metadata": {},
     "output_type": "execute_result"
    }
   ],
   "source": [
    "cred_df['ApprovalFY'].value_counts()"
   ]
  },
  {
   "cell_type": "code",
   "execution_count": 503,
   "id": "58da9a1d",
   "metadata": {},
   "outputs": [
    {
     "data": {
      "text/plain": [
       "array([1997, 1980, 2006, 1998, 1999, 2000, 2001, 1972, 2003, 2004, 1978,\n",
       "       1979, 1981, 2005, 1962, 1982, 1965, 1966, 1983, 1973, 1984, 2007,\n",
       "       1985, 1986, 1987, 2008, 1988, 2009, 1989, 1991, 1990, 1974, 2010,\n",
       "       1967, 2011, 1992, 1993, 2002, 2012, 2013, 1994, 2014, 1975, 1977,\n",
       "       1976, 1968, '2004', '1994', '1979', '1976', '1967', '1975', '1974',\n",
       "       '1977', '1981', '1982', '1983', '1984', '1978', '1980', '1968',\n",
       "       '1976A', '1969', '1995', '1970', '2005', '1996', '1971', 1996,\n",
       "       1971], dtype=object)"
      ]
     },
     "execution_count": 503,
     "metadata": {},
     "output_type": "execute_result"
    }
   ],
   "source": [
    "cred_df['ApprovalFY'].unique()"
   ]
  },
  {
   "cell_type": "markdown",
   "id": "54ef9aa0",
   "metadata": {},
   "source": [
    "    There is some A in values so gtreating them for better use!"
   ]
  },
  {
   "cell_type": "code",
   "execution_count": 504,
   "id": "44a1ac34",
   "metadata": {},
   "outputs": [],
   "source": [
    "def clean_str(x):\n",
    "    if isinstance(x, str):\n",
    "        return x.replace('A', '')\n",
    "    return x\n",
    "\n",
    "cred_df.ApprovalFY = cred_df.ApprovalFY.apply(clean_str).astype('int64')"
   ]
  },
  {
   "cell_type": "markdown",
   "id": "f161390c",
   "metadata": {},
   "source": [
    "     ApprovalFY:\n",
    "        This represents the fiscal year in which the loan was approved. It can be useful for financial \n",
    "        reporting and trend analysis, particularly in assessing annual loan volumes."
   ]
  },
  {
   "cell_type": "code",
   "execution_count": 505,
   "id": "e1ba69a4",
   "metadata": {},
   "outputs": [
    {
     "data": {
      "image/png": "[encoded data removed]",
      "text/plain": [
       "<Figure size 1200x600 with 1 Axes>"
      ]
     },
     "metadata": {},
     "output_type": "display_data"
    }
   ],
   "source": [
    "bar_plot('ApprovalFY')"
   ]
  },
  {
   "cell_type": "code",
   "execution_count": 506,
   "id": "298c2b43",
   "metadata": {},
   "outputs": [
    {
     "data": {
      "text/plain": [
       "Name\n",
       "\"216\" PIANO BAR                   6\n",
       "\"360\" SALON & DAY SPA             6\n",
       "\"821\"                            50\n",
       "\"A CLASS ACT\" BEAUTY SALON        7\n",
       "\"A LA MODE\" ICE CREAM PARLOUR     5\n",
       "                                 ..\n",
       "world class construction mgmt     1\n",
       "www.campfiregrill.com, LLC        3\n",
       "y city recycling llc             65\n",
       "yeadon brewer's outlet, inc       2\n",
       "z on 2nd, LLC                    10\n",
       "Name: NoEmp, Length: 779583, dtype: int64"
      ]
     },
     "execution_count": 506,
     "metadata": {},
     "output_type": "execute_result"
    }
   ],
   "source": [
    "cred_df.groupby('Name')['NoEmp'].sum()"
   ]
  },
  {
   "cell_type": "markdown",
   "id": "cd572907",
   "metadata": {},
   "source": [
    "    NoEmp:\n",
    "        This refers to the number of employees in the borrowing business. This information can help assess the \n",
    "            size of the business and is often used to determine eligibility for certain types of loans."
   ]
  },
  {
   "cell_type": "code",
   "execution_count": 507,
   "id": "859e6402",
   "metadata": {},
   "outputs": [
    {
     "data": {
      "text/plain": [
       "NoEmp\n",
       "Small         871813\n",
       "Medium         26122\n",
       "Large            977\n",
       "Very Large       183\n",
       "Name: count, dtype: int64"
      ]
     },
     "execution_count": 507,
     "metadata": {},
     "output_type": "execute_result"
    }
   ],
   "source": [
    "bins = [0, 50, 250, 1000, 4847]\n",
    "labels = ['Small', 'Medium', 'Large', 'Very Large']\n",
    "\n",
    "cred_df['NoEmp'] = pd.cut(cred_df['NoEmp'], bins=bins, labels=labels, include_lowest=True)\n",
    "cred_df['NoEmp'].value_counts()"
   ]
  },
  {
   "cell_type": "code",
   "execution_count": 508,
   "id": "49b13a42",
   "metadata": {},
   "outputs": [
    {
     "data": {
      "text/plain": [
       "NewExist\n",
       "1.0    645005\n",
       "2.0    253125\n",
       "0.0      1034\n",
       "Name: count, dtype: int64"
      ]
     },
     "execution_count": 508,
     "metadata": {},
     "output_type": "execute_result"
    }
   ],
   "source": [
    "cred_df['NewExist'].value_counts()"
   ]
  },
  {
   "cell_type": "code",
   "execution_count": 509,
   "id": "cb906ab6",
   "metadata": {},
   "outputs": [
    {
     "data": {
      "text/plain": [
       "NewExist\n",
       "1.0    645005\n",
       "2.0    253125\n",
       "0.0      1034\n",
       "Name: count, dtype: int64"
      ]
     },
     "execution_count": 509,
     "metadata": {},
     "output_type": "execute_result"
    }
   ],
   "source": [
    "cred_df['NewExist'].astype(int)\n",
    "cred_df['NewExist'].value_counts()"
   ]
  },
  {
   "cell_type": "code",
   "execution_count": 510,
   "id": "df58de23",
   "metadata": {},
   "outputs": [
    {
     "data": {
      "text/plain": [
       "Series([], Name: Name, dtype: object)"
      ]
     },
     "execution_count": 510,
     "metadata": {},
     "output_type": "execute_result"
    }
   ],
   "source": [
    "filtered_names = cred_df['Name'][(cred_df['NewExist'] == 0) & (cred_df['NewExist'] == 1)]\n",
    "filtered_names"
   ]
  },
  {
   "cell_type": "code",
   "execution_count": 511,
   "id": "2af08273",
   "metadata": {},
   "outputs": [
    {
     "data": {
      "text/html": [
       "<div>\n",
       "<style scoped>\n",
       "    .dataframe tbody tr th:only-of-type {\n",
       "        vertical-align: middle;\n",
       "    }\n",
       "\n",
       "    .dataframe tbody tr th {\n",
       "        vertical-align: top;\n",
       "    }\n",
       "\n",
       "    .dataframe thead th {\n",
       "        text-align: right;\n",
       "    }\n",
       "</style>\n",
       "<table border=\"1\" class=\"dataframe\">\n",
       "  <thead>\n",
       "    <tr style=\"text-align: right;\">\n",
       "      <th></th>\n",
       "      <th>Name</th>\n",
       "      <th>City</th>\n",
       "      <th>State</th>\n",
       "      <th>Zip</th>\n",
       "      <th>Bank</th>\n",
       "      <th>BankState</th>\n",
       "      <th>NAICS</th>\n",
       "      <th>ApprovalDate</th>\n",
       "      <th>ApprovalFY</th>\n",
       "      <th>Term</th>\n",
       "      <th>...</th>\n",
       "      <th>UrbanRural</th>\n",
       "      <th>RevLineCr</th>\n",
       "      <th>LowDoc</th>\n",
       "      <th>DisbursementDate</th>\n",
       "      <th>DisbursementGross</th>\n",
       "      <th>BalanceGross</th>\n",
       "      <th>MIS_Status</th>\n",
       "      <th>ChgOffPrinGr</th>\n",
       "      <th>GrAppv</th>\n",
       "      <th>SBA_Appv</th>\n",
       "    </tr>\n",
       "  </thead>\n",
       "  <tbody>\n",
       "    <tr>\n",
       "      <th>2</th>\n",
       "      <td>WHITLOCK DDS, TODD M.</td>\n",
       "      <td>BLOOMINGTON</td>\n",
       "      <td>IN</td>\n",
       "      <td>47401</td>\n",
       "      <td>GRANT COUNTY STATE BANK</td>\n",
       "      <td>IN</td>\n",
       "      <td>621210</td>\n",
       "      <td>28-Feb-97</td>\n",
       "      <td>1997</td>\n",
       "      <td>180</td>\n",
       "      <td>...</td>\n",
       "      <td>0</td>\n",
       "      <td>N</td>\n",
       "      <td>N</td>\n",
       "      <td>31-Dec-97</td>\n",
       "      <td>287000.0</td>\n",
       "      <td>0.0</td>\n",
       "      <td>P I F</td>\n",
       "      <td>0.0</td>\n",
       "      <td>287000.0</td>\n",
       "      <td>215250.0</td>\n",
       "    </tr>\n",
       "  </tbody>\n",
       "</table>\n",
       "<p>1 rows × 25 columns</p>\n",
       "</div>"
      ],
      "text/plain": [
       "                    Name         City State    Zip                     Bank  \\\n",
       "2  WHITLOCK DDS, TODD M.  BLOOMINGTON    IN  47401  GRANT COUNTY STATE BANK   \n",
       "\n",
       "  BankState   NAICS ApprovalDate  ApprovalFY  Term  ... UrbanRural  RevLineCr  \\\n",
       "2        IN  621210    28-Feb-97        1997   180  ...          0          N   \n",
       "\n",
       "   LowDoc  DisbursementDate  DisbursementGross  BalanceGross MIS_Status  \\\n",
       "2       N         31-Dec-97           287000.0           0.0      P I F   \n",
       "\n",
       "  ChgOffPrinGr    GrAppv  SBA_Appv  \n",
       "2          0.0  287000.0  215250.0  \n",
       "\n",
       "[1 rows x 25 columns]"
      ]
     },
     "execution_count": 511,
     "metadata": {},
     "output_type": "execute_result"
    }
   ],
   "source": [
    "cred_df[cred_df['Name'] == 'WHITLOCK DDS, TODD M.']"
   ]
  },
  {
   "cell_type": "code",
   "execution_count": 512,
   "id": "59426671",
   "metadata": {
    "execution": {
     "iopub.execute_input": "2024-09-19T07:52:59.577710Z",
     "iopub.status.busy": "2024-09-19T07:52:59.577381Z",
     "iopub.status.idle": "2024-09-19T07:52:59.585362Z",
     "shell.execute_reply": "2024-09-19T07:52:59.584210Z",
     "shell.execute_reply.started": "2024-09-19T07:52:59.577676Z"
    },
    "id": "58aec8da-9699-43e8-96e6-dd26c9155aec"
   },
   "outputs": [],
   "source": [
    "cred_df['NewExist'] = np.where(cred_df['NewExist'] == 1, 0,\n",
    "                                np.where(cred_df['NewExist'] == 2, 1, np.nan))"
   ]
  },
  {
   "cell_type": "code",
   "execution_count": 513,
   "id": "b0f8322a",
   "metadata": {
    "colab": {
     "base_uri": "https://localhost:8080/",
     "height": 178
    },
    "execution": {
     "iopub.execute_input": "2024-09-19T07:52:59.588187Z",
     "iopub.status.busy": "2024-09-19T07:52:59.587160Z",
     "iopub.status.idle": "2024-09-19T07:52:59.598650Z",
     "shell.execute_reply": "2024-09-19T07:52:59.597373Z",
     "shell.execute_reply.started": "2024-09-19T07:52:59.588131Z"
    },
    "id": "49558cba-5cbc-4168-b300-10d6106b90e0",
    "outputId": "96bf82fb-0844-4e49-e360-8c81b88f0229"
   },
   "outputs": [
    {
     "data": {
      "text/plain": [
       "NewExist\n",
       "0.0    645005\n",
       "1.0    253125\n",
       "Name: count, dtype: int64"
      ]
     },
     "execution_count": 513,
     "metadata": {},
     "output_type": "execute_result"
    }
   ],
   "source": [
    "cred_df['NewExist'].value_counts()"
   ]
  },
  {
   "cell_type": "markdown",
   "id": "5d0f485c",
   "metadata": {},
   "source": [
    "    About NewExist indicates the status of a business concerning its establishment as either new or existing. "
   ]
  },
  {
   "cell_type": "code",
   "execution_count": 514,
   "id": "4acc36da",
   "metadata": {},
   "outputs": [
    {
     "data": {
      "text/plain": [
       "0         0\n",
       "1         0\n",
       "2         0\n",
       "3         0\n",
       "4         7\n",
       "         ..\n",
       "899159    0\n",
       "899160    0\n",
       "899161    0\n",
       "899162    0\n",
       "899163    0\n",
       "Name: CreateJob, Length: 899164, dtype: int64"
      ]
     },
     "execution_count": 514,
     "metadata": {},
     "output_type": "execute_result"
    }
   ],
   "source": [
    "cred_df['CreateJob']"
   ]
  },
  {
   "cell_type": "code",
   "execution_count": 515,
   "id": "ab1ccac2",
   "metadata": {},
   "outputs": [
    {
     "data": {
      "text/plain": [
       "0         0\n",
       "1         0\n",
       "2         0\n",
       "3         0\n",
       "4         7\n",
       "         ..\n",
       "899159    0\n",
       "899160    0\n",
       "899161    0\n",
       "899162    0\n",
       "899163    0\n",
       "Name: RetainedJob, Length: 899164, dtype: int64"
      ]
     },
     "execution_count": 515,
     "metadata": {},
     "output_type": "execute_result"
    }
   ],
   "source": [
    "cred_df['RetainedJob']"
   ]
  },
  {
   "cell_type": "code",
   "execution_count": 516,
   "id": "59e7c316",
   "metadata": {},
   "outputs": [
    {
     "data": {
      "text/html": [
       "<div>\n",
       "<style scoped>\n",
       "    .dataframe tbody tr th:only-of-type {\n",
       "        vertical-align: middle;\n",
       "    }\n",
       "\n",
       "    .dataframe tbody tr th {\n",
       "        vertical-align: top;\n",
       "    }\n",
       "\n",
       "    .dataframe thead th {\n",
       "        text-align: right;\n",
       "    }\n",
       "</style>\n",
       "<table border=\"1\" class=\"dataframe\">\n",
       "  <thead>\n",
       "    <tr style=\"text-align: right;\">\n",
       "      <th></th>\n",
       "      <th>CreateJob</th>\n",
       "      <th>RetainedJob</th>\n",
       "    </tr>\n",
       "  </thead>\n",
       "  <tbody>\n",
       "    <tr>\n",
       "      <th>CreateJob</th>\n",
       "      <td>1.000000</td>\n",
       "      <td>0.993953</td>\n",
       "    </tr>\n",
       "    <tr>\n",
       "      <th>RetainedJob</th>\n",
       "      <td>0.993953</td>\n",
       "      <td>1.000000</td>\n",
       "    </tr>\n",
       "  </tbody>\n",
       "</table>\n",
       "</div>"
      ],
      "text/plain": [
       "             CreateJob  RetainedJob\n",
       "CreateJob     1.000000     0.993953\n",
       "RetainedJob   0.993953     1.000000"
      ]
     },
     "execution_count": 516,
     "metadata": {},
     "output_type": "execute_result"
    }
   ],
   "source": [
    "cred_df[['CreateJob', 'RetainedJob']].corr()"
   ]
  },
  {
   "cell_type": "code",
   "execution_count": 517,
   "id": "566e6c85",
   "metadata": {},
   "outputs": [],
   "source": [
    "cred_df[\"TotalJobs\"] = cred_df[\"CreateJob\"] + cred_df[\"RetainedJob\"]"
   ]
  },
  {
   "cell_type": "markdown",
   "id": "9abb7416",
   "metadata": {},
   "source": [
    "    It seems that there is a correlation between CreateJob and RetainedJob so dropping one of them here."
   ]
  },
  {
   "cell_type": "code",
   "execution_count": 518,
   "id": "a3ba617d",
   "metadata": {},
   "outputs": [
    {
     "data": {
      "text/plain": [
       "0         1\n",
       "1         1\n",
       "2         1\n",
       "3         1\n",
       "4         1\n",
       "         ..\n",
       "899159    1\n",
       "899160    1\n",
       "899161    1\n",
       "899162    1\n",
       "899163    1\n",
       "Name: FranchiseCode, Length: 899164, dtype: int64"
      ]
     },
     "execution_count": 518,
     "metadata": {},
     "output_type": "execute_result"
    }
   ],
   "source": [
    "cred_df['FranchiseCode']"
   ]
  },
  {
   "cell_type": "markdown",
   "id": "2f48c687",
   "metadata": {},
   "source": [
    "     Franchise Code is a classification used in various datasets, particularly in the context of loans or business \n",
    "     applications, to indicate whether a business is part of a franchise and, if so, to identify the type of franchise."
   ]
  },
  {
   "cell_type": "code",
   "execution_count": 519,
   "id": "3f2f05c5",
   "metadata": {},
   "outputs": [],
   "source": [
    "cred_df.loc[(cred_df['FranchiseCode'] <= 1), 'FranchiseCode'] = 0\n",
    "cred_df.loc[(cred_df['FranchiseCode'] > 1), 'FranchiseCode'] = 1"
   ]
  },
  {
   "cell_type": "code",
   "execution_count": 520,
   "id": "6804e848",
   "metadata": {},
   "outputs": [
    {
     "data": {
      "text/plain": [
       "FranchiseCode\n",
       "0    847389\n",
       "1     51775\n",
       "Name: count, dtype: int64"
      ]
     },
     "execution_count": 520,
     "metadata": {},
     "output_type": "execute_result"
    }
   ],
   "source": [
    "cred_df['FranchiseCode'].value_counts()"
   ]
  },
  {
   "cell_type": "code",
   "execution_count": 521,
   "id": "1b07580c",
   "metadata": {},
   "outputs": [
    {
     "data": {
      "text/plain": [
       "UrbanRural\n",
       "1    470654\n",
       "0    323167\n",
       "2    105343\n",
       "Name: count, dtype: int64"
      ]
     },
     "execution_count": 521,
     "metadata": {},
     "output_type": "execute_result"
    }
   ],
   "source": [
    "cred_df['UrbanRural'].value_counts()"
   ]
  },
  {
   "cell_type": "code",
   "execution_count": 522,
   "id": "98b48589",
   "metadata": {},
   "outputs": [],
   "source": [
    "mapped = {\n",
    "    0: 'Undefined',\n",
    "    1: 'Urban',\n",
    "    2: 'Rural'\n",
    "}\n",
    "\n",
    "cred_df['UrbanRural'] = cred_df['UrbanRural'].map(mapped)"
   ]
  },
  {
   "cell_type": "code",
   "execution_count": 523,
   "id": "2022f15d",
   "metadata": {},
   "outputs": [
    {
     "data": {
      "image/png": "[encoded data removed]",
      "text/plain": [
       "<Figure size 1200x600 with 1 Axes>"
      ]
     },
     "metadata": {},
     "output_type": "display_data"
    }
   ],
   "source": [
    "bar_plot('UrbanRural')"
   ]
  },
  {
   "cell_type": "code",
   "execution_count": 524,
   "id": "be6c2ef5",
   "metadata": {},
   "outputs": [
    {
     "data": {
      "text/plain": [
       "RevLineCr\n",
       "N    424816\n",
       "0    257602\n",
       "Y    201397\n",
       "T     15284\n",
       "1        23\n",
       "R        14\n",
       "`        11\n",
       "2         6\n",
       "C         2\n",
       "3         1\n",
       ",         1\n",
       "7         1\n",
       "A         1\n",
       "5         1\n",
       ".         1\n",
       "4         1\n",
       "-         1\n",
       "Q         1\n",
       "Name: count, dtype: int64"
      ]
     },
     "execution_count": 524,
     "metadata": {},
     "output_type": "execute_result"
    }
   ],
   "source": [
    "cred_df['RevLineCr'].value_counts()"
   ]
  },
  {
   "cell_type": "code",
   "execution_count": 525,
   "id": "13961e52",
   "metadata": {},
   "outputs": [],
   "source": [
    "cred_df['RevLineCr'] = np.where(cred_df['RevLineCr'] == 'Y', 1,\n",
    "                                np.where(cred_df['RevLineCr'] == 'N', 0, np.nan))"
   ]
  },
  {
   "cell_type": "code",
   "execution_count": 526,
   "id": "a58361cd",
   "metadata": {},
   "outputs": [
    {
     "data": {
      "text/plain": [
       "RevLineCr\n",
       "0.0    424816\n",
       "1.0    201397\n",
       "Name: count, dtype: int64"
      ]
     },
     "execution_count": 526,
     "metadata": {},
     "output_type": "execute_result"
    }
   ],
   "source": [
    "cred_df['RevLineCr'].value_counts()"
   ]
  },
  {
   "cell_type": "markdown",
   "id": "214b1a29",
   "metadata": {},
   "source": [
    "    Watching why Revolving line of credit is 0"
   ]
  },
  {
   "cell_type": "code",
   "execution_count": 527,
   "id": "5e7702de",
   "metadata": {},
   "outputs": [],
   "source": [
    "cred_df['LowDoc'] = np.where(cred_df['LowDoc'] == 'Y', 1,\n",
    "                                np.where(cred_df['LowDoc'] == 'N', 0, np.nan))"
   ]
  },
  {
   "cell_type": "code",
   "execution_count": 528,
   "id": "963ff865",
   "metadata": {},
   "outputs": [
    {
     "data": {
      "text/plain": [
       "LowDoc\n",
       "0.0    785404\n",
       "1.0    110335\n",
       "Name: count, dtype: int64"
      ]
     },
     "execution_count": 528,
     "metadata": {},
     "output_type": "execute_result"
    }
   ],
   "source": [
    "cred_df['LowDoc'].value_counts()"
   ]
  },
  {
   "cell_type": "code",
   "execution_count": 529,
   "id": "370446b4",
   "metadata": {
    "colab": {
     "base_uri": "https://localhost:8080/"
    },
    "execution": {
     "iopub.execute_input": "2024-09-19T07:52:59.693407Z",
     "iopub.status.busy": "2024-09-19T07:52:59.693028Z",
     "iopub.status.idle": "2024-09-19T07:52:59.706787Z",
     "shell.execute_reply": "2024-09-19T07:52:59.705732Z",
     "shell.execute_reply.started": "2024-09-19T07:52:59.693366Z"
    },
    "id": "267bde83-6cb7-4a09-bed5-6ac4ccb61cae",
    "outputId": "f22aa995-38e2-4b6a-f321-8822e7cfe6ff"
   },
   "outputs": [
    {
     "data": {
      "text/plain": [
       "array([ 0., nan,  1.])"
      ]
     },
     "execution_count": 529,
     "metadata": {},
     "output_type": "execute_result"
    }
   ],
   "source": [
    "cred_df.RevLineCr.unique()"
   ]
  },
  {
   "cell_type": "code",
   "execution_count": 530,
   "id": "b0e7a379",
   "metadata": {
    "colab": {
     "base_uri": "https://localhost:8080/"
    },
    "execution": {
     "iopub.execute_input": "2024-09-19T07:52:59.708869Z",
     "iopub.status.busy": "2024-09-19T07:52:59.708472Z",
     "iopub.status.idle": "2024-09-19T07:52:59.718480Z",
     "shell.execute_reply": "2024-09-19T07:52:59.717412Z",
     "shell.execute_reply.started": "2024-09-19T07:52:59.708830Z"
    },
    "id": "o923yylcxUdK",
    "outputId": "bae93140-bc94-462a-e50e-c5c6f7fab5e8"
   },
   "outputs": [
    {
     "data": {
      "text/plain": [
       "array([ 1.,  0., nan])"
      ]
     },
     "execution_count": 530,
     "metadata": {},
     "output_type": "execute_result"
    }
   ],
   "source": [
    "cred_df.LowDoc.unique()"
   ]
  },
  {
   "cell_type": "code",
   "execution_count": 531,
   "id": "d3d46532",
   "metadata": {},
   "outputs": [
    {
     "data": {
      "text/plain": [
       "0         28-Feb-99\n",
       "1         31-May-97\n",
       "2         31-Dec-97\n",
       "3         30-Jun-97\n",
       "4         14-May-97\n",
       "            ...    \n",
       "899159    30-Sep-97\n",
       "899160    31-Oct-97\n",
       "899161    30-Sep-97\n",
       "899162    31-Mar-97\n",
       "899163    31-May-97\n",
       "Name: DisbursementDate, Length: 899164, dtype: object"
      ]
     },
     "execution_count": 531,
     "metadata": {},
     "output_type": "execute_result"
    }
   ],
   "source": [
    "cred_df['DisbursementDate']"
   ]
  },
  {
   "cell_type": "code",
   "execution_count": 532,
   "id": "04092f09",
   "metadata": {},
   "outputs": [],
   "source": [
    "cred_df['ApprovalDate'] = pd.to_datetime(cred_df['ApprovalDate'], format='%d-%b-%y')\n",
    "cred_df['DisbursementDate'] = pd.to_datetime(cred_df['DisbursementDate'], format='%d-%b-%y')\n",
    "cred_df['DaysToDisbursement'] = cred_df['DisbursementDate'] - cred_df['ApprovalDate']"
   ]
  },
  {
   "cell_type": "code",
   "execution_count": 533,
   "id": "3870dd38",
   "metadata": {
    "colab": {
     "base_uri": "https://localhost:8080/"
    },
    "execution": {
     "iopub.execute_input": "2024-09-19T07:52:59.759431Z",
     "iopub.status.busy": "2024-09-19T07:52:59.758910Z",
     "iopub.status.idle": "2024-09-19T07:52:59.770347Z",
     "shell.execute_reply": "2024-09-19T07:52:59.769141Z",
     "shell.execute_reply.started": "2024-09-19T07:52:59.759387Z"
    },
    "id": "6477cc60-8cb6-4237-9e98-59dd53285979",
    "outputId": "fc2773f5-d604-4a8e-a754-6e24b4682208"
   },
   "outputs": [
    {
     "name": "stdout",
     "output_type": "stream",
     "text": [
      "<class 'pandas.core.series.Series'>\n",
      "RangeIndex: 899164 entries, 0 to 899163\n",
      "Series name: DaysToDisbursement\n",
      "Non-Null Count   Dtype          \n",
      "--------------   -----          \n",
      "899164 non-null  timedelta64[ns]\n",
      "dtypes: timedelta64[ns](1)\n",
      "memory usage: 6.9 MB\n"
     ]
    }
   ],
   "source": [
    "cred_df['DaysToDisbursement'].info()"
   ]
  },
  {
   "cell_type": "code",
   "execution_count": 534,
   "id": "eb914ad4",
   "metadata": {
    "execution": {
     "iopub.execute_input": "2024-09-19T07:52:59.772027Z",
     "iopub.status.busy": "2024-09-19T07:52:59.771667Z",
     "iopub.status.idle": "2024-09-19T07:52:59.781533Z",
     "shell.execute_reply": "2024-09-19T07:52:59.780237Z",
     "shell.execute_reply.started": "2024-09-19T07:52:59.771979Z"
    },
    "id": "aaa62ce2-74c7-4420-9c72-14c7ebefdfc8"
   },
   "outputs": [],
   "source": [
    "cred_df['DaysToDisbursement'] = cred_df['DaysToDisbursement'].dt.days"
   ]
  },
  {
   "cell_type": "code",
   "execution_count": 535,
   "id": "3b1f76b3",
   "metadata": {
    "execution": {
     "iopub.execute_input": "2024-09-19T07:52:59.783800Z",
     "iopub.status.busy": "2024-09-19T07:52:59.783238Z",
     "iopub.status.idle": "2024-09-19T07:53:00.034018Z",
     "shell.execute_reply": "2024-09-19T07:53:00.032884Z",
     "shell.execute_reply.started": "2024-09-19T07:52:59.783746Z"
    },
    "id": "c7c6eb8a-e213-4710-bea4-32270a2d8fdf"
   },
   "outputs": [],
   "source": [
    "cred_df['DisbursementFY'] = cred_df['DisbursementDate'].map(lambda x: x.year)"
   ]
  },
  {
   "cell_type": "code",
   "execution_count": 536,
   "id": "c127d626",
   "metadata": {
    "colab": {
     "base_uri": "https://localhost:8080/",
     "height": 790
    },
    "execution": {
     "iopub.execute_input": "2024-09-19T07:53:00.035633Z",
     "iopub.status.busy": "2024-09-19T07:53:00.035292Z",
     "iopub.status.idle": "2024-09-19T07:53:00.071539Z",
     "shell.execute_reply": "2024-09-19T07:53:00.070370Z",
     "shell.execute_reply.started": "2024-09-19T07:53:00.035598Z"
    },
    "id": "XvlffwlIy3TZ",
    "outputId": "7e7f85f4-c4af-4e3a-dbb0-07fd3afd6ba2"
   },
   "outputs": [
    {
     "data": {
      "text/html": [
       "<div>\n",
       "<style scoped>\n",
       "    .dataframe tbody tr th:only-of-type {\n",
       "        vertical-align: middle;\n",
       "    }\n",
       "\n",
       "    .dataframe tbody tr th {\n",
       "        vertical-align: top;\n",
       "    }\n",
       "\n",
       "    .dataframe thead th {\n",
       "        text-align: right;\n",
       "    }\n",
       "</style>\n",
       "<table border=\"1\" class=\"dataframe\">\n",
       "  <thead>\n",
       "    <tr style=\"text-align: right;\">\n",
       "      <th></th>\n",
       "      <th>Name</th>\n",
       "      <th>City</th>\n",
       "      <th>State</th>\n",
       "      <th>Zip</th>\n",
       "      <th>Bank</th>\n",
       "      <th>BankState</th>\n",
       "      <th>NAICS</th>\n",
       "      <th>ApprovalDate</th>\n",
       "      <th>ApprovalFY</th>\n",
       "      <th>Term</th>\n",
       "      <th>...</th>\n",
       "      <th>DisbursementDate</th>\n",
       "      <th>DisbursementGross</th>\n",
       "      <th>BalanceGross</th>\n",
       "      <th>MIS_Status</th>\n",
       "      <th>ChgOffPrinGr</th>\n",
       "      <th>GrAppv</th>\n",
       "      <th>SBA_Appv</th>\n",
       "      <th>TotalJobs</th>\n",
       "      <th>DaysToDisbursement</th>\n",
       "      <th>DisbursementFY</th>\n",
       "    </tr>\n",
       "  </thead>\n",
       "  <tbody>\n",
       "    <tr>\n",
       "      <th>452</th>\n",
       "      <td>Symmetry Systems, Inc.</td>\n",
       "      <td>Latham</td>\n",
       "      <td>NY</td>\n",
       "      <td>12110</td>\n",
       "      <td>KEYBANK NATIONAL ASSOCIATION</td>\n",
       "      <td>OH</td>\n",
       "      <td>0</td>\n",
       "      <td>1998-11-27</td>\n",
       "      <td>1999</td>\n",
       "      <td>60</td>\n",
       "      <td>...</td>\n",
       "      <td>1995-07-31</td>\n",
       "      <td>50000.0</td>\n",
       "      <td>0.0</td>\n",
       "      <td>P I F</td>\n",
       "      <td>0.0</td>\n",
       "      <td>50000.0</td>\n",
       "      <td>25000.0</td>\n",
       "      <td>0</td>\n",
       "      <td>-1215</td>\n",
       "      <td>1995</td>\n",
       "    </tr>\n",
       "    <tr>\n",
       "      <th>481</th>\n",
       "      <td>AQUA BELLA ENTERPRISES, INC.</td>\n",
       "      <td>CHICAGO</td>\n",
       "      <td>IL</td>\n",
       "      <td>60634</td>\n",
       "      <td>NORTH COMMUNITY BANK</td>\n",
       "      <td>IL</td>\n",
       "      <td>0</td>\n",
       "      <td>1980-06-25</td>\n",
       "      <td>1980</td>\n",
       "      <td>87</td>\n",
       "      <td>...</td>\n",
       "      <td>1980-05-12</td>\n",
       "      <td>350000.0</td>\n",
       "      <td>0.0</td>\n",
       "      <td>CHGOFF</td>\n",
       "      <td>311636.0</td>\n",
       "      <td>350000.0</td>\n",
       "      <td>315000.0</td>\n",
       "      <td>0</td>\n",
       "      <td>-44</td>\n",
       "      <td>1980</td>\n",
       "    </tr>\n",
       "    <tr>\n",
       "      <th>1183</th>\n",
       "      <td>Virtuo Group Corporation</td>\n",
       "      <td>The Woodlands</td>\n",
       "      <td>TX</td>\n",
       "      <td>77382</td>\n",
       "      <td>WELLS FARGO BANK NATL ASSOC</td>\n",
       "      <td>TX</td>\n",
       "      <td>541990</td>\n",
       "      <td>2003-10-09</td>\n",
       "      <td>2004</td>\n",
       "      <td>13</td>\n",
       "      <td>...</td>\n",
       "      <td>1995-07-31</td>\n",
       "      <td>190000.0</td>\n",
       "      <td>0.0</td>\n",
       "      <td>P I F</td>\n",
       "      <td>0.0</td>\n",
       "      <td>190000.0</td>\n",
       "      <td>95000.0</td>\n",
       "      <td>0</td>\n",
       "      <td>-2992</td>\n",
       "      <td>1995</td>\n",
       "    </tr>\n",
       "    <tr>\n",
       "      <th>1382</th>\n",
       "      <td>Fairfax Family Physical Therap</td>\n",
       "      <td>FAIRFAX</td>\n",
       "      <td>VT</td>\n",
       "      <td>5454</td>\n",
       "      <td>TD BANK, NATIONAL ASSOCIATION</td>\n",
       "      <td>DE</td>\n",
       "      <td>621498</td>\n",
       "      <td>2003-12-12</td>\n",
       "      <td>2004</td>\n",
       "      <td>84</td>\n",
       "      <td>...</td>\n",
       "      <td>1995-07-31</td>\n",
       "      <td>10000.0</td>\n",
       "      <td>0.0</td>\n",
       "      <td>P I F</td>\n",
       "      <td>0.0</td>\n",
       "      <td>10000.0</td>\n",
       "      <td>5000.0</td>\n",
       "      <td>0</td>\n",
       "      <td>-3056</td>\n",
       "      <td>1995</td>\n",
       "    </tr>\n",
       "    <tr>\n",
       "      <th>1525</th>\n",
       "      <td>Haberle Steel, Inc.</td>\n",
       "      <td>CONSHOHOCKEN</td>\n",
       "      <td>PA</td>\n",
       "      <td>19428</td>\n",
       "      <td>UNIVEST BANK AND TRUST CO.</td>\n",
       "      <td>PA</td>\n",
       "      <td>331221</td>\n",
       "      <td>2004-03-16</td>\n",
       "      <td>2004</td>\n",
       "      <td>60</td>\n",
       "      <td>...</td>\n",
       "      <td>1995-07-31</td>\n",
       "      <td>75000.0</td>\n",
       "      <td>0.0</td>\n",
       "      <td>P I F</td>\n",
       "      <td>0.0</td>\n",
       "      <td>75000.0</td>\n",
       "      <td>37500.0</td>\n",
       "      <td>0</td>\n",
       "      <td>-3151</td>\n",
       "      <td>1995</td>\n",
       "    </tr>\n",
       "    <tr>\n",
       "      <th>...</th>\n",
       "      <td>...</td>\n",
       "      <td>...</td>\n",
       "      <td>...</td>\n",
       "      <td>...</td>\n",
       "      <td>...</td>\n",
       "      <td>...</td>\n",
       "      <td>...</td>\n",
       "      <td>...</td>\n",
       "      <td>...</td>\n",
       "      <td>...</td>\n",
       "      <td>...</td>\n",
       "      <td>...</td>\n",
       "      <td>...</td>\n",
       "      <td>...</td>\n",
       "      <td>...</td>\n",
       "      <td>...</td>\n",
       "      <td>...</td>\n",
       "      <td>...</td>\n",
       "      <td>...</td>\n",
       "      <td>...</td>\n",
       "      <td>...</td>\n",
       "    </tr>\n",
       "    <tr>\n",
       "      <th>897268</th>\n",
       "      <td>ROJAS RENTALS</td>\n",
       "      <td>LOS ANGELES</td>\n",
       "      <td>CA</td>\n",
       "      <td>90023</td>\n",
       "      <td>WELLS FARGO BANK NATL ASSOC</td>\n",
       "      <td>SD</td>\n",
       "      <td>0</td>\n",
       "      <td>1997-02-10</td>\n",
       "      <td>1997</td>\n",
       "      <td>60</td>\n",
       "      <td>...</td>\n",
       "      <td>1995-07-31</td>\n",
       "      <td>10000.0</td>\n",
       "      <td>0.0</td>\n",
       "      <td>P I F</td>\n",
       "      <td>0.0</td>\n",
       "      <td>10000.0</td>\n",
       "      <td>5000.0</td>\n",
       "      <td>0</td>\n",
       "      <td>-560</td>\n",
       "      <td>1995</td>\n",
       "    </tr>\n",
       "    <tr>\n",
       "      <th>897488</th>\n",
       "      <td>EFM ASSOCIATES</td>\n",
       "      <td>LOS ANGELES</td>\n",
       "      <td>CA</td>\n",
       "      <td>90068</td>\n",
       "      <td>WELLS FARGO BANK NATL ASSOC</td>\n",
       "      <td>SD</td>\n",
       "      <td>531110</td>\n",
       "      <td>1997-02-12</td>\n",
       "      <td>1997</td>\n",
       "      <td>60</td>\n",
       "      <td>...</td>\n",
       "      <td>1995-07-31</td>\n",
       "      <td>35000.0</td>\n",
       "      <td>0.0</td>\n",
       "      <td>P I F</td>\n",
       "      <td>0.0</td>\n",
       "      <td>35000.0</td>\n",
       "      <td>17500.0</td>\n",
       "      <td>0</td>\n",
       "      <td>-562</td>\n",
       "      <td>1995</td>\n",
       "    </tr>\n",
       "    <tr>\n",
       "      <th>897494</th>\n",
       "      <td>DOUGLAS WATANABE DDS INC</td>\n",
       "      <td>CREVE COEUR</td>\n",
       "      <td>MO</td>\n",
       "      <td>63141</td>\n",
       "      <td>U.S. BANK NATIONAL ASSOCIATION</td>\n",
       "      <td>MO</td>\n",
       "      <td>621210</td>\n",
       "      <td>1997-02-12</td>\n",
       "      <td>1997</td>\n",
       "      <td>120</td>\n",
       "      <td>...</td>\n",
       "      <td>1995-07-31</td>\n",
       "      <td>230000.0</td>\n",
       "      <td>0.0</td>\n",
       "      <td>P I F</td>\n",
       "      <td>0.0</td>\n",
       "      <td>230000.0</td>\n",
       "      <td>172500.0</td>\n",
       "      <td>0</td>\n",
       "      <td>-562</td>\n",
       "      <td>1995</td>\n",
       "    </tr>\n",
       "    <tr>\n",
       "      <th>898373</th>\n",
       "      <td>CROWN JEWELERS, LTD.</td>\n",
       "      <td>STAUNTON</td>\n",
       "      <td>VA</td>\n",
       "      <td>24401</td>\n",
       "      <td>UNION FIRST MARKET BANK</td>\n",
       "      <td>VA</td>\n",
       "      <td>448310</td>\n",
       "      <td>1997-02-21</td>\n",
       "      <td>1997</td>\n",
       "      <td>299</td>\n",
       "      <td>...</td>\n",
       "      <td>1987-04-01</td>\n",
       "      <td>50000.0</td>\n",
       "      <td>0.0</td>\n",
       "      <td>P I F</td>\n",
       "      <td>0.0</td>\n",
       "      <td>50000.0</td>\n",
       "      <td>37500.0</td>\n",
       "      <td>0</td>\n",
       "      <td>-3614</td>\n",
       "      <td>1987</td>\n",
       "    </tr>\n",
       "    <tr>\n",
       "      <th>899107</th>\n",
       "      <td>MAILFAST, INC.</td>\n",
       "      <td>BIRMINGHAM</td>\n",
       "      <td>AL</td>\n",
       "      <td>35222</td>\n",
       "      <td>COMPASS BANK</td>\n",
       "      <td>AL</td>\n",
       "      <td>0</td>\n",
       "      <td>2001-03-26</td>\n",
       "      <td>2001</td>\n",
       "      <td>84</td>\n",
       "      <td>...</td>\n",
       "      <td>1998-01-31</td>\n",
       "      <td>100000.0</td>\n",
       "      <td>0.0</td>\n",
       "      <td>P I F</td>\n",
       "      <td>0.0</td>\n",
       "      <td>100000.0</td>\n",
       "      <td>75000.0</td>\n",
       "      <td>0</td>\n",
       "      <td>-1150</td>\n",
       "      <td>1998</td>\n",
       "    </tr>\n",
       "  </tbody>\n",
       "</table>\n",
       "<p>2838 rows × 28 columns</p>\n",
       "</div>"
      ],
      "text/plain": [
       "                                  Name           City State    Zip  \\\n",
       "452             Symmetry Systems, Inc.         Latham    NY  12110   \n",
       "481       AQUA BELLA ENTERPRISES, INC.        CHICAGO    IL  60634   \n",
       "1183          Virtuo Group Corporation  The Woodlands    TX  77382   \n",
       "1382    Fairfax Family Physical Therap        FAIRFAX    VT   5454   \n",
       "1525               Haberle Steel, Inc.   CONSHOHOCKEN    PA  19428   \n",
       "...                                ...            ...   ...    ...   \n",
       "897268                   ROJAS RENTALS    LOS ANGELES    CA  90023   \n",
       "897488                  EFM ASSOCIATES    LOS ANGELES    CA  90068   \n",
       "897494        DOUGLAS WATANABE DDS INC    CREVE COEUR    MO  63141   \n",
       "898373            CROWN JEWELERS, LTD.       STAUNTON    VA  24401   \n",
       "899107                  MAILFAST, INC.     BIRMINGHAM    AL  35222   \n",
       "\n",
       "                                  Bank BankState   NAICS ApprovalDate  \\\n",
       "452       KEYBANK NATIONAL ASSOCIATION        OH       0   1998-11-27   \n",
       "481               NORTH COMMUNITY BANK        IL       0   1980-06-25   \n",
       "1183       WELLS FARGO BANK NATL ASSOC        TX  541990   2003-10-09   \n",
       "1382     TD BANK, NATIONAL ASSOCIATION        DE  621498   2003-12-12   \n",
       "1525        UNIVEST BANK AND TRUST CO.        PA  331221   2004-03-16   \n",
       "...                                ...       ...     ...          ...   \n",
       "897268     WELLS FARGO BANK NATL ASSOC        SD       0   1997-02-10   \n",
       "897488     WELLS FARGO BANK NATL ASSOC        SD  531110   1997-02-12   \n",
       "897494  U.S. BANK NATIONAL ASSOCIATION        MO  621210   1997-02-12   \n",
       "898373         UNION FIRST MARKET BANK        VA  448310   1997-02-21   \n",
       "899107                    COMPASS BANK        AL       0   2001-03-26   \n",
       "\n",
       "        ApprovalFY  Term  ... DisbursementDate  DisbursementGross  \\\n",
       "452           1999    60  ...       1995-07-31            50000.0   \n",
       "481           1980    87  ...       1980-05-12           350000.0   \n",
       "1183          2004    13  ...       1995-07-31           190000.0   \n",
       "1382          2004    84  ...       1995-07-31            10000.0   \n",
       "1525          2004    60  ...       1995-07-31            75000.0   \n",
       "...            ...   ...  ...              ...                ...   \n",
       "897268        1997    60  ...       1995-07-31            10000.0   \n",
       "897488        1997    60  ...       1995-07-31            35000.0   \n",
       "897494        1997   120  ...       1995-07-31           230000.0   \n",
       "898373        1997   299  ...       1987-04-01            50000.0   \n",
       "899107        2001    84  ...       1998-01-31           100000.0   \n",
       "\n",
       "        BalanceGross  MIS_Status  ChgOffPrinGr    GrAppv  SBA_Appv  TotalJobs  \\\n",
       "452              0.0       P I F           0.0   50000.0   25000.0          0   \n",
       "481              0.0      CHGOFF      311636.0  350000.0  315000.0          0   \n",
       "1183             0.0       P I F           0.0  190000.0   95000.0          0   \n",
       "1382             0.0       P I F           0.0   10000.0    5000.0          0   \n",
       "1525             0.0       P I F           0.0   75000.0   37500.0          0   \n",
       "...              ...         ...           ...       ...       ...        ...   \n",
       "897268           0.0       P I F           0.0   10000.0    5000.0          0   \n",
       "897488           0.0       P I F           0.0   35000.0   17500.0          0   \n",
       "897494           0.0       P I F           0.0  230000.0  172500.0          0   \n",
       "898373           0.0       P I F           0.0   50000.0   37500.0          0   \n",
       "899107           0.0       P I F           0.0  100000.0   75000.0          0   \n",
       "\n",
       "       DaysToDisbursement  DisbursementFY  \n",
       "452                 -1215            1995  \n",
       "481                   -44            1980  \n",
       "1183                -2992            1995  \n",
       "1382                -3056            1995  \n",
       "1525                -3151            1995  \n",
       "...                   ...             ...  \n",
       "897268               -560            1995  \n",
       "897488               -562            1995  \n",
       "897494               -562            1995  \n",
       "898373              -3614            1987  \n",
       "899107              -1150            1998  \n",
       "\n",
       "[2838 rows x 28 columns]"
      ]
     },
     "execution_count": 536,
     "metadata": {},
     "output_type": "execute_result"
    }
   ],
   "source": [
    "cred_df[cred_df[\"DaysToDisbursement\"] < 0]"
   ]
  },
  {
   "cell_type": "markdown",
   "id": "24940ff1",
   "metadata": {},
   "source": [
    "    Seems that the loan was disbursed before it was approved so as am dropping it."
   ]
  },
  {
   "cell_type": "code",
   "execution_count": 537,
   "id": "f90dad80",
   "metadata": {},
   "outputs": [],
   "source": [
    "cred_df.drop(cred_df[cred_df[\"DaysToDisbursement\"] < 0].index, inplace = True)"
   ]
  },
  {
   "cell_type": "code",
   "execution_count": 538,
   "id": "7cd6c1d5",
   "metadata": {},
   "outputs": [],
   "source": [
    "cred_df[\"Term\"] = cred_df[\"Term\"] / 12"
   ]
  },
  {
   "cell_type": "code",
   "execution_count": 539,
   "id": "5586bba2",
   "metadata": {},
   "outputs": [],
   "source": [
    "bins = [0, 5, 15, 27]\n",
    "labels = ['Short Term', 'Medium Term', 'Large Term']\n",
    "\n",
    "cred_df['Term'] = pd.cut(cred_df['Term'], bins=bins, labels=labels, include_lowest=True)"
   ]
  },
  {
   "cell_type": "code",
   "execution_count": 540,
   "id": "b869d638",
   "metadata": {},
   "outputs": [
    {
     "data": {
      "text/plain": [
       "Term\n",
       "Medium Term    465282\n",
       "Short Term     265067\n",
       "Large Term     165712\n",
       "Name: count, dtype: int64"
      ]
     },
     "execution_count": 540,
     "metadata": {},
     "output_type": "execute_result"
    }
   ],
   "source": [
    "cred_df['Term'].value_counts()"
   ]
  },
  {
   "cell_type": "code",
   "execution_count": 541,
   "id": "f369d18e",
   "metadata": {},
   "outputs": [
    {
     "data": {
      "text/plain": [
       "BalanceGross\n",
       "0.0         0.999984\n",
       "12750.0     0.000001\n",
       "827875.0    0.000001\n",
       "25000.0     0.000001\n",
       "Name: proportion, dtype: float64"
      ]
     },
     "execution_count": 541,
     "metadata": {},
     "output_type": "execute_result"
    }
   ],
   "source": [
    "cred_df['BalanceGross'].value_counts(normalize = True).head(4)"
   ]
  },
  {
   "cell_type": "code",
   "execution_count": 542,
   "id": "e8177c87",
   "metadata": {},
   "outputs": [
    {
     "data": {
      "text/plain": [
       "ChgOffPrinGr\n",
       "0.0         734560\n",
       "50000.0       2105\n",
       "10000.0       1864\n",
       "25000.0       1367\n",
       "35000.0       1345\n",
       "             ...  \n",
       "10734.0          1\n",
       "21267.0          1\n",
       "706512.0         1\n",
       "96424.0          1\n",
       "124847.0         1\n",
       "Name: count, Length: 83105, dtype: int64"
      ]
     },
     "execution_count": 542,
     "metadata": {},
     "output_type": "execute_result"
    }
   ],
   "source": [
    "cred_df['ChgOffPrinGr'].value_counts()"
   ]
  },
  {
   "cell_type": "code",
   "execution_count": 543,
   "id": "38a8d797",
   "metadata": {},
   "outputs": [
    {
     "data": {
      "text/plain": [
       "0          60000.0\n",
       "1          40000.0\n",
       "2         287000.0\n",
       "3          35000.0\n",
       "4         229000.0\n",
       "            ...   \n",
       "899159     70000.0\n",
       "899160     85000.0\n",
       "899161    300000.0\n",
       "899162     75000.0\n",
       "899163     30000.0\n",
       "Name: GrAppv, Length: 896326, dtype: float64"
      ]
     },
     "execution_count": 543,
     "metadata": {},
     "output_type": "execute_result"
    }
   ],
   "source": [
    "cred_df['GrAppv']"
   ]
  },
  {
   "cell_type": "code",
   "execution_count": 544,
   "id": "91767525",
   "metadata": {},
   "outputs": [
    {
     "data": {
      "text/plain": [
       "0          48000.0\n",
       "1          32000.0\n",
       "2         215250.0\n",
       "3          28000.0\n",
       "4         229000.0\n",
       "            ...   \n",
       "899159     56000.0\n",
       "899160     42500.0\n",
       "899161    225000.0\n",
       "899162     60000.0\n",
       "899163     24000.0\n",
       "Name: SBA_Appv, Length: 896326, dtype: float64"
      ]
     },
     "execution_count": 544,
     "metadata": {},
     "output_type": "execute_result"
    }
   ],
   "source": [
    "cred_df['SBA_Appv']"
   ]
  },
  {
   "cell_type": "code",
   "execution_count": 545,
   "id": "fa058bf1",
   "metadata": {},
   "outputs": [
    {
     "data": {
      "text/plain": [
       "Name                          object\n",
       "City                          object\n",
       "State                         object\n",
       "Zip                            int32\n",
       "Bank                          object\n",
       "BankState                     object\n",
       "NAICS                          int64\n",
       "ApprovalDate          datetime64[ns]\n",
       "ApprovalFY                     int64\n",
       "Term                        category\n",
       "NoEmp                       category\n",
       "NewExist                     float64\n",
       "CreateJob                      int64\n",
       "RetainedJob                    int64\n",
       "FranchiseCode                  int64\n",
       "UrbanRural                    object\n",
       "RevLineCr                    float64\n",
       "LowDoc                       float64\n",
       "DisbursementDate      datetime64[ns]\n",
       "DisbursementGross            float64\n",
       "BalanceGross                 float64\n",
       "MIS_Status                    object\n",
       "ChgOffPrinGr                 float64\n",
       "GrAppv                       float64\n",
       "SBA_Appv                     float64\n",
       "TotalJobs                      int64\n",
       "DaysToDisbursement             int64\n",
       "DisbursementFY                 int64\n",
       "dtype: object"
      ]
     },
     "execution_count": 545,
     "metadata": {},
     "output_type": "execute_result"
    }
   ],
   "source": [
    "cred_df.dtypes"
   ]
  },
  {
   "cell_type": "markdown",
   "id": "98605645",
   "metadata": {},
   "source": [
    "    Dropping some columns as per there no work :\n",
    "        1. ApprovalDate and DisbursementDate as they are Date and Time with no use!\n",
    "        2. Name, City, Bank. Zip because this column won't important for the defaulting!"
   ]
  },
  {
   "cell_type": "code",
   "execution_count": 546,
   "id": "c22279bd",
   "metadata": {},
   "outputs": [],
   "source": [
    "cred_df.drop(['ApprovalDate', 'DisbursementDate', 'Name', 'City', 'Bank'], inplace = True, axis = 1)"
   ]
  },
  {
   "cell_type": "markdown",
   "id": "d18e7882",
   "metadata": {},
   "source": [
    "    Working on some values to get appropriate answer. "
   ]
  },
  {
   "cell_type": "code",
   "execution_count": 547,
   "id": "0a4032c9",
   "metadata": {},
   "outputs": [],
   "source": [
    "cred_df['NoEmp'] = cred_df['NoEmp'].astype(object)\n",
    "cred_df['Term'] = cred_df['Term'].astype(object)"
   ]
  },
  {
   "cell_type": "code",
   "execution_count": 548,
   "id": "513bdb89",
   "metadata": {},
   "outputs": [
    {
     "data": {
      "text/plain": [
       "MIS_Status\n",
       "P I F     738997\n",
       "CHGOFF    157329\n",
       "Name: count, dtype: int64"
      ]
     },
     "execution_count": 548,
     "metadata": {},
     "output_type": "execute_result"
    }
   ],
   "source": [
    "cred_df['MIS_Status'].value_counts()"
   ]
  },
  {
   "cell_type": "code",
   "execution_count": 549,
   "id": "8d68f1ed",
   "metadata": {},
   "outputs": [
    {
     "data": {
      "text/plain": [
       "array(['P I F', 'CHGOFF'], dtype=object)"
      ]
     },
     "execution_count": 549,
     "metadata": {},
     "output_type": "execute_result"
    }
   ],
   "source": [
    "cred_df['MIS_Status'].unique()"
   ]
  },
  {
   "cell_type": "code",
   "execution_count": 550,
   "id": "cbc5934f",
   "metadata": {},
   "outputs": [],
   "source": [
    "mapped = {\n",
    "    'P I F' : 1,\n",
    "    'CHGOFF' : 0\n",
    "}\n",
    "\n",
    "cred_df['MIS_Status'] = cred_df['MIS_Status'].map(mapped)"
   ]
  },
  {
   "cell_type": "code",
   "execution_count": 551,
   "id": "e15dd979",
   "metadata": {},
   "outputs": [
    {
     "data": {
      "text/plain": [
       "array([1, 0], dtype=int64)"
      ]
     },
     "execution_count": 551,
     "metadata": {},
     "output_type": "execute_result"
    }
   ],
   "source": [
    "cred_df['MIS_Status'].unique()"
   ]
  },
  {
   "cell_type": "code",
   "execution_count": 552,
   "id": "f9050c35",
   "metadata": {},
   "outputs": [],
   "source": [
    "def label_encode_by_count(column):\n",
    "    counts = column.value_counts()\n",
    "    return column.map(counts)"
   ]
  },
  {
   "cell_type": "code",
   "execution_count": 553,
   "id": "9f387408",
   "metadata": {},
   "outputs": [],
   "source": [
    "cred_df['State'] = label_encode_by_count(cred_df['State'])\n",
    "cred_df['BankState'] = label_encode_by_count(cred_df['BankState'])\n",
    "cred_df['Term'] = label_encode_by_count(cred_df['Term'])\n",
    "cred_df['NoEmp'] = label_encode_by_count(cred_df['NoEmp'])\n",
    "cred_df['UrbanRural'] = label_encode_by_count(cred_df['UrbanRural'])"
   ]
  },
  {
   "cell_type": "code",
   "execution_count": 554,
   "id": "cfae4991",
   "metadata": {},
   "outputs": [
    {
     "name": "stdout",
     "output_type": "stream",
     "text": [
      "<class 'pandas.core.frame.DataFrame'>\n",
      "Index: 896326 entries, 0 to 899163\n",
      "Data columns (total 23 columns):\n",
      " #   Column              Non-Null Count   Dtype  \n",
      "---  ------              --------------   -----  \n",
      " 0   State               896326 non-null  int64  \n",
      " 1   Zip                 896326 non-null  int32  \n",
      " 2   BankState           896326 non-null  int64  \n",
      " 3   NAICS               896326 non-null  int64  \n",
      " 4   ApprovalFY          896326 non-null  int64  \n",
      " 5   Term                896061 non-null  float64\n",
      " 6   NoEmp               896258 non-null  float64\n",
      " 7   NewExist            895299 non-null  float64\n",
      " 8   CreateJob           896326 non-null  int64  \n",
      " 9   RetainedJob         896326 non-null  int64  \n",
      " 10  FranchiseCode       896326 non-null  int64  \n",
      " 11  UrbanRural          896326 non-null  int64  \n",
      " 12  RevLineCr           623715 non-null  float64\n",
      " 13  LowDoc              892925 non-null  float64\n",
      " 14  DisbursementGross   896326 non-null  float64\n",
      " 15  BalanceGross        896326 non-null  float64\n",
      " 16  MIS_Status          896326 non-null  int64  \n",
      " 17  ChgOffPrinGr        896326 non-null  float64\n",
      " 18  GrAppv              896326 non-null  float64\n",
      " 19  SBA_Appv            896326 non-null  float64\n",
      " 20  TotalJobs           896326 non-null  int64  \n",
      " 21  DaysToDisbursement  896326 non-null  int64  \n",
      " 22  DisbursementFY      896326 non-null  int64  \n",
      "dtypes: float64(10), int32(1), int64(12)\n",
      "memory usage: 160.7 MB\n"
     ]
    }
   ],
   "source": [
    "cred_df.info()"
   ]
  },
  {
   "cell_type": "code",
   "execution_count": 555,
   "id": "7f45f120",
   "metadata": {},
   "outputs": [
    {
     "data": {
      "text/plain": [
       "State                      0\n",
       "Zip                        0\n",
       "BankState                  0\n",
       "NAICS                      0\n",
       "ApprovalFY                 0\n",
       "Term                     265\n",
       "NoEmp                     68\n",
       "NewExist                1027\n",
       "CreateJob                  0\n",
       "RetainedJob                0\n",
       "FranchiseCode              0\n",
       "UrbanRural                 0\n",
       "RevLineCr             272611\n",
       "LowDoc                  3401\n",
       "DisbursementGross          0\n",
       "BalanceGross               0\n",
       "MIS_Status                 0\n",
       "ChgOffPrinGr               0\n",
       "GrAppv                     0\n",
       "SBA_Appv                   0\n",
       "TotalJobs                  0\n",
       "DaysToDisbursement         0\n",
       "DisbursementFY             0\n",
       "dtype: int64"
      ]
     },
     "execution_count": 555,
     "metadata": {},
     "output_type": "execute_result"
    }
   ],
   "source": [
    "cred_df.isnull().sum()"
   ]
  },
  {
   "cell_type": "code",
   "execution_count": 556,
   "id": "e2672b70",
   "metadata": {},
   "outputs": [],
   "source": [
    "cred_df.dropna(inplace = True)"
   ]
  },
  {
   "cell_type": "code",
   "execution_count": 557,
   "id": "089f5cb5",
   "metadata": {},
   "outputs": [
    {
     "data": {
      "text/plain": [
       "State                 0\n",
       "Zip                   0\n",
       "BankState             0\n",
       "NAICS                 0\n",
       "ApprovalFY            0\n",
       "Term                  0\n",
       "NoEmp                 0\n",
       "NewExist              0\n",
       "CreateJob             0\n",
       "RetainedJob           0\n",
       "FranchiseCode         0\n",
       "UrbanRural            0\n",
       "RevLineCr             0\n",
       "LowDoc                0\n",
       "DisbursementGross     0\n",
       "BalanceGross          0\n",
       "MIS_Status            0\n",
       "ChgOffPrinGr          0\n",
       "GrAppv                0\n",
       "SBA_Appv              0\n",
       "TotalJobs             0\n",
       "DaysToDisbursement    0\n",
       "DisbursementFY        0\n",
       "dtype: int64"
      ]
     },
     "execution_count": 557,
     "metadata": {},
     "output_type": "execute_result"
    }
   ],
   "source": [
    "cred_df.isnull().sum()"
   ]
  },
  {
   "cell_type": "code",
   "execution_count": 562,
   "id": "4a1fc8b8",
   "metadata": {},
   "outputs": [],
   "source": [
    "import numpy as np, pandas as pd\n",
    "import matplotlib.pyplot as plt \n",
    "import seaborn as sns\n",
    "\n",
    "from sklearn.linear_model import LogisticRegression\n",
    "from sklearn.model_selection import train_test_split, GridSearchCV\n",
    "from sklearn.metrics import accuracy_score, confusion_matrix, classification_report\n",
    "\n",
    "# Supress Warnings\n",
    "import warnings\n",
    "warnings.filterwarnings('ignore')"
   ]
  },
  {
   "cell_type": "code",
   "execution_count": 563,
   "id": "21cf0325",
   "metadata": {},
   "outputs": [],
   "source": [
    "df_x = cred_df.drop(columns = ['MIS_Status'])\n",
    "df_y = cred_df['MIS_Status']"
   ]
  },
  {
   "cell_type": "code",
   "execution_count": 564,
   "id": "f0dd6a1b",
   "metadata": {},
   "outputs": [],
   "source": [
    "x_train, x_test, y_train, y_test = train_test_split(df_x, df_y, test_size = 0.2, random_state = 15)"
   ]
  },
  {
   "cell_type": "markdown",
   "id": "2b37d490",
   "metadata": {},
   "source": [
    "#### Logistic Regression"
   ]
  },
  {
   "cell_type": "code",
   "execution_count": 565,
   "id": "218e1536",
   "metadata": {},
   "outputs": [
    {
     "data": {
      "text/html": [
       "<style>#sk-container-id-4 {color: black;}#sk-container-id-4 pre{padding: 0;}#sk-container-id-4 div.sk-toggleable {background-color: white;}#sk-container-id-4 label.sk-toggleable__label {cursor: pointer;display: block;width: 100%;margin-bottom: 0;padding: 0.3em;box-sizing: border-box;text-align: center;}#sk-container-id-4 label.sk-toggleable__label-arrow:before {content: \"▸\";float: left;margin-right: 0.25em;color: #696969;}#sk-container-id-4 label.sk-toggleable__label-arrow:hover:before {color: black;}#sk-container-id-4 div.sk-estimator:hover label.sk-toggleable__label-arrow:before {color: black;}#sk-container-id-4 div.sk-toggleable__content {max-height: 0;max-width: 0;overflow: hidden;text-align: left;background-color: #f0f8ff;}#sk-container-id-4 div.sk-toggleable__content pre {margin: 0.2em;color: black;border-radius: 0.25em;background-color: #f0f8ff;}#sk-container-id-4 input.sk-toggleable__control:checked~div.sk-toggleable__content {max-height: 200px;max-width: 100%;overflow: auto;}#sk-container-id-4 input.sk-toggleable__control:checked~label.sk-toggleable__label-arrow:before {content: \"▾\";}#sk-container-id-4 div.sk-estimator input.sk-toggleable__control:checked~label.sk-toggleable__label {background-color: #d4ebff;}#sk-container-id-4 div.sk-label input.sk-toggleable__control:checked~label.sk-toggleable__label {background-color: #d4ebff;}#sk-container-id-4 input.sk-hidden--visually {border: 0;clip: rect(1px 1px 1px 1px);clip: rect(1px, 1px, 1px, 1px);height: 1px;margin: -1px;overflow: hidden;padding: 0;position: absolute;width: 1px;}#sk-container-id-4 div.sk-estimator {font-family: monospace;background-color: #f0f8ff;border: 1px dotted black;border-radius: 0.25em;box-sizing: border-box;margin-bottom: 0.5em;}#sk-container-id-4 div.sk-estimator:hover {background-color: #d4ebff;}#sk-container-id-4 div.sk-parallel-item::after {content: \"\";width: 100%;border-bottom: 1px solid gray;flex-grow: 1;}#sk-container-id-4 div.sk-label:hover label.sk-toggleable__label {background-color: #d4ebff;}#sk-container-id-4 div.sk-serial::before {content: \"\";position: absolute;border-left: 1px solid gray;box-sizing: border-box;top: 0;bottom: 0;left: 50%;z-index: 0;}#sk-container-id-4 div.sk-serial {display: flex;flex-direction: column;align-items: center;background-color: white;padding-right: 0.2em;padding-left: 0.2em;position: relative;}#sk-container-id-4 div.sk-item {position: relative;z-index: 1;}#sk-container-id-4 div.sk-parallel {display: flex;align-items: stretch;justify-content: center;background-color: white;position: relative;}#sk-container-id-4 div.sk-item::before, #sk-container-id-4 div.sk-parallel-item::before {content: \"\";position: absolute;border-left: 1px solid gray;box-sizing: border-box;top: 0;bottom: 0;left: 50%;z-index: -1;}#sk-container-id-4 div.sk-parallel-item {display: flex;flex-direction: column;z-index: 1;position: relative;background-color: white;}#sk-container-id-4 div.sk-parallel-item:first-child::after {align-self: flex-end;width: 50%;}#sk-container-id-4 div.sk-parallel-item:last-child::after {align-self: flex-start;width: 50%;}#sk-container-id-4 div.sk-parallel-item:only-child::after {width: 0;}#sk-container-id-4 div.sk-dashed-wrapped {border: 1px dashed gray;margin: 0 0.4em 0.5em 0.4em;box-sizing: border-box;padding-bottom: 0.4em;background-color: white;}#sk-container-id-4 div.sk-label label {font-family: monospace;font-weight: bold;display: inline-block;line-height: 1.2em;}#sk-container-id-4 div.sk-label-container {text-align: center;}#sk-container-id-4 div.sk-container {/* jupyter's `normalize.less` sets `[hidden] { display: none; }` but bootstrap.min.css set `[hidden] { display: none !important; }` so we also need the `!important` here to be able to override the default hidden behavior on the sphinx rendered scikit-learn.org. See: https://github.com/scikit-learn/scikit-learn/issues/21755 */display: inline-block !important;position: relative;}#sk-container-id-4 div.sk-text-repr-fallback {display: none;}</style><div id=\"sk-container-id-4\" class=\"sk-top-container\"><div class=\"sk-text-repr-fallback\"><pre>LogisticRegression()</pre><b>In a Jupyter environment, please rerun this cell to show the HTML representation or trust the notebook. <br />On GitHub, the HTML representation is unable to render, please try loading this page with nbviewer.org.</b></div><div class=\"sk-container\" hidden><div class=\"sk-item\"><div class=\"sk-estimator sk-toggleable\"><input class=\"sk-toggleable__control sk-hidden--visually\" id=\"sk-estimator-id-4\" type=\"checkbox\" checked><label for=\"sk-estimator-id-4\" class=\"sk-toggleable__label sk-toggleable__label-arrow\">LogisticRegression</label><div class=\"sk-toggleable__content\"><pre>LogisticRegression()</pre></div></div></div></div></div>"
      ],
      "text/plain": [
       "LogisticRegression()"
      ]
     },
     "execution_count": 565,
     "metadata": {},
     "output_type": "execute_result"
    }
   ],
   "source": [
    "dt = LogisticRegression()\n",
    "dt"
   ]
  },
  {
   "cell_type": "code",
   "execution_count": 566,
   "id": "0ec9613f",
   "metadata": {},
   "outputs": [
    {
     "data": {
      "text/html": [
       "<style>#sk-container-id-5 {color: black;}#sk-container-id-5 pre{padding: 0;}#sk-container-id-5 div.sk-toggleable {background-color: white;}#sk-container-id-5 label.sk-toggleable__label {cursor: pointer;display: block;width: 100%;margin-bottom: 0;padding: 0.3em;box-sizing: border-box;text-align: center;}#sk-container-id-5 label.sk-toggleable__label-arrow:before {content: \"▸\";float: left;margin-right: 0.25em;color: #696969;}#sk-container-id-5 label.sk-toggleable__label-arrow:hover:before {color: black;}#sk-container-id-5 div.sk-estimator:hover label.sk-toggleable__label-arrow:before {color: black;}#sk-container-id-5 div.sk-toggleable__content {max-height: 0;max-width: 0;overflow: hidden;text-align: left;background-color: #f0f8ff;}#sk-container-id-5 div.sk-toggleable__content pre {margin: 0.2em;color: black;border-radius: 0.25em;background-color: #f0f8ff;}#sk-container-id-5 input.sk-toggleable__control:checked~div.sk-toggleable__content {max-height: 200px;max-width: 100%;overflow: auto;}#sk-container-id-5 input.sk-toggleable__control:checked~label.sk-toggleable__label-arrow:before {content: \"▾\";}#sk-container-id-5 div.sk-estimator input.sk-toggleable__control:checked~label.sk-toggleable__label {background-color: #d4ebff;}#sk-container-id-5 div.sk-label input.sk-toggleable__control:checked~label.sk-toggleable__label {background-color: #d4ebff;}#sk-container-id-5 input.sk-hidden--visually {border: 0;clip: rect(1px 1px 1px 1px);clip: rect(1px, 1px, 1px, 1px);height: 1px;margin: -1px;overflow: hidden;padding: 0;position: absolute;width: 1px;}#sk-container-id-5 div.sk-estimator {font-family: monospace;background-color: #f0f8ff;border: 1px dotted black;border-radius: 0.25em;box-sizing: border-box;margin-bottom: 0.5em;}#sk-container-id-5 div.sk-estimator:hover {background-color: #d4ebff;}#sk-container-id-5 div.sk-parallel-item::after {content: \"\";width: 100%;border-bottom: 1px solid gray;flex-grow: 1;}#sk-container-id-5 div.sk-label:hover label.sk-toggleable__label {background-color: #d4ebff;}#sk-container-id-5 div.sk-serial::before {content: \"\";position: absolute;border-left: 1px solid gray;box-sizing: border-box;top: 0;bottom: 0;left: 50%;z-index: 0;}#sk-container-id-5 div.sk-serial {display: flex;flex-direction: column;align-items: center;background-color: white;padding-right: 0.2em;padding-left: 0.2em;position: relative;}#sk-container-id-5 div.sk-item {position: relative;z-index: 1;}#sk-container-id-5 div.sk-parallel {display: flex;align-items: stretch;justify-content: center;background-color: white;position: relative;}#sk-container-id-5 div.sk-item::before, #sk-container-id-5 div.sk-parallel-item::before {content: \"\";position: absolute;border-left: 1px solid gray;box-sizing: border-box;top: 0;bottom: 0;left: 50%;z-index: -1;}#sk-container-id-5 div.sk-parallel-item {display: flex;flex-direction: column;z-index: 1;position: relative;background-color: white;}#sk-container-id-5 div.sk-parallel-item:first-child::after {align-self: flex-end;width: 50%;}#sk-container-id-5 div.sk-parallel-item:last-child::after {align-self: flex-start;width: 50%;}#sk-container-id-5 div.sk-parallel-item:only-child::after {width: 0;}#sk-container-id-5 div.sk-dashed-wrapped {border: 1px dashed gray;margin: 0 0.4em 0.5em 0.4em;box-sizing: border-box;padding-bottom: 0.4em;background-color: white;}#sk-container-id-5 div.sk-label label {font-family: monospace;font-weight: bold;display: inline-block;line-height: 1.2em;}#sk-container-id-5 div.sk-label-container {text-align: center;}#sk-container-id-5 div.sk-container {/* jupyter's `normalize.less` sets `[hidden] { display: none; }` but bootstrap.min.css set `[hidden] { display: none !important; }` so we also need the `!important` here to be able to override the default hidden behavior on the sphinx rendered scikit-learn.org. See: https://github.com/scikit-learn/scikit-learn/issues/21755 */display: inline-block !important;position: relative;}#sk-container-id-5 div.sk-text-repr-fallback {display: none;}</style><div id=\"sk-container-id-5\" class=\"sk-top-container\"><div class=\"sk-text-repr-fallback\"><pre>LogisticRegression()</pre><b>In a Jupyter environment, please rerun this cell to show the HTML representation or trust the notebook. <br />On GitHub, the HTML representation is unable to render, please try loading this page with nbviewer.org.</b></div><div class=\"sk-container\" hidden><div class=\"sk-item\"><div class=\"sk-estimator sk-toggleable\"><input class=\"sk-toggleable__control sk-hidden--visually\" id=\"sk-estimator-id-5\" type=\"checkbox\" checked><label for=\"sk-estimator-id-5\" class=\"sk-toggleable__label sk-toggleable__label-arrow\">LogisticRegression</label><div class=\"sk-toggleable__content\"><pre>LogisticRegression()</pre></div></div></div></div></div>"
      ],
      "text/plain": [
       "LogisticRegression()"
      ]
     },
     "execution_count": 566,
     "metadata": {},
     "output_type": "execute_result"
    }
   ],
   "source": [
    "model = dt.fit(\n",
    "    x_train,\n",
    "    y_train\n",
    ")\n",
    "model"
   ]
  },
  {
   "cell_type": "code",
   "execution_count": 567,
   "id": "cfced74f",
   "metadata": {},
   "outputs": [],
   "source": [
    "y_train_pred = model.predict(x_train)"
   ]
  },
  {
   "cell_type": "code",
   "execution_count": 568,
   "id": "4adc3fdb",
   "metadata": {},
   "outputs": [
    {
     "name": "stdout",
     "output_type": "stream",
     "text": [
      "Value of accuracy_score :  0.981893625047152\n",
      "Value of confusion_matrix :  [[ 82021   7151]\n",
      " [  1825 404740]]\n",
      "Value of classification_report :                precision    recall  f1-score   support\n",
      "\n",
      "           0       0.98      0.92      0.95     89172\n",
      "           1       0.98      1.00      0.99    406565\n",
      "\n",
      "    accuracy                           0.98    495737\n",
      "   macro avg       0.98      0.96      0.97    495737\n",
      "weighted avg       0.98      0.98      0.98    495737\n",
      "\n"
     ]
    }
   ],
   "source": [
    "print(\"Value of accuracy_score : \", accuracy_score(y_train, y_train_pred))\n",
    "print(\"Value of confusion_matrix : \", confusion_matrix(y_train, y_train_pred))\n",
    "print(\"Value of classification_report : \", classification_report(y_train, y_train_pred))"
   ]
  },
  {
   "cell_type": "code",
   "execution_count": 569,
   "id": "33649a4c",
   "metadata": {},
   "outputs": [],
   "source": [
    "y_test_pred = model.predict(x_test)"
   ]
  },
  {
   "cell_type": "code",
   "execution_count": 570,
   "id": "e3b3d2ca",
   "metadata": {},
   "outputs": [
    {
     "name": "stdout",
     "output_type": "stream",
     "text": [
      "Value of accuracy_score :  0.9821277282446443\n",
      "Value of confusion_matrix :  [[ 20834   1760]\n",
      " [   455 100886]]\n",
      "Value of classification_report :                precision    recall  f1-score   support\n",
      "\n",
      "           0       0.98      0.92      0.95     22594\n",
      "           1       0.98      1.00      0.99    101341\n",
      "\n",
      "    accuracy                           0.98    123935\n",
      "   macro avg       0.98      0.96      0.97    123935\n",
      "weighted avg       0.98      0.98      0.98    123935\n",
      "\n"
     ]
    }
   ],
   "source": [
    "print(\"Value of accuracy_score : \", accuracy_score(y_test, y_test_pred))\n",
    "print(\"Value of confusion_matrix : \", confusion_matrix(y_test, y_test_pred))\n",
    "print(\"Value of classification_report : \", classification_report(y_test, y_test_pred))"
   ]
  }
 ],
 "metadata": {
  "kernelspec": {
   "display_name": "Python 3 (ipykernel)",
   "language": "python",
   "name": "python3"
  },
  "language_info": {
   "codemirror_mode": {
    "name": "ipython",
    "version": 3
   },
   "file_extension": ".py",
   "mimetype": "text/x-python",
   "name": "python",
   "nbconvert_exporter": "python",
   "pygments_lexer": "ipython3",
   "version": "3.11.5"
  }
 },
 "nbformat": 4,
 "nbformat_minor": 5
}
